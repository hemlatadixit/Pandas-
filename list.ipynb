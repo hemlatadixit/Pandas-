{
 "cells": [
  {
   "cell_type": "markdown",
   "id": "7134c8ee",
   "metadata": {},
   "source": [
    "## List\n"
   ]
  },
  {
   "cell_type": "markdown",
   "id": "b4004e17",
   "metadata": {},
   "source": [
    "### What is a List? \n",
    "\n",
    "It is data structure in Python and is used to store a multiple values of different types. Lists are collections of\n",
    "items (strings, integers, or even other lists).\n",
    "\n",
    "\n",
    "\n",
    "Each item in the list has an assigned index value.Lists are enclosed in [ ].\n",
    "\n",
    "\n",
    "\n",
    "Each item in a list is separated by a comma. \n",
    "\n",
    "\n",
    "#### Note :  Unlike strings, lists are mutable, which means they can be changed.\n",
    "\n",
    "\n",
    "\n"
   ]
  },
  {
   "cell_type": "markdown",
   "id": "3799db1d",
   "metadata": {},
   "source": [
    "### How to create the list"
   ]
  },
  {
   "cell_type": "code",
   "execution_count": 1,
   "id": "d72a37e5",
   "metadata": {},
   "outputs": [
    {
     "name": "stdout",
     "output_type": "stream",
     "text": [
      "[]\n"
     ]
    }
   ],
   "source": [
    "# empty list\n",
    "l=[]\n",
    "print(l)"
   ]
  },
  {
   "cell_type": "code",
   "execution_count": 2,
   "id": "26d81f94",
   "metadata": {},
   "outputs": [
    {
     "name": "stdout",
     "output_type": "stream",
     "text": [
      "[1, 2, 3, 4]\n"
     ]
    }
   ],
   "source": [
    "### Homogeneous list\n",
    "\n",
    "l1=[1,2,3,4]\n",
    "print(l1)"
   ]
  },
  {
   "cell_type": "code",
   "execution_count": 3,
   "id": "b406cbfa",
   "metadata": {},
   "outputs": [
    {
     "name": "stdout",
     "output_type": "stream",
     "text": [
      "['abc', 1, 2.3, (6+8j)]\n"
     ]
    }
   ],
   "source": [
    "### hetrogeneous list\n",
    "\n",
    "l1=[\"abc\",1,2.3,(6+8j)]\n",
    "print(l1)"
   ]
  },
  {
   "cell_type": "code",
   "execution_count": 4,
   "id": "035bd418",
   "metadata": {},
   "outputs": [],
   "source": [
    "### nested list"
   ]
  },
  {
   "cell_type": "code",
   "execution_count": 5,
   "id": "c364aca8",
   "metadata": {},
   "outputs": [
    {
     "data": {
      "text/plain": [
       "[[[1, 2], [40, 50]], [[4, 5], [100, 200]]]"
      ]
     },
     "execution_count": 5,
     "metadata": {},
     "output_type": "execute_result"
    }
   ],
   "source": [
    "l=[[[1,2],[40,50]],[[4,5],[100,200]]]\n",
    "l"
   ]
  },
  {
   "cell_type": "code",
   "execution_count": 6,
   "id": "5135f2d8",
   "metadata": {},
   "outputs": [
    {
     "name": "stdout",
     "output_type": "stream",
     "text": [
      "[[1, 2, 3], [3, 4, 5]]\n"
     ]
    }
   ],
   "source": [
    "l2=[[1,2,3],[3,4,5]]  ## 2d list\n",
    "print(l2)"
   ]
  },
  {
   "cell_type": "code",
   "execution_count": 7,
   "id": "7992c689",
   "metadata": {},
   "outputs": [
    {
     "name": "stdout",
     "output_type": "stream",
     "text": [
      "[12, 3, [4, 5, 6]]\n"
     ]
    }
   ],
   "source": [
    "l3=[12,3,[4,5,6]]\n",
    "print(l3)"
   ]
  },
  {
   "cell_type": "code",
   "execution_count": 8,
   "id": "d31d94b0",
   "metadata": {},
   "outputs": [
    {
     "name": "stdout",
     "output_type": "stream",
     "text": [
      "[[[1, 2, 3], [4, 5, 6]], [[7, 8, 9], [9, 8, 6]]]\n"
     ]
    }
   ],
   "source": [
    "l4=[[[1,2,3],[4,5,6]],[[7,8,9],[9,8,6]]]  ## 3d list\n",
    "print(l4)"
   ]
  },
  {
   "cell_type": "code",
   "execution_count": 9,
   "id": "f3e5f80a",
   "metadata": {},
   "outputs": [
    {
     "name": "stdout",
     "output_type": "stream",
     "text": [
      "['1', '2', '3']\n"
     ]
    }
   ],
   "source": [
    "## using list constructor : type conversion\n",
    "l=list(\"123\")\n",
    "print(l)"
   ]
  },
  {
   "cell_type": "markdown",
   "id": "f1ddb383",
   "metadata": {},
   "source": [
    "### Accessing the elements of list : indexing  and slicing "
   ]
  },
  {
   "cell_type": "code",
   "execution_count": 10,
   "id": "68396ff0",
   "metadata": {},
   "outputs": [
    {
     "data": {
      "text/plain": [
       "2"
      ]
     },
     "execution_count": 10,
     "metadata": {},
     "output_type": "execute_result"
    }
   ],
   "source": [
    "l=[1,2,3,\"madrid\",\"hello\"]\n",
    "l[1]"
   ]
  },
  {
   "cell_type": "code",
   "execution_count": 11,
   "id": "e2713456",
   "metadata": {},
   "outputs": [
    {
     "data": {
      "text/plain": [
       "'hello'"
      ]
     },
     "execution_count": 11,
     "metadata": {},
     "output_type": "execute_result"
    }
   ],
   "source": [
    "l[-1]"
   ]
  },
  {
   "cell_type": "code",
   "execution_count": 12,
   "id": "0f678a84",
   "metadata": {},
   "outputs": [
    {
     "data": {
      "text/plain": [
       "[3, 'madrid', 'hello']"
      ]
     },
     "execution_count": 12,
     "metadata": {},
     "output_type": "execute_result"
    }
   ],
   "source": [
    "l[2:5]"
   ]
  },
  {
   "cell_type": "code",
   "execution_count": 13,
   "id": "8302414a",
   "metadata": {},
   "outputs": [
    {
     "data": {
      "text/plain": [
       "[1, 3, 'hello']"
      ]
     },
     "execution_count": 13,
     "metadata": {},
     "output_type": "execute_result"
    }
   ],
   "source": [
    "l[0:5:2]"
   ]
  },
  {
   "cell_type": "markdown",
   "id": "64c10ee3",
   "metadata": {},
   "source": [
    "### fetching the elements from nested list"
   ]
  },
  {
   "cell_type": "code",
   "execution_count": 14,
   "id": "48f9ccf6",
   "metadata": {},
   "outputs": [
    {
     "data": {
      "text/plain": [
       "98"
      ]
     },
     "execution_count": 14,
     "metadata": {},
     "output_type": "execute_result"
    }
   ],
   "source": [
    "l=[1,2,3,\"madrid\",\"hello\",[48,98,87,\"abc\"]]\n",
    "## fetch 98\n",
    "\n",
    "l[5][1]"
   ]
  },
  {
   "cell_type": "markdown",
   "id": "1e525e68",
   "metadata": {},
   "source": [
    "or"
   ]
  },
  {
   "cell_type": "code",
   "execution_count": 15,
   "id": "db86c19b",
   "metadata": {},
   "outputs": [
    {
     "data": {
      "text/plain": [
       "98"
      ]
     },
     "execution_count": 15,
     "metadata": {},
     "output_type": "execute_result"
    }
   ],
   "source": [
    "l=[1,2,3,\"madrid\",\"hello\",[48,98,87]]\n",
    "## fetch 98\n",
    "\n",
    "l[-1][1]"
   ]
  },
  {
   "cell_type": "code",
   "execution_count": 16,
   "id": "81ce1e6d",
   "metadata": {},
   "outputs": [
    {
     "data": {
      "text/plain": [
       "'a'"
      ]
     },
     "execution_count": 16,
     "metadata": {},
     "output_type": "execute_result"
    }
   ],
   "source": [
    "l1=[1,2,3,\"madrid\",\"hello\",[48,98,87,100,110]]\n",
    "## fetch 98\n",
    "\n",
    "l1[5][0:3]\n",
    "l1[3][1]"
   ]
  },
  {
   "cell_type": "code",
   "execution_count": 17,
   "id": "6ead79db",
   "metadata": {},
   "outputs": [],
   "source": [
    "### fetch  18"
   ]
  },
  {
   "cell_type": "code",
   "execution_count": 18,
   "id": "cae9cb72",
   "metadata": {},
   "outputs": [
    {
     "data": {
      "text/plain": [
       "18"
      ]
     },
     "execution_count": 18,
     "metadata": {},
     "output_type": "execute_result"
    }
   ],
   "source": [
    "l4=[[[1,2,3],[4,5,6]],[[7,8,9],[19,18,16]]]  ## 3d list\n",
    "l4[1][1][1]"
   ]
  },
  {
   "cell_type": "markdown",
   "id": "8b1a9d99",
   "metadata": {},
   "source": [
    "### list hold mutable property"
   ]
  },
  {
   "cell_type": "code",
   "execution_count": 19,
   "id": "9a027236",
   "metadata": {},
   "outputs": [
    {
     "name": "stdout",
     "output_type": "stream",
     "text": [
      "[1, 2, 3, 4, 56]\n"
     ]
    }
   ],
   "source": [
    "l=[1,2,3,4,5]\n",
    "l[-1]=56  ### unlike string , it works since it is mutable\n",
    "print(l)   "
   ]
  },
  {
   "cell_type": "code",
   "execution_count": 20,
   "id": "12219d19",
   "metadata": {},
   "outputs": [
    {
     "name": "stdout",
     "output_type": "stream",
     "text": [
      "[1, 43, 56, 4, 56]\n"
     ]
    }
   ],
   "source": [
    "l[1:3]=[43,56]  ## add elements 43 and 56 at ist and 2nd indexing\n",
    "print(l)"
   ]
  },
  {
   "cell_type": "markdown",
   "id": "652e70c0",
   "metadata": {},
   "source": [
    "### How to add elements at the end  : using append()\n"
   ]
  },
  {
   "cell_type": "code",
   "execution_count": 21,
   "id": "ef5ed9f9",
   "metadata": {},
   "outputs": [
    {
     "data": {
      "text/plain": [
       "[1, 2, 3, 45, '100']"
      ]
     },
     "execution_count": 21,
     "metadata": {},
     "output_type": "execute_result"
    }
   ],
   "source": [
    "l=[1,2,3,45]\n",
    "l.append(\"100\")\n",
    "l"
   ]
  },
  {
   "cell_type": "code",
   "execution_count": 22,
   "id": "b6f32982",
   "metadata": {},
   "outputs": [
    {
     "name": "stdout",
     "output_type": "stream",
     "text": [
      "[2, 3, 4, 5, 6, 'hello']\n"
     ]
    }
   ],
   "source": [
    "l=[2,3,4,5,6]\n",
    "l.append(\"hello\")\n",
    "print(l)"
   ]
  },
  {
   "cell_type": "code",
   "execution_count": 23,
   "id": "851f7314",
   "metadata": {},
   "outputs": [
    {
     "name": "stdout",
     "output_type": "stream",
     "text": [
      "enter the start5\n",
      "enter the end8\n",
      "5\n",
      "6\n",
      "7\n",
      "8\n"
     ]
    }
   ],
   "source": [
    "start=int(input(\"enter the start\"))\n",
    "end=int(input(\"enter the end\"))\n",
    "l=[]\n",
    "for i in range(start,end+1):\n",
    "    l.append(i)\n",
    "    print(i)\n",
    "    "
   ]
  },
  {
   "cell_type": "markdown",
   "id": "5a2221eb",
   "metadata": {},
   "source": [
    "### How to add multiple elements at the end : using extend()"
   ]
  },
  {
   "cell_type": "code",
   "execution_count": 24,
   "id": "067d5a35",
   "metadata": {},
   "outputs": [
    {
     "name": "stdout",
     "output_type": "stream",
     "text": [
      "[1, 2, 3, 6, 'software', 'madrid']\n"
     ]
    }
   ],
   "source": [
    "l1=[1,2,3,6]\n",
    "l2=[\"software\",\"madrid\"]\n",
    "l1.extend(l2)\n",
    "print(l1)"
   ]
  },
  {
   "cell_type": "code",
   "execution_count": 25,
   "id": "2716b293",
   "metadata": {},
   "outputs": [
    {
     "data": {
      "text/plain": [
       "[1, 2, 3, 6, 'software', 'madrid']"
      ]
     },
     "execution_count": 25,
     "metadata": {},
     "output_type": "execute_result"
    }
   ],
   "source": [
    "l1"
   ]
  },
  {
   "cell_type": "code",
   "execution_count": 26,
   "id": "498ac2a4",
   "metadata": {},
   "outputs": [
    {
     "name": "stdout",
     "output_type": "stream",
     "text": [
      "[1, 2, 3, 6, 'software', 'madrid', 'h', 'e', 'l', 'l', 'o']\n"
     ]
    }
   ],
   "source": [
    "l1.extend(\"hello\")  ## first convert hello into list of leeters then add \n",
    "print(l1) "
   ]
  },
  {
   "cell_type": "code",
   "execution_count": 27,
   "id": "9e481589",
   "metadata": {},
   "outputs": [
    {
     "name": "stdout",
     "output_type": "stream",
     "text": [
      "[1, 2, 3, 6, 'software', 'madrid', 'h', 'e', 'l', 'l', 'o', [3, 6]]\n"
     ]
    }
   ],
   "source": [
    "l1.append([3,6])\n",
    "print(l1)"
   ]
  },
  {
   "cell_type": "markdown",
   "id": "021710b2",
   "metadata": {},
   "source": [
    "### How to add elements at desired location "
   ]
  },
  {
   "cell_type": "code",
   "execution_count": 28,
   "id": "1e60228c",
   "metadata": {},
   "outputs": [
    {
     "name": "stdout",
     "output_type": "stream",
     "text": [
      "[2, 3, 'madrid', 4, 56, 7]\n"
     ]
    }
   ],
   "source": [
    "L1=[2,3,4,56,7]\n",
    "L1.insert(2,\"madrid\")  ## at index 2 insert madrid\n",
    "print(L1)"
   ]
  },
  {
   "cell_type": "markdown",
   "id": "25492c99",
   "metadata": {},
   "source": [
    "### How to delete the element from the list"
   ]
  },
  {
   "cell_type": "markdown",
   "id": "855a2265",
   "metadata": {},
   "source": [
    "- del\n",
    "- remove\n",
    "- pop"
   ]
  },
  {
   "cell_type": "markdown",
   "id": "d2ee4286",
   "metadata": {},
   "source": [
    "## delete whole list"
   ]
  },
  {
   "cell_type": "code",
   "execution_count": 32,
   "id": "a6475b2f",
   "metadata": {},
   "outputs": [],
   "source": [
    "l=[1,2,3,4,5]\n",
    "del l\n"
   ]
  },
  {
   "cell_type": "markdown",
   "id": "4abcc276",
   "metadata": {},
   "source": [
    "## delete particular element based on index "
   ]
  },
  {
   "cell_type": "code",
   "execution_count": 33,
   "id": "b90936ce",
   "metadata": {},
   "outputs": [
    {
     "name": "stdout",
     "output_type": "stream",
     "text": [
      "[100, 200, 300, 400]\n",
      "[100, 200, 400]\n"
     ]
    }
   ],
   "source": [
    "l=[100,200,300,400]\n",
    "print(l)\n",
    "del l[2]\n",
    "print(l)"
   ]
  },
  {
   "cell_type": "code",
   "execution_count": 34,
   "id": "adb26df0",
   "metadata": {},
   "outputs": [
    {
     "name": "stdout",
     "output_type": "stream",
     "text": [
      "[100]\n"
     ]
    }
   ],
   "source": [
    "del l[1:3]\n",
    "print(l)"
   ]
  },
  {
   "cell_type": "code",
   "execution_count": 35,
   "id": "6687ac31",
   "metadata": {},
   "outputs": [
    {
     "name": "stdout",
     "output_type": "stream",
     "text": [
      "5\n",
      "[1, 2, 3, 4]\n"
     ]
    }
   ],
   "source": [
    "l=[1,2,3,4,5]\n",
    "a=l.pop()## deletes last element by default and return pooped element\n",
    "print(a)\n",
    "print(l)"
   ]
  },
  {
   "cell_type": "code",
   "execution_count": 36,
   "id": "772512a9",
   "metadata": {},
   "outputs": [
    {
     "data": {
      "text/plain": [
       "'hello'"
      ]
     },
     "execution_count": 36,
     "metadata": {},
     "output_type": "execute_result"
    }
   ],
   "source": [
    "l=[23,45,6,7,\"hello\"]\n",
    "#l.pop()\n",
    "l.pop()"
   ]
  },
  {
   "cell_type": "code",
   "execution_count": 37,
   "id": "328ac1f7",
   "metadata": {},
   "outputs": [
    {
     "data": {
      "text/plain": [
       "[23, 45, 6, 7]"
      ]
     },
     "execution_count": 37,
     "metadata": {},
     "output_type": "execute_result"
    }
   ],
   "source": [
    "l"
   ]
  },
  {
   "cell_type": "code",
   "execution_count": 38,
   "id": "6260eabb",
   "metadata": {},
   "outputs": [
    {
     "data": {
      "text/plain": [
       "7"
      ]
     },
     "execution_count": 38,
     "metadata": {},
     "output_type": "execute_result"
    }
   ],
   "source": [
    "l.pop()"
   ]
  },
  {
   "cell_type": "code",
   "execution_count": 39,
   "id": "0629aee2",
   "metadata": {},
   "outputs": [
    {
     "data": {
      "text/plain": [
       "[23, 45, 6]"
      ]
     },
     "execution_count": 39,
     "metadata": {},
     "output_type": "execute_result"
    }
   ],
   "source": [
    "l"
   ]
  },
  {
   "cell_type": "code",
   "execution_count": 40,
   "id": "e0ec9b52",
   "metadata": {},
   "outputs": [
    {
     "name": "stdout",
     "output_type": "stream",
     "text": [
      "[1, 2, 3, 4, 5]\n",
      "[1, 2, 3, 4]\n",
      "[1, 2, 3]\n",
      "[1, 2]\n",
      "[1]\n"
     ]
    }
   ],
   "source": [
    "l=[1,2,3,4,5,6]\n",
    "for i in range(0,5):\n",
    "    l.pop()\n",
    "    print(l)"
   ]
  },
  {
   "cell_type": "markdown",
   "id": "c26d4bd6",
   "metadata": {},
   "source": [
    "### Delete the particular element without knowing its index  : using remove"
   ]
  },
  {
   "cell_type": "code",
   "execution_count": 41,
   "id": "bc002e06",
   "metadata": {},
   "outputs": [],
   "source": [
    "l=[200,400,3,1000]"
   ]
  },
  {
   "cell_type": "code",
   "execution_count": 42,
   "id": "9fda4ce2",
   "metadata": {},
   "outputs": [
    {
     "name": "stdout",
     "output_type": "stream",
     "text": [
      "[200, 400, 1000]\n"
     ]
    }
   ],
   "source": [
    "l.remove(3)  ## remove 3\n",
    "print(l)"
   ]
  },
  {
   "cell_type": "code",
   "execution_count": 43,
   "id": "eba76f64",
   "metadata": {},
   "outputs": [
    {
     "ename": "ValueError",
     "evalue": "list.remove(x): x not in list",
     "output_type": "error",
     "traceback": [
      "\u001b[1;31m---------------------------------------------------------------------------\u001b[0m",
      "\u001b[1;31mValueError\u001b[0m                                Traceback (most recent call last)",
      "Input \u001b[1;32mIn [43]\u001b[0m, in \u001b[0;36m<cell line: 1>\u001b[1;34m()\u001b[0m\n\u001b[1;32m----> 1\u001b[0m \u001b[43ml\u001b[49m\u001b[38;5;241;43m.\u001b[39;49m\u001b[43mremove\u001b[49m\u001b[43m(\u001b[49m\u001b[38;5;124;43m\"\u001b[39;49m\u001b[38;5;124;43mk\u001b[39;49m\u001b[38;5;124;43m\"\u001b[39;49m\u001b[43m)\u001b[49m\n",
      "\u001b[1;31mValueError\u001b[0m: list.remove(x): x not in list"
     ]
    }
   ],
   "source": [
    "l.remove(\"k\")"
   ]
  },
  {
   "cell_type": "markdown",
   "id": "d8aa99c8",
   "metadata": {},
   "source": [
    "### how to clear all the elements of list : empty list --- using clear()"
   ]
  },
  {
   "cell_type": "code",
   "execution_count": 45,
   "id": "6adfde10",
   "metadata": {},
   "outputs": [
    {
     "name": "stdout",
     "output_type": "stream",
     "text": [
      "[]\n"
     ]
    }
   ],
   "source": [
    "l.clear()\n",
    "print(l)"
   ]
  },
  {
   "cell_type": "markdown",
   "id": "01f54230",
   "metadata": {},
   "source": [
    "### list operations"
   ]
  },
  {
   "cell_type": "markdown",
   "id": "14170c8c",
   "metadata": {},
   "source": [
    "1- concatenation\n",
    "\n",
    "2- replication\n",
    "\n",
    "3-membership opertors : in and not in"
   ]
  },
  {
   "cell_type": "code",
   "execution_count": 46,
   "id": "3de5bc3d",
   "metadata": {},
   "outputs": [
    {
     "name": "stdout",
     "output_type": "stream",
     "text": [
      "[1, 2, 3, 200, 400]\n"
     ]
    }
   ],
   "source": [
    "l=[1,2,3]+[200,400]\n",
    "print(l)"
   ]
  },
  {
   "cell_type": "code",
   "execution_count": 47,
   "id": "c11b7592",
   "metadata": {},
   "outputs": [
    {
     "name": "stdout",
     "output_type": "stream",
     "text": [
      "[1, 2, 3, 1, 2, 3, 1, 2, 3, 1, 2, 3, 1, 2, 3]\n"
     ]
    }
   ],
   "source": [
    "l=[1,2,3]*5\n",
    "print(l)"
   ]
  },
  {
   "cell_type": "markdown",
   "id": "1d4cf21b",
   "metadata": {},
   "source": [
    "membership opertors : in and not in"
   ]
  },
  {
   "cell_type": "code",
   "execution_count": 48,
   "id": "1099412b",
   "metadata": {},
   "outputs": [
    {
     "data": {
      "text/plain": [
       "['__add__',\n",
       " '__class__',\n",
       " '__class_getitem__',\n",
       " '__contains__',\n",
       " '__delattr__',\n",
       " '__delitem__',\n",
       " '__dir__',\n",
       " '__doc__',\n",
       " '__eq__',\n",
       " '__format__',\n",
       " '__ge__',\n",
       " '__getattribute__',\n",
       " '__getitem__',\n",
       " '__gt__',\n",
       " '__hash__',\n",
       " '__iadd__',\n",
       " '__imul__',\n",
       " '__init__',\n",
       " '__init_subclass__',\n",
       " '__iter__',\n",
       " '__le__',\n",
       " '__len__',\n",
       " '__lt__',\n",
       " '__mul__',\n",
       " '__ne__',\n",
       " '__new__',\n",
       " '__reduce__',\n",
       " '__reduce_ex__',\n",
       " '__repr__',\n",
       " '__reversed__',\n",
       " '__rmul__',\n",
       " '__setattr__',\n",
       " '__setitem__',\n",
       " '__sizeof__',\n",
       " '__str__',\n",
       " '__subclasshook__',\n",
       " 'append',\n",
       " 'clear',\n",
       " 'copy',\n",
       " 'count',\n",
       " 'extend',\n",
       " 'index',\n",
       " 'insert',\n",
       " 'pop',\n",
       " 'remove',\n",
       " 'reverse',\n",
       " 'sort']"
      ]
     },
     "execution_count": 48,
     "metadata": {},
     "output_type": "execute_result"
    }
   ],
   "source": [
    "dir(list)"
   ]
  },
  {
   "cell_type": "code",
   "execution_count": 49,
   "id": "52f6e83d",
   "metadata": {},
   "outputs": [
    {
     "data": {
      "text/plain": [
       "True"
      ]
     },
     "execution_count": 49,
     "metadata": {},
     "output_type": "execute_result"
    }
   ],
   "source": [
    "l1=[1,2,3,[45,67]]\n",
    "[45,67] in l1  ##"
   ]
  },
  {
   "cell_type": "markdown",
   "id": "e5f47ced",
   "metadata": {},
   "source": [
    "### Functions \n",
    "\n",
    "1- min(common)\n",
    "\n",
    "2- max(common)\n",
    "\n",
    "3- len(common)\n",
    "\n",
    "4- sorted(common)\n",
    "\n",
    "------------------------------------------------------\n",
    "1. reverse()\n",
    "\n",
    "2. count()\n",
    "\n",
    "3. sort()\n",
    "\n",
    "4. append()\n",
    "\n",
    "5. clear()\n",
    "\n",
    "6. extend()\n",
    "\n",
    "7. index()\n",
    "\n",
    "8. insert()\n",
    "\n",
    "9. pop()\n",
    "\n",
    "10. remove()\n",
    "\n"
   ]
  },
  {
   "cell_type": "code",
   "execution_count": 50,
   "id": "14894354",
   "metadata": {},
   "outputs": [
    {
     "data": {
      "text/plain": [
       "3"
      ]
     },
     "execution_count": 50,
     "metadata": {},
     "output_type": "execute_result"
    }
   ],
   "source": [
    "l=[100,400,200]\n",
    "len(l)"
   ]
  },
  {
   "cell_type": "code",
   "execution_count": 51,
   "id": "cb8dbad8",
   "metadata": {},
   "outputs": [
    {
     "data": {
      "text/plain": [
       "400"
      ]
     },
     "execution_count": 51,
     "metadata": {},
     "output_type": "execute_result"
    }
   ],
   "source": [
    "l=[100,400,200]\n",
    "max(l)\n"
   ]
  },
  {
   "cell_type": "code",
   "execution_count": 52,
   "id": "2be130d3",
   "metadata": {},
   "outputs": [
    {
     "data": {
      "text/plain": [
       "'r'"
      ]
     },
     "execution_count": 52,
     "metadata": {},
     "output_type": "execute_result"
    }
   ],
   "source": [
    "s=\"madrid\"\n",
    "max(s)"
   ]
  },
  {
   "cell_type": "code",
   "execution_count": 53,
   "id": "c7012bd1",
   "metadata": {},
   "outputs": [
    {
     "data": {
      "text/plain": [
       "[100, 200, 300, 400]"
      ]
     },
     "execution_count": 53,
     "metadata": {},
     "output_type": "execute_result"
    }
   ],
   "source": [
    "l=[200,300,400,100]\n",
    "sorted(l)\n"
   ]
  },
  {
   "cell_type": "code",
   "execution_count": 54,
   "id": "3839f39a",
   "metadata": {},
   "outputs": [
    {
     "data": {
      "text/plain": [
       "[400, 300, 200, 100]"
      ]
     },
     "execution_count": 54,
     "metadata": {},
     "output_type": "execute_result"
    }
   ],
   "source": [
    "l.sort(reverse=True)\n",
    "l"
   ]
  },
  {
   "cell_type": "code",
   "execution_count": 55,
   "id": "64cca277",
   "metadata": {},
   "outputs": [
    {
     "data": {
      "text/plain": [
       "['a', 'd', 'd', 'i', 'm', 'r']"
      ]
     },
     "execution_count": 55,
     "metadata": {},
     "output_type": "execute_result"
    }
   ],
   "source": [
    "s=\"madrid\"\n",
    "sorted(s)"
   ]
  },
  {
   "cell_type": "code",
   "execution_count": 56,
   "id": "c87602f0",
   "metadata": {},
   "outputs": [
    {
     "data": {
      "text/plain": [
       "[400, 300, 200, 100]"
      ]
     },
     "execution_count": 56,
     "metadata": {},
     "output_type": "execute_result"
    }
   ],
   "source": [
    "l"
   ]
  },
  {
   "cell_type": "code",
   "execution_count": 57,
   "id": "abfaa813",
   "metadata": {},
   "outputs": [
    {
     "data": {
      "text/plain": [
       "['r', 'm', 'i', 'd', 'd', 'a']"
      ]
     },
     "execution_count": 57,
     "metadata": {},
     "output_type": "execute_result"
    }
   ],
   "source": [
    "s=\"madrid\"\n",
    "sorted(s,reverse=True)"
   ]
  },
  {
   "cell_type": "code",
   "execution_count": 58,
   "id": "8782b327",
   "metadata": {},
   "outputs": [
    {
     "data": {
      "text/plain": [
       "100"
      ]
     },
     "execution_count": 58,
     "metadata": {},
     "output_type": "execute_result"
    }
   ],
   "source": [
    "l=[100,400,200]\n",
    "min(l)"
   ]
  },
  {
   "cell_type": "code",
   "execution_count": 59,
   "id": "63e18917",
   "metadata": {},
   "outputs": [
    {
     "ename": "TypeError",
     "evalue": "'<' not supported between instances of 'str' and 'int'",
     "output_type": "error",
     "traceback": [
      "\u001b[1;31m---------------------------------------------------------------------------\u001b[0m",
      "\u001b[1;31mTypeError\u001b[0m                                 Traceback (most recent call last)",
      "Input \u001b[1;32mIn [59]\u001b[0m, in \u001b[0;36m<cell line: 2>\u001b[1;34m()\u001b[0m\n\u001b[0;32m      1\u001b[0m l\u001b[38;5;241m=\u001b[39m[\u001b[38;5;241m100\u001b[39m,\u001b[38;5;241m400\u001b[39m,\u001b[38;5;241m200\u001b[39m,\u001b[38;5;124m\"\u001b[39m\u001b[38;5;124mbalmeet\u001b[39m\u001b[38;5;124m\"\u001b[39m]\n\u001b[1;32m----> 2\u001b[0m \u001b[38;5;28;43mmin\u001b[39;49m\u001b[43m(\u001b[49m\u001b[43ml\u001b[49m\u001b[43m)\u001b[49m\n",
      "\u001b[1;31mTypeError\u001b[0m: '<' not supported between instances of 'str' and 'int'"
     ]
    }
   ],
   "source": [
    "l=[100,400,200,\"balmeet\"]\n",
    "min(l)"
   ]
  },
  {
   "cell_type": "code",
   "execution_count": 60,
   "id": "002cc7a0",
   "metadata": {},
   "outputs": [
    {
     "data": {
      "text/plain": [
       "'aabbcc'"
      ]
     },
     "execution_count": 60,
     "metadata": {},
     "output_type": "execute_result"
    }
   ],
   "source": [
    "l=[\"aabbcc\",\"hello\",\"abc\",\"balmeet\"]\n",
    "min(l)  ## based on lexiographic"
   ]
  },
  {
   "cell_type": "markdown",
   "id": "efcec5fe",
   "metadata": {},
   "source": [
    "### Difference between sorted and sort \n",
    "\n",
    "sorted creates new list \n",
    "\n",
    "while sort does not `"
   ]
  },
  {
   "cell_type": "code",
   "execution_count": 61,
   "id": "3901ca12",
   "metadata": {},
   "outputs": [
    {
     "data": {
      "text/plain": [
       "['e', 'h', 'l', 'l', 'o']"
      ]
     },
     "execution_count": 61,
     "metadata": {},
     "output_type": "execute_result"
    }
   ],
   "source": [
    "s=\"hello\"\n",
    "sorted(s)"
   ]
  },
  {
   "cell_type": "code",
   "execution_count": 62,
   "id": "b3c8a8d8",
   "metadata": {},
   "outputs": [
    {
     "name": "stdout",
     "output_type": "stream",
     "text": [
      "[20, 90, 100, 43]\n",
      "[100, 90, 43, 20]\n"
     ]
    }
   ],
   "source": [
    "l=[20,90,100,43]\n",
    "l1=sorted(l,reverse=True) ## create a  new list\n",
    "print(l)\n",
    "print(l1)"
   ]
  },
  {
   "cell_type": "code",
   "execution_count": 63,
   "id": "4c278887",
   "metadata": {},
   "outputs": [
    {
     "name": "stdout",
     "output_type": "stream",
     "text": [
      "None\n",
      "[400, 300, 200, 100]\n"
     ]
    }
   ],
   "source": [
    "l=[200,300,400,100]\n",
    "l2=l.sort(reverse=True)  \n",
    "print(l2)   \n",
    "print(l)"
   ]
  },
  {
   "cell_type": "code",
   "execution_count": 64,
   "id": "dcfab2c0",
   "metadata": {},
   "outputs": [
    {
     "name": "stdout",
     "output_type": "stream",
     "text": [
      "[87, 56, -1]\n"
     ]
    }
   ],
   "source": [
    "l=[-1,56,87]\n",
    "l.reverse()\n",
    "print(l)"
   ]
  },
  {
   "cell_type": "code",
   "execution_count": 65,
   "id": "ca9320f7",
   "metadata": {},
   "outputs": [
    {
     "data": {
      "text/plain": [
       "2"
      ]
     },
     "execution_count": 65,
     "metadata": {},
     "output_type": "execute_result"
    }
   ],
   "source": [
    "L=[\"M\",\"MEET\",\"meet\",\"preet\",\"MEET\"]\n",
    "L.count(\"MEET\")"
   ]
  },
  {
   "cell_type": "markdown",
   "id": "740cb14d",
   "metadata": {},
   "source": [
    "### iteration on list"
   ]
  },
  {
   "cell_type": "code",
   "execution_count": 66,
   "id": "44135919",
   "metadata": {},
   "outputs": [
    {
     "name": "stdout",
     "output_type": "stream",
     "text": [
      "1\n",
      "2\n",
      "3\n",
      "[45, 67]\n"
     ]
    }
   ],
   "source": [
    "l1=[1,2,3,[45,67]]\n",
    "for i in l1:\n",
    "    print(i)"
   ]
  },
  {
   "cell_type": "code",
   "execution_count": 67,
   "id": "172c4e45",
   "metadata": {},
   "outputs": [],
   "source": [
    "l1=[\"he\",\"we \",\"py\"]\n",
    "l2=[\"re\",\"learn\",\"on\"]\n",
    "l=[\"here\",\"helearn\",\"heon\",\"we re\",\"we learn\",\"we on\",\"python\",\"pylearn\",\"pyon\"]"
   ]
  },
  {
   "cell_type": "code",
   "execution_count": 68,
   "id": "5492a6ec",
   "metadata": {},
   "outputs": [
    {
     "name": "stdout",
     "output_type": "stream",
     "text": [
      "['here', 'helearn', 'heon', 'we re', 'we learn', 'we on', 'pyre', 'pylearn', 'pyon']\n"
     ]
    }
   ],
   "source": [
    "l=[]\n",
    "for i in l1:\n",
    "    for j in l2:\n",
    "        l.append(i+j)\n",
    "print(l)"
   ]
  },
  {
   "cell_type": "code",
   "execution_count": 69,
   "id": "d844e9e4",
   "metadata": {},
   "outputs": [],
   "source": [
    "l1=[\"he\",\"we \",\"py\"]\n",
    "l2=[\"re\",\"learn\",\"ton\"]\n",
    "l=[\"here\",\"we learn\",\"python\"]"
   ]
  },
  {
   "cell_type": "code",
   "execution_count": 70,
   "id": "cf99672d",
   "metadata": {},
   "outputs": [
    {
     "data": {
      "text/plain": [
       "[(1, 'one'), (2, 'two'), (3, 'three'), (4, 'four'), (5, 'five')]"
      ]
     },
     "execution_count": 70,
     "metadata": {},
     "output_type": "execute_result"
    }
   ],
   "source": [
    "l1=[1,2,3,4,5]\n",
    "l2=[\"one\",\"two\",\"three\",\"four\",\"five\"]\n",
    "list(zip(l1,l2))"
   ]
  },
  {
   "cell_type": "code",
   "execution_count": 71,
   "id": "b25ba2ae",
   "metadata": {},
   "outputs": [
    {
     "name": "stdout",
     "output_type": "stream",
     "text": [
      "[('p', 'c'), ('y', 'o'), ('t', 'r'), ('h', 'e')]\n"
     ]
    },
    {
     "data": {
      "text/plain": [
       "'t'"
      ]
     },
     "execution_count": 71,
     "metadata": {},
     "output_type": "execute_result"
    }
   ],
   "source": [
    "s1=\"python\"\n",
    "s2=\"core\"\n",
    "l1=list(zip(s1,s2))\n",
    "print(l1)\n",
    "l1[2][0]"
   ]
  },
  {
   "cell_type": "markdown",
   "id": "f6fab98c",
   "metadata": {},
   "source": [
    "### List comprehensions"
   ]
  },
  {
   "cell_type": "markdown",
   "id": "cd17e1b4",
   "metadata": {},
   "source": [
    "### List comprehensions are used for creating new lists from other iterables like tuples, strings,arrays, lists, etc. \n",
    "\n",
    "\n",
    "List comprehension offers a shorter syntax when you want to create a new list based on the values of an existing list.\n",
    "\n",
    "\n",
    "\n",
    "Syntax:\n",
    "newList = [ expression(element) for element in oldList if condition ]"
   ]
  },
  {
   "cell_type": "code",
   "execution_count": 72,
   "id": "7b5393eb",
   "metadata": {},
   "outputs": [
    {
     "data": {
      "text/plain": [
       "['odd ', 2, 'odd ', 4, 'odd ', 6, 'odd ', 8, 'odd ']"
      ]
     },
     "execution_count": 72,
     "metadata": {},
     "output_type": "execute_result"
    }
   ],
   "source": [
    "[i if i%2==0 else \"odd \"for i in range(1,10) ]"
   ]
  },
  {
   "cell_type": "code",
   "execution_count": 73,
   "id": "66cf4e97",
   "metadata": {},
   "outputs": [
    {
     "data": {
      "text/plain": [
       "[1, 2, 3, 4, 5, 6, 7, 8, 9]"
      ]
     },
     "execution_count": 73,
     "metadata": {},
     "output_type": "execute_result"
    }
   ],
   "source": [
    "[i for i in range(1,10)]"
   ]
  },
  {
   "cell_type": "markdown",
   "id": "652f4fa0",
   "metadata": {},
   "source": [
    "### create a square list of given list [2,3,4,5,67,100]"
   ]
  },
  {
   "cell_type": "code",
   "execution_count": 74,
   "id": "68df7930",
   "metadata": {},
   "outputs": [
    {
     "name": "stdout",
     "output_type": "stream",
     "text": [
      "[4, 9, 16, 25, 4489, 10000]\n"
     ]
    }
   ],
   "source": [
    "l1=[2,3,4,5,67,100]\n",
    "square = []\n",
    "for x in l1:\n",
    "    square.append(x**2)\n",
    "print(square)"
   ]
  },
  {
   "cell_type": "markdown",
   "id": "16c660e8",
   "metadata": {},
   "source": [
    "above question using list comprehension"
   ]
  },
  {
   "cell_type": "code",
   "execution_count": 75,
   "id": "2014f07e",
   "metadata": {},
   "outputs": [
    {
     "name": "stdout",
     "output_type": "stream",
     "text": [
      "[4, 9, 16, 25, 4489, 10000]\n"
     ]
    }
   ],
   "source": [
    "l1=[i*i for i in l1]\n",
    "print(l1)"
   ]
  },
  {
   "cell_type": "markdown",
   "id": "4573b79e",
   "metadata": {},
   "source": [
    "### square of all odd numbers from range 1 to 10 using list comprehension"
   ]
  },
  {
   "cell_type": "code",
   "execution_count": 76,
   "id": "8ee7aef0",
   "metadata": {},
   "outputs": [
    {
     "name": "stdout",
     "output_type": "stream",
     "text": [
      "[1, 9, 25, 49, 81]\n"
     ]
    }
   ],
   "source": [
    "odd_square = []\n",
    "for x in range(1, 11):\n",
    "    if x % 2 == 1:\n",
    "        odd_square.append(x**2)\n",
    "print(odd_square)"
   ]
  },
  {
   "cell_type": "code",
   "execution_count": 77,
   "id": "d7127dea",
   "metadata": {},
   "outputs": [
    {
     "name": "stdout",
     "output_type": "stream",
     "text": [
      "[1, 9, 25, 49, 81]\n"
     ]
    }
   ],
   "source": [
    "# below list contains square of all odd numbers from range 1 to 10\n",
    "odd_square = [x ** 2 for x in range(1, 11) if x % 2 !=0]\n",
    "print(odd_square)\n"
   ]
  },
  {
   "cell_type": "code",
   "execution_count": 78,
   "id": "6418c632",
   "metadata": {},
   "outputs": [
    {
     "name": "stdout",
     "output_type": "stream",
     "text": [
      "[1, '', 9, '', 25, '', 49, '', 81, '']\n"
     ]
    }
   ],
   "source": [
    "# below list contains square of all odd numbers from range 1 to 10\n",
    "odd_square = [x ** 2 if x % 2 !=0 else \"\" for x in range(1, 11) ]\n",
    "print(odd_square)"
   ]
  },
  {
   "cell_type": "markdown",
   "id": "2ae2a0bc",
   "metadata": {},
   "source": [
    "l=[[2,3,4],[5,6,7],[8,9,0]]\n",
    "\n",
    "fetch [5,6,7] using list comprehension"
   ]
  },
  {
   "cell_type": "code",
   "execution_count": 79,
   "id": "d2dfcb1b",
   "metadata": {},
   "outputs": [
    {
     "data": {
      "text/plain": [
       "[5, 6, 7]"
      ]
     },
     "execution_count": 79,
     "metadata": {},
     "output_type": "execute_result"
    }
   ],
   "source": [
    "l=[[2,3,4],[5,6,7],[8,9,0]]\n",
    "l[1]"
   ]
  },
  {
   "cell_type": "code",
   "execution_count": 80,
   "id": "0f84d2a1",
   "metadata": {},
   "outputs": [
    {
     "data": {
      "text/plain": [
       "['yes it is present']"
      ]
     },
     "execution_count": 80,
     "metadata": {},
     "output_type": "execute_result"
    }
   ],
   "source": [
    "[\"yes it is present\" for i in l if i==[5,6,7]]"
   ]
  },
  {
   "cell_type": "code",
   "execution_count": 81,
   "id": "127a7564",
   "metadata": {},
   "outputs": [],
   "source": [
    "l=[[2,3,4],[5,6,7],[8,9,0]]\n",
    "l1= [ i for i in l if i==[5,6,7]]  "
   ]
  },
  {
   "cell_type": "markdown",
   "id": "c7c61c1a",
   "metadata": {},
   "source": [
    "why getting 2 brackets because list comprehension returns the list which contains element [5,6,7] itself a list"
   ]
  },
  {
   "cell_type": "markdown",
   "id": "2de5af15",
   "metadata": {},
   "source": [
    "### Take 10 integer inputs from user and store them in a list and print them on screen."
   ]
  },
  {
   "cell_type": "markdown",
   "id": "ed0e2784",
   "metadata": {},
   "source": [
    "### Take 10 integer inputs from user and store them in a list. Again ask user to give a number. Now, tell user whether that number is present in list or not.\n",
    "( Iterate over list using while loop )"
   ]
  },
  {
   "cell_type": "code",
   "execution_count": 84,
   "id": "f3ce3739",
   "metadata": {},
   "outputs": [
    {
     "name": "stdout",
     "output_type": "stream",
     "text": [
      "enter the numberpooja\n"
     ]
    },
    {
     "ename": "ValueError",
     "evalue": "invalid literal for int() with base 10: 'pooja'",
     "output_type": "error",
     "traceback": [
      "\u001b[1;31m---------------------------------------------------------------------------\u001b[0m",
      "\u001b[1;31mValueError\u001b[0m                                Traceback (most recent call last)",
      "Input \u001b[1;32mIn [84]\u001b[0m, in \u001b[0;36m<cell line: 3>\u001b[1;34m()\u001b[0m\n\u001b[0;32m      2\u001b[0m flag\u001b[38;5;241m=\u001b[39m\u001b[38;5;241m0\u001b[39m\n\u001b[0;32m      3\u001b[0m \u001b[38;5;28;01mfor\u001b[39;00m i \u001b[38;5;129;01min\u001b[39;00m \u001b[38;5;28mrange\u001b[39m(\u001b[38;5;241m1\u001b[39m,\u001b[38;5;241m10\u001b[39m):\n\u001b[1;32m----> 4\u001b[0m     l\u001b[38;5;241m=\u001b[39m\u001b[38;5;28;43mint\u001b[39;49m\u001b[43m(\u001b[49m\u001b[38;5;28;43minput\u001b[39;49m\u001b[43m(\u001b[49m\u001b[38;5;124;43m\"\u001b[39;49m\u001b[38;5;124;43menter the number\u001b[39;49m\u001b[38;5;124;43m\"\u001b[39;49m\u001b[43m)\u001b[49m\u001b[43m)\u001b[49m\n\u001b[0;32m      5\u001b[0m     l\u001b[38;5;241m.\u001b[39mappend(i)\n\u001b[0;32m      6\u001b[0m \u001b[38;5;28mprint\u001b[39m(l)\n",
      "\u001b[1;31mValueError\u001b[0m: invalid literal for int() with base 10: 'pooja'"
     ]
    }
   ],
   "source": [
    "l=[]\n",
    "flag=0\n",
    "for i in range(1,10):\n",
    "    l=int(input(\"enter the number\"))\n",
    "    l.append(i)\n",
    "print(l)\n",
    "element=int(input(\"enter the number to be searched\"))\n",
    "for j in l:\n",
    "    if j==element:\n",
    "        flag=1\n",
    "if flag==1:\n",
    "    print(\"the element is present\")\n",
    "else:\n",
    "    print(\"not presenrt\")\n"
   ]
  },
  {
   "cell_type": "markdown",
   "id": "21159e42",
   "metadata": {},
   "source": [
    "###### Take 10 integer inputs from user and store them in a list. Now, copy all the elements in another list but in reverse order."
   ]
  },
  {
   "cell_type": "markdown",
   "id": "9cd4e04f",
   "metadata": {},
   "source": [
    "### Take a list of 10 elements. Split it into middle and store the elements in two dfferent lists. E.g.-"
   ]
  },
  {
   "cell_type": "markdown",
   "id": "e7258a24",
   "metadata": {},
   "source": [
    "### Ask user to give integer inputs to make a list. Store only even values given and print the list."
   ]
  },
  {
   "cell_type": "markdown",
   "id": "0004ba03",
   "metadata": {},
   "source": [
    "### WAP to print those fruits which startswith a using list comprehension"
   ]
  },
  {
   "cell_type": "markdown",
   "id": "9c14dac3",
   "metadata": {},
   "source": [
    "###  Write a Python program to remove duplicates from a list."
   ]
  },
  {
   "cell_type": "code",
   "execution_count": null,
   "id": "6c85eade",
   "metadata": {},
   "outputs": [],
   "source": [
    "fruits=[\"apple\",\"avacado\",\"kiwi\",\"cherry\"]\n",
    "[ fruit for fruit in fruits if fruit.startswith(\"a\")]"
   ]
  },
  {
   "cell_type": "markdown",
   "id": "df7bf32f",
   "metadata": {},
   "source": [
    "### WAP to check whether thr number id palindrome or not"
   ]
  },
  {
   "cell_type": "code",
   "execution_count": 85,
   "id": "942139fa",
   "metadata": {},
   "outputs": [
    {
     "name": "stdout",
     "output_type": "stream",
     "text": [
      "enter the number :  \n"
     ]
    },
    {
     "ename": "ValueError",
     "evalue": "invalid literal for int() with base 10: ''",
     "output_type": "error",
     "traceback": [
      "\u001b[1;31m---------------------------------------------------------------------------\u001b[0m",
      "\u001b[1;31mValueError\u001b[0m                                Traceback (most recent call last)",
      "Input \u001b[1;32mIn [85]\u001b[0m, in \u001b[0;36m<cell line: 1>\u001b[1;34m()\u001b[0m\n\u001b[1;32m----> 1\u001b[0m num\u001b[38;5;241m=\u001b[39m\u001b[38;5;28;43mint\u001b[39;49m\u001b[43m(\u001b[49m\u001b[38;5;28;43minput\u001b[39;49m\u001b[43m(\u001b[49m\u001b[38;5;124;43m\"\u001b[39;49m\u001b[38;5;124;43menter the number :  \u001b[39;49m\u001b[38;5;124;43m\"\u001b[39;49m\u001b[43m)\u001b[49m\u001b[43m)\u001b[49m\n\u001b[0;32m      2\u001b[0m \u001b[38;5;28msum\u001b[39m\u001b[38;5;241m=\u001b[39m\u001b[38;5;241m0\u001b[39m\n\u001b[0;32m      3\u001b[0m n1\u001b[38;5;241m=\u001b[39mnum\n",
      "\u001b[1;31mValueError\u001b[0m: invalid literal for int() with base 10: ''"
     ]
    }
   ],
   "source": [
    "num=int(input(\"enter the number :  \"))\n",
    "sum=0\n",
    "n1=num\n",
    "while n1>0:\n",
    "    r=n1%10\n",
    "    n1=n1//10\n",
    "    sum=sum*10+r\n",
    "print(\"the reverse of {} is {}\".format(num,sum))\n",
    "if(num==sum):\n",
    "    print(\"the entered number is palindrome\")\n",
    "else:\n",
    "    print(\"not palindrome\")\n"
   ]
  },
  {
   "cell_type": "markdown",
   "id": "8312487d",
   "metadata": {},
   "source": [
    "### wao to display samllest in list"
   ]
  },
  {
   "cell_type": "code",
   "execution_count": 86,
   "id": "daf59e58",
   "metadata": {},
   "outputs": [
    {
     "name": "stdout",
     "output_type": "stream",
     "text": [
      "enter the numbers in list\n",
      "\n"
     ]
    }
   ],
   "source": [
    "l=input(\"enter the numbers in list\").split(\",\")\n",
    "smallest=l[0]\n",
    "for i in l[1:]:\n",
    "    if i<smallest:\n",
    "        smallest=i\n",
    "print(smallest)\n"
   ]
  },
  {
   "cell_type": "markdown",
   "id": "e4bd197b",
   "metadata": {},
   "source": [
    "### wap to display the reverse of list of numbers "
   ]
  },
  {
   "cell_type": "markdown",
   "id": "6f17e0ac",
   "metadata": {},
   "source": [
    "### wap to display the cube of all elements of nested list"
   ]
  },
  {
   "cell_type": "code",
   "execution_count": null,
   "id": "b9c0bb66",
   "metadata": {},
   "outputs": [],
   "source": [
    "\n",
    "l1=[1,2,3]\n",
    "l2=[4,5,6]\n",
    "l3=[7,8,9]\n",
    "l=[l1,l2,l3]\n",
    "final_l=[]\n",
    "print(l)\n",
    "for i in range(0,3):\n",
    "    for j in range(0,3):\n",
    "        a=l[i][j]**3\n",
    "        print(a)\n",
    "        final_l.append(a)\n",
    "print(\"the final list is : \",final_l)\n",
    "   "
   ]
  },
  {
   "cell_type": "markdown",
   "id": "a1dc4113",
   "metadata": {},
   "source": [
    "### wap to remove duplicants"
   ]
  },
  {
   "cell_type": "code",
   "execution_count": null,
   "id": "f3ae776e",
   "metadata": {},
   "outputs": [],
   "source": [
    "l1=[1,2,3,4,4,5,6,7,7,8,7]\n",
    "l1.remove(7)\n",
    "l1"
   ]
  },
  {
   "cell_type": "code",
   "execution_count": null,
   "id": "389a64c6",
   "metadata": {},
   "outputs": [],
   "source": [
    "l=[1,2,7,3,4,4,5,6,7,8,7]\n",
    "el=int(input(\"enter the element to be removed\"))\n",
    "for i in l:\n",
    "    print(\"i-----\",i)\n",
    "    if i==7:\n",
    "        print(i)\n",
    "        l.remove(i)\n",
    "print(l)"
   ]
  },
  {
   "cell_type": "markdown",
   "id": "f99f1e3d",
   "metadata": {},
   "source": [
    "###  wap to display the sqaure of even numbers else cube of list using list comprehension"
   ]
  },
  {
   "cell_type": "code",
   "execution_count": null,
   "id": "fe6420b5",
   "metadata": {},
   "outputs": [],
   "source": [
    "l=[2,3,4,5,6]\n",
    "l1=[i**2 if i%2==0 else i**3  for i in l]\n",
    "print(l1)"
   ]
  },
  {
   "cell_type": "markdown",
   "id": "b7fc91f8",
   "metadata": {},
   "source": [
    "## list questions: "
   ]
  },
  {
   "cell_type": "code",
   "execution_count": null,
   "id": "41225fa6",
   "metadata": {},
   "outputs": [],
   "source": [
    "'''\n",
    "given : l=[[\"abc\",\"def\",\"ghs\"],[1,2,3,4,5]]\n",
    "wap to return the length of the element in list if the element is string and return square if element is number\n",
    "'''\n",
    "\n",
    "l=[[\"abc\",\"def\",\"ghs\"],[1,2,3,4,5]]\n",
    "for i in l:\n",
    "    for j in i:\n",
    "        if type(j)==str:\n",
    "            print(\"the length of the string is :  \", len(j))\n",
    "        elif type(j)==int:\n",
    "            print(\"the square of the number is : \", j**2)"
   ]
  },
  {
   "cell_type": "code",
   "execution_count": null,
   "id": "a1928afb",
   "metadata": {},
   "outputs": [],
   "source": [
    "'''we have a list of party attendees according to their time of reaching venue means  \"adela\" reached to the party\n",
    "early than \"fleda\" and golu came at last and so on \n",
    "a guest is considered \"fashionably late\" if they arrived after at least half of the part's guest .\n",
    "however, they must no be very last guest(that is taking too far). \n",
    "in this mona nd gilbert are the only guest who were fashionably late.\n",
    "\n",
    "guest_list=[\"adela\",\"fleda\",\"owen\", \"may\",\"mona\",\"gilbert\", \"ford\", \"golu\"]\n",
    "\n",
    "'''\n",
    "guest_list=[\"adela\",\"fleda\",\"owen\", \"may\",\"mona\",\"gilbert\", \"ford\", \"golu\"]\n",
    "number_half_party_guest=len(guest_list)/2\n",
    "print(number_half_party_guest)\n",
    "for i in range(0,len(guest_list)-1):\n",
    "    if i>=number_half_party_guest:\n",
    "        print(\"the fashionalbly guest are :\", guest_list[i])\n",
    "    "
   ]
  },
  {
   "cell_type": "markdown",
   "id": "7422244b",
   "metadata": {},
   "source": [
    "### Write a program to print all the numbers in a list whose all digits are div by 2 and the range is 100 to 400."
   ]
  },
  {
   "cell_type": "markdown",
   "id": "da51dec6",
   "metadata": {},
   "source": [
    "#### '''Write a Python program to print a specified list after removing the 0th, 4th and 5th elements.\n",
    "l = ['Red', 'Green', 'White', 'Black', 'Pink', 'Yellow']\n",
    "[\"red\",\"pink\",\"yellow\"] and also print the removed element as well in list\n",
    "'''\n",
    "\n",
    "\n",
    "\n",
    "\n",
    "    \n",
    "    \n",
    "    "
   ]
  },
  {
   "cell_type": "code",
   "execution_count": null,
   "id": "d5d0612b",
   "metadata": {},
   "outputs": [],
   "source": [
    "'''Wap to remove the elements from the list based on the user entered element\n",
    "'''\n",
    "s=int(input(\"enter the size of the list\"))\n",
    "l=[]\n",
    "flag=0\n",
    "for i in range(0,s):\n",
    "    e=int(input('enter the element in the list \\n '))\n",
    "    l.append(e)\n",
    "print(\"the list is :\",l)\n",
    "search_element=int(input(\"enter the search element  \"))\n",
    "for ch in l:\n",
    "    if ch==search_element:\n",
    "        l.remove(ch)\n",
    "        flag=1\n",
    "if flag==0:\n",
    "    print(\"the searched element is not found in the list \")\n",
    "else:\n",
    "    print(\"the list after removing searched element is  \", l)\n",
    "\n",
    "    "
   ]
  },
  {
   "cell_type": "code",
   "execution_count": null,
   "id": "65820327",
   "metadata": {},
   "outputs": [],
   "source": [
    "'''wap to remove the element at a particular index  based on the  index value given by user and display removed element and \n",
    "updated list after removing elements'''\n",
    "s=int(input(\"enter the size of the list\"))\n",
    "l=[]\n",
    "popped_list=[]\n",
    "for i in range(0,s):\n",
    "    e=int(input('enter the element in the list \\n '))\n",
    "    l.append(e)\n",
    "print(\"the list is :\",l)\n",
    "while True:\n",
    "    index=int(input(\"enter the index value to remove particular element in the list  \"))\n",
    "    if index>len(l)-1:\n",
    "        print(\"index out of range\")\n",
    "        break\n",
    "    else:\n",
    "        popped_list.append(l.pop(index))\n",
    "        choice=input(\"you want to remove more elements say yes or no\")\n",
    "        if choice==\"yes\":\n",
    "            continue\n",
    "        else:\n",
    "            break\n",
    "print(\"the popped list \",popped_list)\n",
    "print(\"the final list after removing elements \",l)\n",
    "\n",
    "    \n",
    "    \n",
    "    \n"
   ]
  },
  {
   "cell_type": "code",
   "execution_count": null,
   "id": "6f9549cc",
   "metadata": {},
   "outputs": [],
   "source": [
    "# you need to fetch the strings in the given list into new list\n",
    "s = [[\"the\",1,2],[3,4,\"python\"],[\"is\",\"fun\",1,2,3]]\n",
    "l1=[]\n",
    "for i in range(0,3):\n",
    "    for j in range(0,3):\n",
    "        if type(s[i][j])==str:\n",
    "            l1.append(s[i][j])\n",
    "print(l1)"
   ]
  },
  {
   "cell_type": "markdown",
   "id": "9651e4f4",
   "metadata": {},
   "source": [
    "### Write a Python program to Zip two given lists of lists. Go to the editor"
   ]
  },
  {
   "cell_type": "markdown",
   "id": "f10da9ee",
   "metadata": {},
   "source": [
    " \n",
    "Original lists:\n",
    "[[1, 3], [5, 7], [9, 11]]\n",
    "\n",
    "[[2, 4], [6, 8], [10, 12, 14]]\n",
    "\n",
    "Zipped list:\n",
    "\n",
    "[[1, 3, 2, 4], [5, 7, 6, 8], [9, 11, 10, 12, 14]]"
   ]
  },
  {
   "cell_type": "code",
   "execution_count": null,
   "id": "ad78b03d",
   "metadata": {},
   "outputs": [],
   "source": [
    "l1=[1,2,3]\n",
    "l2=[\"one\",\"two\",\"three\"]\n",
    "zip(l1,l2)"
   ]
  },
  {
   "cell_type": "code",
   "execution_count": null,
   "id": "81c2a981",
   "metadata": {},
   "outputs": [],
   "source": [
    "l1=[1,2,3]\n",
    "l2=[\"one\",\"two\",\"three\",\"four\"]\n",
    "zip(l1,l2)"
   ]
  },
  {
   "cell_type": "code",
   "execution_count": null,
   "id": "132a3040",
   "metadata": {},
   "outputs": [],
   "source": [
    "l1=[1,2,3,4]\n",
    "l2=[100,200,300]\n",
    "l3=[\"jj\",\"uu\",\"kk\"]\n",
    "list(zip(l1,l2,l3))"
   ]
  },
  {
   "cell_type": "code",
   "execution_count": null,
   "id": "ec3c5c6a",
   "metadata": {},
   "outputs": [],
   "source": [
    "l1=[1,2,3,4]\n",
    "l2=[100,200,300]\n",
    "l3=[\"jj\",\"uu\",\"kk\"]\n",
    "tuple(zip(l1,l2,l3))"
   ]
  },
  {
   "cell_type": "code",
   "execution_count": null,
   "id": "4d462d8d",
   "metadata": {},
   "outputs": [],
   "source": [
    "list(zip(l1,l2))"
   ]
  },
  {
   "cell_type": "code",
   "execution_count": null,
   "id": "2c920a15",
   "metadata": {},
   "outputs": [],
   "source": []
  },
  {
   "cell_type": "markdown",
   "id": "7dc374ee",
   "metadata": {},
   "source": [
    "## How to flatten a list of lists with a list comprehension"
   ]
  },
  {
   "cell_type": "code",
   "execution_count": null,
   "id": "0f30eced",
   "metadata": {},
   "outputs": [],
   "source": [
    "listnum = [[5,6,7,'C#'], ['C++',2,3]]\n",
    " \n",
    "flatten_list = [ele for sublist in listnum for ele in sublist]\n",
    " \n",
    "print('flatten list =',flatten_list)"
   ]
  },
  {
   "cell_type": "code",
   "execution_count": null,
   "id": "77808327",
   "metadata": {},
   "outputs": [],
   "source": [
    "### How to Intersect two list\n",
    "listnum = ['C++',2,3,6,7,5,'C#']\n",
    "listnum1 = ['C++',5,6,7,'C#']\n",
    " \n",
    "intersect_res = [item for item in listnum if item in listnum1]\n",
    " \n",
    "print('intersect of two list =',intersect_res)"
   ]
  },
  {
   "cell_type": "code",
   "execution_count": null,
   "id": "58ca6e4a",
   "metadata": {},
   "outputs": [],
   "source": [
    "## How to count the number of list in list of list.\n",
    "lstlng = [[15, 78, 4],['C#',80,7],['Go','Rust','C++'],['Python',12]]\n",
    " \n",
    "print('count of list of list = ',len(lstlng))\n"
   ]
  },
  {
   "cell_type": "code",
   "execution_count": null,
   "id": "c8195e7c",
   "metadata": {},
   "outputs": [],
   "source": [
    "l=[1,2,3,3,5,6,6]\n",
    "unique_list=[]\n",
    "for i in l:\n",
    "    if i not in unique_list:\n",
    "        unique_list.append(i)\n",
    "print(unique_list)\n",
    "    "
   ]
  },
  {
   "cell_type": "code",
   "execution_count": null,
   "id": "2104338b",
   "metadata": {},
   "outputs": [],
   "source": [
    "ll=[10,10,10,20,30,40,20,60,10]\n",
    "for i in ll:\n",
    "    print(ll)\n",
    "    print(i,\"----\")\n",
    "    if i==10:\n",
    "        print(i,\"****\")\n",
    "        ll.remove(i)\n",
    "        print(\"-----------\\n\",ll)\n",
    "print(ll)"
   ]
  },
  {
   "cell_type": "code",
   "execution_count": null,
   "id": "0881cfb8",
   "metadata": {},
   "outputs": [],
   "source": [
    "def factorial(a):\n",
    "    if a==1:\n",
    "        return 1\n",
    "    else:\n",
    "        return(a*factorial(a-1))\n",
    "input_num=5\n",
    "print(\"Tha factorial of\",input_num,\"is\",factorial(input_num))"
   ]
  },
  {
   "cell_type": "code",
   "execution_count": null,
   "id": "c99d7f0b",
   "metadata": {},
   "outputs": [],
   "source": []
  }
 ],
 "metadata": {
  "kernelspec": {
   "display_name": "Python 3 (ipykernel)",
   "language": "python",
   "name": "python3"
  },
  "language_info": {
   "codemirror_mode": {
    "name": "ipython",
    "version": 3
   },
   "file_extension": ".py",
   "mimetype": "text/x-python",
   "name": "python",
   "nbconvert_exporter": "python",
   "pygments_lexer": "ipython3",
   "version": "3.9.12"
  }
 },
 "nbformat": 4,
 "nbformat_minor": 5
}
