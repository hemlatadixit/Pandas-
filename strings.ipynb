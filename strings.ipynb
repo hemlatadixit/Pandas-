{
 "cells": [
  {
   "cell_type": "markdown",
   "id": "70484243",
   "metadata": {},
   "source": [
    "### q.1 \n",
    "\n",
    "### l=['a','quick','brown','fox','jumps','over','the','lazy','dog']\n",
    "### 1) arrange the list in alphabetical order \n",
    "### 2) count the total letters and count of distinct letters in the list "
   ]
  },
  {
   "cell_type": "code",
   "execution_count": 1,
   "id": "77a9c537",
   "metadata": {},
   "outputs": [
    {
     "name": "stdout",
     "output_type": "stream",
     "text": [
      "['a', 'brown', 'dog', 'fox', 'jumps', 'lazy', 'over', 'quick', 'the']\n"
     ]
    }
   ],
   "source": [
    "\n",
    "l=['a','quick','brown','fox','jumps','over','the','lazy','dog']\n",
    "l.sort()\n",
    "print(l)"
   ]
  },
  {
   "cell_type": "code",
   "execution_count": 2,
   "id": "1ff013f2",
   "metadata": {},
   "outputs": [
    {
     "ename": "AttributeError",
     "evalue": "'str' object has no attribute 'distinct_letter'",
     "output_type": "error",
     "traceback": [
      "\u001b[1;31m---------------------------------------------------------------------------\u001b[0m",
      "\u001b[1;31mAttributeError\u001b[0m                            Traceback (most recent call last)",
      "Input \u001b[1;32mIn [2]\u001b[0m, in \u001b[0;36m<cell line: 4>\u001b[1;34m()\u001b[0m\n\u001b[0;32m      3\u001b[0m distinct_letter\u001b[38;5;241m=\u001b[39m[]\n\u001b[0;32m      4\u001b[0m \u001b[38;5;28;01mfor\u001b[39;00m i \u001b[38;5;129;01min\u001b[39;00m l:\n\u001b[1;32m----> 5\u001b[0m     \u001b[38;5;28;01mif\u001b[39;00m \u001b[43mi\u001b[49m\u001b[38;5;241;43m.\u001b[39;49m\u001b[43mdistinct_letter\u001b[49m():\n\u001b[0;32m      6\u001b[0m          distict_letter\u001b[38;5;241m+\u001b[39m\u001b[38;5;241m=\u001b[39m\u001b[38;5;241m1\u001b[39m\n\u001b[0;32m      7\u001b[0m \u001b[38;5;28mprint\u001b[39m(\u001b[38;5;124m\"\u001b[39m\u001b[38;5;124mtotal count of letter\u001b[39m\u001b[38;5;124m\"\u001b[39m,letter)\n",
      "\u001b[1;31mAttributeError\u001b[0m: 'str' object has no attribute 'distinct_letter'"
     ]
    }
   ],
   "source": [
    "l=['a','quick','brown','fox','jumps','over','the','lazy','dog']\n",
    "total_letter=0\n",
    "distinct_letter=[]\n",
    "for i in l:\n",
    "    if i.distinct_letter():\n",
    "         distict_letter+=1\n",
    "print(\"total count of letter\",letter)\n",
    "print(\"totak count of distinct letter\",distinct_letter)"
   ]
  },
  {
   "cell_type": "markdown",
   "id": "b6b17fc9",
   "metadata": {},
   "source": [
    "### q.2\n",
    "### With a given tuple (1,2,3,4,5,6,7,8,9,10), write a program to print the first half values in one line and the last half values in one line. "
   ]
  },
  {
   "cell_type": "code",
   "execution_count": 3,
   "id": "495f6bb4",
   "metadata": {},
   "outputs": [
    {
     "name": "stdout",
     "output_type": "stream",
     "text": [
      "(1, 2, 3, 4, 5)\n",
      "(6, 7, 8, 9, 10)\n"
     ]
    }
   ],
   "source": [
    "tuple=(1,2,3,4,5,6,7,8,9,10)\n",
    "tuple1=tuple[:5]\n",
    "tuple2=tuple[5:]\n",
    "print(tuple1)\n",
    "print(tuple2)\n"
   ]
  },
  {
   "cell_type": "markdown",
   "id": "afbbbf27",
   "metadata": {},
   "source": [
    "### q.3 \n",
    "### a) Use a list comprehension to square each odd number in a list. The list is input by a sequence of comma-separated numbers. \n",
    "\n",
    "### b) wap  to remove punctuation mark from list of string using list comprehension\n",
    "l=[\"hello'\",1'2,22'4,\"hi how'r u\"]\n",
    "\n",
    "## c) Use a list comprehension to square each odd number in a list. The list is input by a sequence of comma-separated numbers.\n",
    "Suppose the input is supplied to the program: 1,2,3,4,5,6,7,8,9\n",
    "Then, the output should be: 1, 3, 5, 7, 9 \n",
    "\n"
   ]
  },
  {
   "cell_type": "code",
   "execution_count": 4,
   "id": "7c1e8bbd",
   "metadata": {},
   "outputs": [
    {
     "ename": "AttributeError",
     "evalue": "'list' object has no attribute 'split'",
     "output_type": "error",
     "traceback": [
      "\u001b[1;31m---------------------------------------------------------------------------\u001b[0m",
      "\u001b[1;31mAttributeError\u001b[0m                            Traceback (most recent call last)",
      "Input \u001b[1;32mIn [4]\u001b[0m, in \u001b[0;36m<cell line: 2>\u001b[1;34m()\u001b[0m\n\u001b[0;32m      1\u001b[0m \u001b[38;5;28mlist\u001b[39m\u001b[38;5;241m=\u001b[39m[\u001b[38;5;241m1\u001b[39m,\u001b[38;5;241m2\u001b[39m,\u001b[38;5;241m3\u001b[39m,\u001b[38;5;241m4\u001b[39m,\u001b[38;5;241m5\u001b[39m,\u001b[38;5;241m6\u001b[39m,\u001b[38;5;241m7\u001b[39m,\u001b[38;5;241m8\u001b[39m,\u001b[38;5;241m9\u001b[39m,\u001b[38;5;241m10\u001b[39m]\n\u001b[1;32m----> 2\u001b[0m odd_list \u001b[38;5;241m=\u001b[39m [i \u001b[38;5;28;01mfor\u001b[39;00m i \u001b[38;5;129;01min\u001b[39;00m \u001b[38;5;28;43mlist\u001b[39;49m\u001b[38;5;241;43m.\u001b[39;49m\u001b[43msplit\u001b[49m(\u001b[38;5;124m'\u001b[39m\u001b[38;5;124m,\u001b[39m\u001b[38;5;124m'\u001b[39m) \u001b[38;5;28;01mif\u001b[39;00m i \u001b[38;5;241m%\u001b[39m \u001b[38;5;241m2\u001b[39m \u001b[38;5;241m!=\u001b[39m \u001b[38;5;241m0\u001b[39m]\n\u001b[0;32m      3\u001b[0m \u001b[38;5;28mprint\u001b[39m((\u001b[38;5;124m\"\u001b[39m\u001b[38;5;124m \u001b[39m\u001b[38;5;124m\"\u001b[39m)\u001b[38;5;241m.\u001b[39mjoin(odd_list))\n",
      "\u001b[1;31mAttributeError\u001b[0m: 'list' object has no attribute 'split'"
     ]
    }
   ],
   "source": [
    "list=[1,2,3,4,5,6,7,8,9,10]\n",
    "odd_list = [i for i in list.split(',') if i % 2 != 0]\n",
    "print((\" \").join(odd_list))"
   ]
  },
  {
   "cell_type": "code",
   "execution_count": 5,
   "id": "7685cb09",
   "metadata": {},
   "outputs": [
    {
     "ename": "SyntaxError",
     "evalue": "invalid syntax (596206640.py, line 1)",
     "output_type": "error",
     "traceback": [
      "\u001b[1;36m  Input \u001b[1;32mIn [5]\u001b[1;36m\u001b[0m\n\u001b[1;33m    l=[\"hello'\",1'2,22'4,\"hi how'r u\"]\u001b[0m\n\u001b[1;37m                 ^\u001b[0m\n\u001b[1;31mSyntaxError\u001b[0m\u001b[1;31m:\u001b[0m invalid syntax\n"
     ]
    }
   ],
   "source": [
    "l=[\"hello'\",1'2,22'4,\"hi how'r u\"]\n",
    "list=[i.replace(\",\",\"\") for i in l]\n",
    "print(list)"
   ]
  },
  {
   "cell_type": "code",
   "execution_count": 19,
   "id": "7df4dc9a",
   "metadata": {},
   "outputs": [
    {
     "ename": "TypeError",
     "evalue": "not all arguments converted during string formatting",
     "output_type": "error",
     "traceback": [
      "\u001b[1;31m---------------------------------------------------------------------------\u001b[0m",
      "\u001b[1;31mTypeError\u001b[0m                                 Traceback (most recent call last)",
      "Input \u001b[1;32mIn [19]\u001b[0m, in \u001b[0;36m<cell line: 2>\u001b[1;34m()\u001b[0m\n\u001b[0;32m      1\u001b[0m \u001b[38;5;28mlist\u001b[39m\u001b[38;5;241m=\u001b[39m[\u001b[38;5;241m1\u001b[39m,\u001b[38;5;241m2\u001b[39m,\u001b[38;5;241m3\u001b[39m,\u001b[38;5;241m4\u001b[39m,\u001b[38;5;241m5\u001b[39m,\u001b[38;5;241m6\u001b[39m,\u001b[38;5;241m7\u001b[39m,\u001b[38;5;241m8\u001b[39m,\u001b[38;5;241m9\u001b[39m,\u001b[38;5;241m10\u001b[39m]\n\u001b[1;32m----> 2\u001b[0m k \u001b[38;5;241m=\u001b[39m[i\u001b[38;5;241m*\u001b[39mi \u001b[38;5;28;01mfor\u001b[39;00m i \u001b[38;5;129;01min\u001b[39;00m l \u001b[38;5;28;01mif\u001b[39;00m i\u001b[38;5;241m%\u001b[39m\u001b[38;5;241m2\u001b[39m\u001b[38;5;241m!=\u001b[39m\u001b[38;5;241m0\u001b[39m]\n\u001b[0;32m      3\u001b[0m \u001b[38;5;28mprint\u001b[39m(k)\n",
      "Input \u001b[1;32mIn [19]\u001b[0m, in \u001b[0;36m<listcomp>\u001b[1;34m(.0)\u001b[0m\n\u001b[0;32m      1\u001b[0m \u001b[38;5;28mlist\u001b[39m\u001b[38;5;241m=\u001b[39m[\u001b[38;5;241m1\u001b[39m,\u001b[38;5;241m2\u001b[39m,\u001b[38;5;241m3\u001b[39m,\u001b[38;5;241m4\u001b[39m,\u001b[38;5;241m5\u001b[39m,\u001b[38;5;241m6\u001b[39m,\u001b[38;5;241m7\u001b[39m,\u001b[38;5;241m8\u001b[39m,\u001b[38;5;241m9\u001b[39m,\u001b[38;5;241m10\u001b[39m]\n\u001b[1;32m----> 2\u001b[0m k \u001b[38;5;241m=\u001b[39m[i\u001b[38;5;241m*\u001b[39mi \u001b[38;5;28;01mfor\u001b[39;00m i \u001b[38;5;129;01min\u001b[39;00m l \u001b[38;5;28;01mif\u001b[39;00m \u001b[43mi\u001b[49m\u001b[38;5;241;43m%\u001b[39;49m\u001b[38;5;241;43m2\u001b[39;49m\u001b[38;5;241m!=\u001b[39m\u001b[38;5;241m0\u001b[39m]\n\u001b[0;32m      3\u001b[0m \u001b[38;5;28mprint\u001b[39m(k)\n",
      "\u001b[1;31mTypeError\u001b[0m: not all arguments converted during string formatting"
     ]
    }
   ],
   "source": [
    "list=[1,2,3,4,5,6,7,8,9,10]\n",
    "k =[i*i for i in l if i%2!=0]\n",
    "print(k) \n"
   ]
  },
  {
   "cell_type": "markdown",
   "id": "b899fef5",
   "metadata": {},
   "source": [
    "### q.4\n",
    "\n",
    "### Find Longest String in List\n",
    "l=[\"hello\",\"madrid\",\"hi how r u\",\"i m doing good u tell\",\"meet\"]"
   ]
  },
  {
   "cell_type": "code",
   "execution_count": 6,
   "id": "2fbdd73b",
   "metadata": {},
   "outputs": [
    {
     "name": "stdout",
     "output_type": "stream",
     "text": [
      "i m doing good u tell\n"
     ]
    }
   ],
   "source": [
    "list1=[\"hello\",\"madrid\",\"hi how r u\",\"i m doing good u tell\",\"meet\"]\n",
    "for i in list1:\n",
    "    if len(i)>11:\n",
    "        print(i)"
   ]
  },
  {
   "cell_type": "markdown",
   "id": "891150f6",
   "metadata": {},
   "source": [
    "### q.5\n",
    "\n",
    "### Display the characters at an odd position in string input by User."
   ]
  },
  {
   "cell_type": "code",
   "execution_count": 46,
   "id": "9ba1258f",
   "metadata": {},
   "outputs": [
    {
     "name": "stdout",
     "output_type": "stream",
     "text": [
      "enter tha stringsolution\n",
      "odd character at odd postion ['o', 'u', 'i', 'n']\n"
     ]
    }
   ],
   "source": [
    "s=input(\"enter tha string\")\n",
    "odd_char=[]\n",
    "for i in range(len(s)):\n",
    "    if i%2!=0:\n",
    "        odd_char.append(s[i])\n",
    "    \n",
    "print(\"odd character at odd postion\",odd_char)\n"
   ]
  },
  {
   "cell_type": "markdown",
   "id": "4f01e850",
   "metadata": {},
   "source": [
    "### q.6\n",
    "\n",
    "### Extract file name in this  /document/imp/salary.txt\n"
   ]
  },
  {
   "cell_type": "code",
   "execution_count": null,
   "id": "f9e2eb76",
   "metadata": {},
   "outputs": [],
   "source": []
  },
  {
   "cell_type": "markdown",
   "id": "324c2cc9",
   "metadata": {},
   "source": [
    "### q.7\n",
    "### Write a program which accepts a sequence of comma-separated numbers from console and generate a list and a tuple which contains every number.\n",
    "Suppose the input is supplied to the program: 34, 67, 55, 33, 12, 98\n",
    "\n",
    "\n",
    "Then, the output should be:\n",
    "\n",
    "\n",
    "['34', '67', '55', '33', '12', '98'] and ('34', '67', '55', '33', '12', '98')\n"
   ]
  },
  {
   "cell_type": "code",
   "execution_count": 20,
   "id": "1b89f669",
   "metadata": {},
   "outputs": [
    {
     "ename": "AttributeError",
     "evalue": "'tuple' object has no attribute 'list'",
     "output_type": "error",
     "traceback": [
      "\u001b[1;31m---------------------------------------------------------------------------\u001b[0m",
      "\u001b[1;31mAttributeError\u001b[0m                            Traceback (most recent call last)",
      "Input \u001b[1;32mIn [20]\u001b[0m, in \u001b[0;36m<cell line: 2>\u001b[1;34m()\u001b[0m\n\u001b[0;32m      1\u001b[0m x\u001b[38;5;241m=\u001b[39m\u001b[38;5;241m34\u001b[39m, \u001b[38;5;241m67\u001b[39m, \u001b[38;5;241m55\u001b[39m, \u001b[38;5;241m33\u001b[39m, \u001b[38;5;241m12\u001b[39m, \u001b[38;5;241m98\u001b[39m\n\u001b[1;32m----> 2\u001b[0m \u001b[43mx\u001b[49m\u001b[38;5;241;43m.\u001b[39;49m\u001b[43mlist\u001b[49m()\n",
      "\u001b[1;31mAttributeError\u001b[0m: 'tuple' object has no attribute 'list'"
     ]
    }
   ],
   "source": [
    "x=34, 67, 55, 33, 12, 98\n",
    "l"
   ]
  },
  {
   "cell_type": "markdown",
   "id": "dc2e0c2d",
   "metadata": {},
   "source": [
    "### q. 8\n",
    "\n",
    "### Write a program to display second largest element of the list entered by user "
   ]
  },
  {
   "cell_type": "code",
   "execution_count": 31,
   "id": "4b42eb87",
   "metadata": {},
   "outputs": [
    {
     "name": "stdout",
     "output_type": "stream",
     "text": [
      "enter tha list20,30,40,50\n",
      "Second highest number is :  0\n",
      "Second highest number is :  2\n",
      "Second highest number is :  2\n",
      "Second highest number is :  2\n",
      "Second highest number is :  3\n",
      "Second highest number is :  3\n",
      "Second highest number is :  3\n",
      "Second highest number is :  4\n",
      "Second highest number is :  4\n"
     ]
    }
   ],
   "source": [
    "list1 = input(\"enter tha list\")\n",
    " \n",
    "mx = max(list1[0], list1[1])\n",
    "secondmax = min(list1[0], list1[1])\n",
    "n = len(list1)\n",
    "for i in range(2,n):\n",
    "    if list1[i] > mx:\n",
    "        secondmax = mx\n",
    "        mx = list1[i]\n",
    "    elif list1[i] > secondmax and \\\n",
    "        mx != list1[i]:\n",
    "        secondmax = list1[i]\n",
    "    elif mx == secondmax and \\\n",
    "        secondmax != list1[i]:\n",
    "          secondmax = list1[i]\n",
    " \n",
    "    print(\"Second highest number is : \", secondmax)"
   ]
  },
  {
   "cell_type": "markdown",
   "id": "ac3570f6",
   "metadata": {},
   "source": [
    "### q.9\n",
    "\n",
    "### Write a program to display the most, second most and least frequent word of the list\n",
    "\n",
    "l=[\"abc\",\"bac\",\"abc\",\"abb\",\"abb\",\"abb\"]"
   ]
  },
  {
   "cell_type": "code",
   "execution_count": null,
   "id": "acbd2aec",
   "metadata": {},
   "outputs": [],
   "source": [
    "l=[\"abc\",\"bac\",\"abc\",\"abb\",\"abb\",\"abb\"]\n"
   ]
  },
  {
   "cell_type": "markdown",
   "id": "785428f2",
   "metadata": {},
   "source": [
    "### q.10\n",
    "### Write a program that calculates and prints the value according to the given formula:\n",
    "Q = Square root of [(2 * C * D)/H]\n",
    "\n",
    "\n",
    "Following are the fixed values of C and H: C is 50. H is 30.\n"
   ]
  },
  {
   "cell_type": "code",
   "execution_count": 11,
   "id": "df6de49d",
   "metadata": {},
   "outputs": [
    {
     "name": "stdout",
     "output_type": "stream",
     "text": [
      "12.909944487358056\n"
     ]
    }
   ],
   "source": [
    "import math\n",
    "c=50\n",
    "h=30\n",
    "d=50\n",
    "s=2*c*d/h\n",
    "q=math.sqrt(s)\n",
    "print(q)"
   ]
  },
  {
   "cell_type": "markdown",
   "id": "906e1c32",
   "metadata": {},
   "source": [
    "### q.11\n",
    "### wap to place \"hello\" at even index of string.\n",
    "\n",
    "eg: string :  \"madrid\"\n",
    "\n",
    "output:    helloahellorhellod"
   ]
  },
  {
   "cell_type": "code",
   "execution_count": 74,
   "id": "83629b85",
   "metadata": {},
   "outputs": [
    {
     "name": "stdout",
     "output_type": "stream",
     "text": [
      "hellohellohellohellohellohello"
     ]
    }
   ],
   "source": [
    "s=\"madrid\"\n",
    "for i in s:\n",
    "    if i==i[0:5:1]:\n",
    "        print(\"hello\",end=\"\")\n",
    "    \n",
    "\n"
   ]
  },
  {
   "cell_type": "markdown",
   "id": "ed4d7f85",
   "metadata": {},
   "source": [
    "### q.12\n",
    "## Write a program that accepts a sequence of whitespace separated words as input and prints the words after removing all duplicate words and sorting them alphanumerically.\n",
    "Suppose the input is supplied to the program: hello world and practice makes perfect and hello world again\n"
   ]
  },
  {
   "cell_type": "code",
   "execution_count": null,
   "id": "01f50106",
   "metadata": {},
   "outputs": [],
   "source": []
  },
  {
   "cell_type": "markdown",
   "id": "698f6591",
   "metadata": {},
   "source": []
  },
  {
   "cell_type": "markdown",
   "id": "0cb01fdf",
   "metadata": {},
   "source": [
    "## q.13\n",
    "#### You are required to write a program to sort the (name, age, height) tuples by ascending order where name is string, age and height are numbers. The tuples are input by console. The sort criteria is: \n",
    "1: Sort based on name; \n",
    "2: Then sort based on age; \n",
    "3: Then sort by score. \n",
    "\n",
    " \n",
    "The priority is that name > age > score. \n",
    "\n",
    "\n",
    "If the following tuples are given as input to the program: \n",
    "\n",
    "\n",
    "Tom,19,80 \n",
    "\n",
    "John,20,90 \n",
    "\n",
    "Jony,17,91\n",
    "\n",
    "Jony,17,93 \n",
    "\n",
    "Json,21,85 \n",
    "\n",
    "\n",
    "Then, the output of the program should be: \n",
    "[('John', '20', '90'), ('Jony', '17', '91'), ('Jony', '17', '93'), ('Json', '21', '85'), ('Tom', '19', '80')] \n",
    " "
   ]
  },
  {
   "cell_type": "code",
   "execution_count": null,
   "id": "9c7acb63",
   "metadata": {},
   "outputs": [],
   "source": []
  }
 ],
 "metadata": {
  "kernelspec": {
   "display_name": "Python 3 (ipykernel)",
   "language": "python",
   "name": "python3"
  },
  "language_info": {
   "codemirror_mode": {
    "name": "ipython",
    "version": 3
   },
   "file_extension": ".py",
   "mimetype": "text/x-python",
   "name": "python",
   "nbconvert_exporter": "python",
   "pygments_lexer": "ipython3",
   "version": "3.9.12"
  }
 },
 "nbformat": 4,
 "nbformat_minor": 5
}
