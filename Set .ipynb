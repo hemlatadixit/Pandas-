{
 "cells": [
  {
   "cell_type": "markdown",
   "id": "d519cab4",
   "metadata": {},
   "source": [
    "### Sets\n",
    "\n",
    "\n",
    "## What is Sets? :: Sets are unordered colllection of data  enclosed in {}\n",
    "\n",
    "\n",
    "### properties of sets\n",
    "\n",
    "- Set elements are unique. Duplicate elements are not allowed.\n",
    "- No indexing and slicing(means once you added th elemenets in the set u can not access as s[1]\n",
    "- sets do  not allow mutable data type data\n",
    "- set itself is mutable data type implies 2d/3d sets can not be possible.\n",
    "\n",
    "#### Sets can be used to perform mathematical set operations like union, intersection, symmetric difference etc.\n"
   ]
  },
  {
   "cell_type": "markdown",
   "id": "38cf1e08",
   "metadata": {},
   "source": [
    "### How to create the set"
   ]
  },
  {
   "cell_type": "code",
   "execution_count": 9,
   "id": "9399ed96",
   "metadata": {},
   "outputs": [
    {
     "data": {
      "text/plain": [
       "{1, 2, 3, 4}"
      ]
     },
     "execution_count": 9,
     "metadata": {},
     "output_type": "execute_result"
    }
   ],
   "source": [
    "s={1,2,3,4,56,56,4,3}\n",
    "type(s)\n",
    "l=[1,2,3,4,4]\n",
    "set(l)"
   ]
  },
  {
   "cell_type": "code",
   "execution_count": 10,
   "id": "a491c7ea",
   "metadata": {},
   "outputs": [
    {
     "data": {
      "text/plain": [
       "{2, 3, 4, 5, 7}"
      ]
     },
     "execution_count": 10,
     "metadata": {},
     "output_type": "execute_result"
    }
   ],
   "source": [
    "s={2,3,4,5,7}\n",
    "s"
   ]
  },
  {
   "cell_type": "markdown",
   "id": "022194ab",
   "metadata": {},
   "source": [
    "### create empty set"
   ]
  },
  {
   "cell_type": "code",
   "execution_count": 1,
   "id": "5810f403",
   "metadata": {},
   "outputs": [
    {
     "data": {
      "text/plain": [
       "dict"
      ]
     },
     "execution_count": 1,
     "metadata": {},
     "output_type": "execute_result"
    }
   ],
   "source": [
    "s={}\n",
    "type(s)  ## since python sets {} for dictionary by default "
   ]
  },
  {
   "cell_type": "code",
   "execution_count": 2,
   "id": "177efcaa",
   "metadata": {},
   "outputs": [
    {
     "data": {
      "text/plain": [
       "set"
      ]
     },
     "execution_count": 2,
     "metadata": {},
     "output_type": "execute_result"
    }
   ],
   "source": [
    "##  so create empty set using set()\n",
    "s1=set()\n",
    "type(s1)"
   ]
  },
  {
   "cell_type": "code",
   "execution_count": 4,
   "id": "0e1a4e6a",
   "metadata": {},
   "outputs": [
    {
     "data": {
      "text/plain": [
       "set"
      ]
     },
     "execution_count": 4,
     "metadata": {},
     "output_type": "execute_result"
    }
   ],
   "source": [
    "s1={1,2,3,4}  ## homogeneous data type set\n",
    "type(s1)"
   ]
  },
  {
   "cell_type": "code",
   "execution_count": 5,
   "id": "90082539",
   "metadata": {},
   "outputs": [
    {
     "data": {
      "text/plain": [
       "set"
      ]
     },
     "execution_count": 5,
     "metadata": {},
     "output_type": "execute_result"
    }
   ],
   "source": [
    "s1={1,2,3,4.3,\"balmeet\"}  ## hetrogeneous data type set\n",
    "type(s1)"
   ]
  },
  {
   "cell_type": "code",
   "execution_count": 41,
   "id": "8e9356eb",
   "metadata": {},
   "outputs": [
    {
     "data": {
      "text/plain": [
       "{0, 1, 2, 3, 4, 5, 6, 7, 8, 9, 78, 99, 989}"
      ]
     },
     "execution_count": 41,
     "metadata": {},
     "output_type": "execute_result"
    }
   ],
   "source": [
    "s1={1,2,3,4,5,5,6,7,8,989,99,0,0,1,4,5,7,78,8,9,0,0}\n",
    "s1 ## gives unique elements"
   ]
  },
  {
   "cell_type": "markdown",
   "id": "e5970140",
   "metadata": {},
   "source": [
    "### list to set "
   ]
  },
  {
   "cell_type": "code",
   "execution_count": 44,
   "id": "d5f8a06e",
   "metadata": {},
   "outputs": [
    {
     "data": {
      "text/plain": [
       "{1, 2, 3, 4, 5}"
      ]
     },
     "execution_count": 44,
     "metadata": {},
     "output_type": "execute_result"
    }
   ],
   "source": [
    "list1=[1,2,3,3,4,4,5]\n",
    "set(list1)  ## gives unique but does not retain the order\n"
   ]
  },
  {
   "cell_type": "markdown",
   "id": "c6bde498",
   "metadata": {},
   "source": [
    "### sets does notallow mutable data "
   ]
  },
  {
   "cell_type": "code",
   "execution_count": 7,
   "id": "417976f6",
   "metadata": {},
   "outputs": [
    {
     "ename": "TypeError",
     "evalue": "unhashable type: 'list'",
     "output_type": "error",
     "traceback": [
      "\u001b[1;31m---------------------------------------------------------------------------\u001b[0m",
      "\u001b[1;31mTypeError\u001b[0m                                 Traceback (most recent call last)",
      "Input \u001b[1;32mIn [7]\u001b[0m, in \u001b[0;36m<cell line: 1>\u001b[1;34m()\u001b[0m\n\u001b[1;32m----> 1\u001b[0m s1\u001b[38;5;241m=\u001b[39m{\u001b[38;5;241m1\u001b[39m,\u001b[38;5;241m2\u001b[39m,\u001b[38;5;241m3\u001b[39m,\u001b[38;5;241m4.3\u001b[39m,[\u001b[38;5;124m\"\u001b[39m\u001b[38;5;124mbalmeet\u001b[39m\u001b[38;5;124m\"\u001b[39m,\u001b[38;5;124m\"\u001b[39m\u001b[38;5;124mmadrid\u001b[39m\u001b[38;5;124m\"\u001b[39m]}  \u001b[38;5;66;03m## homogeneous data type set\u001b[39;00m\n\u001b[0;32m      2\u001b[0m \u001b[38;5;28mtype\u001b[39m(s1)\n",
      "\u001b[1;31mTypeError\u001b[0m: unhashable type: 'list'"
     ]
    }
   ],
   "source": [
    "s1={1,2,3,4.3,[\"balmeet\",\"madrid\"]}  \n",
    "type(s1)   "
   ]
  },
  {
   "cell_type": "code",
   "execution_count": 1,
   "id": "72f25d35",
   "metadata": {},
   "outputs": [
    {
     "ename": "TypeError",
     "evalue": "unhashable type: 'dict'",
     "output_type": "error",
     "traceback": [
      "\u001b[1;31m---------------------------------------------------------------------------\u001b[0m",
      "\u001b[1;31mTypeError\u001b[0m                                 Traceback (most recent call last)",
      "Input \u001b[1;32mIn [1]\u001b[0m, in \u001b[0;36m<cell line: 1>\u001b[1;34m()\u001b[0m\n\u001b[1;32m----> 1\u001b[0m s1\u001b[38;5;241m=\u001b[39m{\u001b[38;5;241m1\u001b[39m,\u001b[38;5;241m2\u001b[39m,\u001b[38;5;241m3\u001b[39m,\u001b[38;5;241m4.3\u001b[39m,{\u001b[38;5;124m\"\u001b[39m\u001b[38;5;124m4\u001b[39m\u001b[38;5;124m\"\u001b[39m:\u001b[38;5;124m\"\u001b[39m\u001b[38;5;124mfour\u001b[39m\u001b[38;5;124m\"\u001b[39m}}  \n\u001b[0;32m      2\u001b[0m \u001b[38;5;28mtype\u001b[39m(s1)\n",
      "\u001b[1;31mTypeError\u001b[0m: unhashable type: 'dict'"
     ]
    }
   ],
   "source": [
    "s1={1,2,3,4.3,{\"4\":\"four\"}}  \n",
    "type(s1)   "
   ]
  },
  {
   "cell_type": "markdown",
   "id": "4db97f53",
   "metadata": {},
   "source": [
    "above output cleary shows list is not allowed in set as it is mutable"
   ]
  },
  {
   "cell_type": "code",
   "execution_count": 45,
   "id": "d4acc458",
   "metadata": {},
   "outputs": [
    {
     "data": {
      "text/plain": [
       "{1, 2, 3, 4.3}"
      ]
     },
     "execution_count": 45,
     "metadata": {},
     "output_type": "execute_result"
    }
   ],
   "source": [
    "s1={1,1,2,3,4.3}  \n",
    "type(s1)  \n",
    "s1"
   ]
  },
  {
   "cell_type": "markdown",
   "id": "c07b7bca",
   "metadata": {},
   "source": [
    "from above output it cleary shows no duplicacy"
   ]
  },
  {
   "cell_type": "code",
   "execution_count": 7,
   "id": "98c47ee9",
   "metadata": {},
   "outputs": [
    {
     "data": {
      "text/plain": [
       "{(1, 2, 3), 'meet'}"
      ]
     },
     "execution_count": 7,
     "metadata": {},
     "output_type": "execute_result"
    }
   ],
   "source": [
    "s={(1,2,3),\"meet\"}\n",
    "s"
   ]
  },
  {
   "cell_type": "markdown",
   "id": "e14ffb61",
   "metadata": {},
   "source": [
    "note: there is chance that we may get (\"meet\",(1, 2, 3)) since sets are not ordered there is no specific position of elements of set since it is used hashing phenomena"
   ]
  },
  {
   "cell_type": "markdown",
   "id": "2d0d4a5a",
   "metadata": {},
   "source": [
    "### accessing in set "
   ]
  },
  {
   "cell_type": "code",
   "execution_count": 11,
   "id": "ba579dd1",
   "metadata": {},
   "outputs": [
    {
     "ename": "TypeError",
     "evalue": "'set' object is not subscriptable",
     "output_type": "error",
     "traceback": [
      "\u001b[1;31m---------------------------------------------------------------------------\u001b[0m",
      "\u001b[1;31mTypeError\u001b[0m                                 Traceback (most recent call last)",
      "Input \u001b[1;32mIn [11]\u001b[0m, in \u001b[0;36m<cell line: 2>\u001b[1;34m()\u001b[0m\n\u001b[0;32m      1\u001b[0m s\u001b[38;5;241m=\u001b[39m{\u001b[38;5;241m1\u001b[39m,\u001b[38;5;241m2\u001b[39m,\u001b[38;5;241m3\u001b[39m,\u001b[38;5;124m\"\u001b[39m\u001b[38;5;124mmadrid\u001b[39m\u001b[38;5;124m\"\u001b[39m}\n\u001b[1;32m----> 2\u001b[0m \u001b[43ms\u001b[49m\u001b[43m[\u001b[49m\u001b[38;5;241;43m4\u001b[39;49m\u001b[43m]\u001b[49m\n",
      "\u001b[1;31mTypeError\u001b[0m: 'set' object is not subscriptable"
     ]
    }
   ],
   "source": [
    "s={1,2,3,\"madrid\"}\n",
    "s[4]"
   ]
  },
  {
   "cell_type": "code",
   "execution_count": 19,
   "id": "770f5ff8",
   "metadata": {},
   "outputs": [
    {
     "ename": "TypeError",
     "evalue": "'set' object is not subscriptable",
     "output_type": "error",
     "traceback": [
      "\u001b[1;31m---------------------------------------------------------------------------\u001b[0m",
      "\u001b[1;31mTypeError\u001b[0m                                 Traceback (most recent call last)",
      "Input \u001b[1;32mIn [19]\u001b[0m, in \u001b[0;36m<cell line: 2>\u001b[1;34m()\u001b[0m\n\u001b[0;32m      1\u001b[0m s\u001b[38;5;241m=\u001b[39m{(\u001b[38;5;241m1\u001b[39m,\u001b[38;5;241m2\u001b[39m,\u001b[38;5;241m3\u001b[39m),\u001b[38;5;124m\"\u001b[39m\u001b[38;5;124msonia\u001b[39m\u001b[38;5;124m\"\u001b[39m}\n\u001b[1;32m----> 2\u001b[0m \u001b[43ms\u001b[49m\u001b[43m[\u001b[49m\u001b[38;5;241;43m0\u001b[39;49m\u001b[43m]\u001b[49m\n",
      "\u001b[1;31mTypeError\u001b[0m: 'set' object is not subscriptable"
     ]
    }
   ],
   "source": [
    "s={(1,2,3),\"sonia\"}\n",
    "s[0]  ## no  accessing "
   ]
  },
  {
   "cell_type": "markdown",
   "id": "9e9d5631",
   "metadata": {},
   "source": [
    "### how can edit the set ? no although sets are mutable but there is no mechanism to edit the items as indexing is not there."
   ]
  },
  {
   "cell_type": "markdown",
   "id": "63e5da95",
   "metadata": {},
   "source": [
    "### How can we add the elements in the set ?? : using add()"
   ]
  },
  {
   "cell_type": "code",
   "execution_count": 12,
   "id": "7cab8e8a",
   "metadata": {},
   "outputs": [
    {
     "data": {
      "text/plain": [
       "['__and__',\n",
       " '__class__',\n",
       " '__class_getitem__',\n",
       " '__contains__',\n",
       " '__delattr__',\n",
       " '__dir__',\n",
       " '__doc__',\n",
       " '__eq__',\n",
       " '__format__',\n",
       " '__ge__',\n",
       " '__getattribute__',\n",
       " '__gt__',\n",
       " '__hash__',\n",
       " '__iand__',\n",
       " '__init__',\n",
       " '__init_subclass__',\n",
       " '__ior__',\n",
       " '__isub__',\n",
       " '__iter__',\n",
       " '__ixor__',\n",
       " '__le__',\n",
       " '__len__',\n",
       " '__lt__',\n",
       " '__ne__',\n",
       " '__new__',\n",
       " '__or__',\n",
       " '__rand__',\n",
       " '__reduce__',\n",
       " '__reduce_ex__',\n",
       " '__repr__',\n",
       " '__ror__',\n",
       " '__rsub__',\n",
       " '__rxor__',\n",
       " '__setattr__',\n",
       " '__sizeof__',\n",
       " '__str__',\n",
       " '__sub__',\n",
       " '__subclasshook__',\n",
       " '__xor__',\n",
       " 'add',\n",
       " 'clear',\n",
       " 'copy',\n",
       " 'difference',\n",
       " 'difference_update',\n",
       " 'discard',\n",
       " 'intersection',\n",
       " 'intersection_update',\n",
       " 'isdisjoint',\n",
       " 'issubset',\n",
       " 'issuperset',\n",
       " 'pop',\n",
       " 'remove',\n",
       " 'symmetric_difference',\n",
       " 'symmetric_difference_update',\n",
       " 'union',\n",
       " 'update']"
      ]
     },
     "execution_count": 12,
     "metadata": {},
     "output_type": "execute_result"
    }
   ],
   "source": [
    "dir(set)"
   ]
  },
  {
   "cell_type": "code",
   "execution_count": 27,
   "id": "a1c25e48",
   "metadata": {},
   "outputs": [
    {
     "name": "stdout",
     "output_type": "stream",
     "text": [
      "2001303832384\n",
      "{56, 34, 76, 78}\n",
      "2001303832384\n"
     ]
    }
   ],
   "source": [
    "s1={34,56,78}\n",
    "print(id(s1))\n",
    "s1.add(76)\n",
    "print(s1)\n",
    "print(id(s1))  ## means added the element at same memory location"
   ]
  },
  {
   "cell_type": "markdown",
   "id": "8f93494b",
   "metadata": {},
   "source": [
    "### deletion in set"
   ]
  },
  {
   "cell_type": "code",
   "execution_count": 34,
   "id": "16846545",
   "metadata": {},
   "outputs": [
    {
     "ename": "TypeError",
     "evalue": "'set' object doesn't support item deletion",
     "output_type": "error",
     "traceback": [
      "\u001b[1;31m---------------------------------------------------------------------------\u001b[0m",
      "\u001b[1;31mTypeError\u001b[0m                                 Traceback (most recent call last)",
      "Input \u001b[1;32mIn [34]\u001b[0m, in \u001b[0;36m<cell line: 2>\u001b[1;34m()\u001b[0m\n\u001b[0;32m      1\u001b[0m s\u001b[38;5;241m=\u001b[39m{\u001b[38;5;241m1\u001b[39m,\u001b[38;5;241m2\u001b[39m,\u001b[38;5;241m3\u001b[39m,\u001b[38;5;241m45\u001b[39m,\u001b[38;5;241m56\u001b[39m}\n\u001b[1;32m----> 2\u001b[0m \u001b[38;5;28;01mdel\u001b[39;00m s[\u001b[38;5;241m3\u001b[39m]\n",
      "\u001b[1;31mTypeError\u001b[0m: 'set' object doesn't support item deletion"
     ]
    }
   ],
   "source": [
    "s={1,2,3,45,56}\n",
    "del s[3]  ### can not delete the element using del based on postion : not possible"
   ]
  },
  {
   "cell_type": "code",
   "execution_count": 33,
   "id": "78ed189d",
   "metadata": {},
   "outputs": [
    {
     "ename": "NameError",
     "evalue": "name 's' is not defined",
     "output_type": "error",
     "traceback": [
      "\u001b[1;31m---------------------------------------------------------------------------\u001b[0m",
      "\u001b[1;31mNameError\u001b[0m                                 Traceback (most recent call last)",
      "Input \u001b[1;32mIn [33]\u001b[0m, in \u001b[0;36m<cell line: 3>\u001b[1;34m()\u001b[0m\n\u001b[0;32m      1\u001b[0m s\u001b[38;5;241m=\u001b[39m{\u001b[38;5;241m1\u001b[39m,\u001b[38;5;241m2\u001b[39m,\u001b[38;5;241m3\u001b[39m,\u001b[38;5;241m45\u001b[39m,\u001b[38;5;241m56\u001b[39m}\n\u001b[0;32m      2\u001b[0m \u001b[38;5;28;01mdel\u001b[39;00m s  \u001b[38;5;66;03m##  can delete the entire set \u001b[39;00m\n\u001b[1;32m----> 3\u001b[0m \u001b[38;5;28mprint\u001b[39m(\u001b[43ms\u001b[49m)\n",
      "\u001b[1;31mNameError\u001b[0m: name 's' is not defined"
     ]
    }
   ],
   "source": [
    "s={1,2,3,45,56}\n",
    "del s  ##  can delete the entire set \n",
    "print(s)"
   ]
  },
  {
   "cell_type": "markdown",
   "id": "24bc230f",
   "metadata": {},
   "source": [
    "### using remove"
   ]
  },
  {
   "cell_type": "code",
   "execution_count": 19,
   "id": "8963b789",
   "metadata": {},
   "outputs": [
    {
     "name": "stdout",
     "output_type": "stream",
     "text": [
      "{56, 31}\n"
     ]
    }
   ],
   "source": [
    "### delete 21 from set\n",
    "s={31,21,56}\n",
    "s.remove(21)\n",
    "print(s)"
   ]
  },
  {
   "cell_type": "markdown",
   "id": "cdb85f8c",
   "metadata": {},
   "source": [
    "### using pop()"
   ]
  },
  {
   "cell_type": "code",
   "execution_count": 1,
   "id": "8741374e",
   "metadata": {},
   "outputs": [
    {
     "name": "stdout",
     "output_type": "stream",
     "text": [
      "{21, 'hello', 'balmeet', 56, 31}\n"
     ]
    }
   ],
   "source": [
    "s={31,21,56,81,\"hello\",\"balmeet\"}\n",
    "s.pop()  ## it deletes RANDOM ELEMENT\n",
    "print(s)"
   ]
  },
  {
   "cell_type": "markdown",
   "id": "bf8b3809",
   "metadata": {},
   "source": [
    "this ouput cleary shows that 81 was the last element based on hashing "
   ]
  },
  {
   "cell_type": "markdown",
   "id": "bac7eda5",
   "metadata": {},
   "source": [
    "### Set operations\n",
    "\n",
    "- concatenation and replication (not possible in set)\n",
    "- membership works in set \n"
   ]
  },
  {
   "cell_type": "markdown",
   "id": "552673c4",
   "metadata": {},
   "source": [
    "### loop in set"
   ]
  },
  {
   "cell_type": "code",
   "execution_count": 39,
   "id": "6b359aa7",
   "metadata": {},
   "outputs": [
    {
     "name": "stdout",
     "output_type": "stream",
     "text": [
      "1\n",
      "2\n",
      "3\n",
      "4\n"
     ]
    }
   ],
   "source": [
    "for i in {1,2,3,4}:\n",
    "    print(i)"
   ]
  },
  {
   "cell_type": "code",
   "execution_count": 15,
   "id": "8e214194",
   "metadata": {},
   "outputs": [
    {
     "name": "stdout",
     "output_type": "stream",
     "text": [
      "set()\n",
      "enter the number of elemenst in the set4\n",
      "enter the value to be added in the set3\n",
      "enter the value to be added in the set4\n",
      "enter the value to be added in the set5\n",
      "enter the value to be added in the set6\n",
      "{'5', '6', '3', '4'}\n"
     ]
    }
   ],
   "source": [
    "s=set()\n",
    "print(s)\n",
    "size=int(input(\"enter the number of elemenst in the set\"))\n",
    "for i in range(1,size+1):\n",
    "    a=input(\"enter the value to be added in the set\")\n",
    "    s.add(a)\n",
    "print(s)"
   ]
  },
  {
   "cell_type": "code",
   "execution_count": 10,
   "id": "e2449a30",
   "metadata": {},
   "outputs": [
    {
     "name": "stdout",
     "output_type": "stream",
     "text": [
      "{1, 2, 3, 4, 5}\n"
     ]
    }
   ],
   "source": [
    "# Adding elements to the set using iterator\n",
    "fruits=set()\n",
    "for i in range(1, 6):\n",
    "    fruits.add(i)\n",
    "\n",
    "print(fruits)"
   ]
  },
  {
   "cell_type": "markdown",
   "id": "7cc2085d",
   "metadata": {},
   "source": [
    "### operations"
   ]
  },
  {
   "cell_type": "markdown",
   "id": "8e9196a6",
   "metadata": {},
   "source": [
    "-len()\n",
    "\n",
    "- max()\n",
    "\n",
    "-min()\n",
    "\n",
    "-sorted()"
   ]
  },
  {
   "cell_type": "markdown",
   "id": "9d112573",
   "metadata": {},
   "source": [
    "### Get the list of functions and attributes in set : "
   ]
  },
  {
   "cell_type": "code",
   "execution_count": 42,
   "id": "f6e14452",
   "metadata": {},
   "outputs": [
    {
     "data": {
      "text/plain": [
       "['__and__',\n",
       " '__class__',\n",
       " '__class_getitem__',\n",
       " '__contains__',\n",
       " '__delattr__',\n",
       " '__dir__',\n",
       " '__doc__',\n",
       " '__eq__',\n",
       " '__format__',\n",
       " '__ge__',\n",
       " '__getattribute__',\n",
       " '__gt__',\n",
       " '__hash__',\n",
       " '__iand__',\n",
       " '__init__',\n",
       " '__init_subclass__',\n",
       " '__ior__',\n",
       " '__isub__',\n",
       " '__iter__',\n",
       " '__ixor__',\n",
       " '__le__',\n",
       " '__len__',\n",
       " '__lt__',\n",
       " '__ne__',\n",
       " '__new__',\n",
       " '__or__',\n",
       " '__rand__',\n",
       " '__reduce__',\n",
       " '__reduce_ex__',\n",
       " '__repr__',\n",
       " '__ror__',\n",
       " '__rsub__',\n",
       " '__rxor__',\n",
       " '__setattr__',\n",
       " '__sizeof__',\n",
       " '__str__',\n",
       " '__sub__',\n",
       " '__subclasshook__',\n",
       " '__xor__',\n",
       " 'add',\n",
       " 'clear',\n",
       " 'copy',\n",
       " 'difference',\n",
       " 'difference_update',\n",
       " 'discard',\n",
       " 'intersection',\n",
       " 'intersection_update',\n",
       " 'isdisjoint',\n",
       " 'issubset',\n",
       " 'issuperset',\n",
       " 'pop',\n",
       " 'remove',\n",
       " 'symmetric_difference',\n",
       " 'symmetric_difference_update',\n",
       " 'union',\n",
       " 'update']"
      ]
     },
     "execution_count": 42,
     "metadata": {},
     "output_type": "execute_result"
    }
   ],
   "source": [
    "dir(set)"
   ]
  },
  {
   "cell_type": "markdown",
   "id": "9b4906d5",
   "metadata": {},
   "source": [
    "### clear():  method empties the whole set."
   ]
  },
  {
   "cell_type": "code",
   "execution_count": 33,
   "id": "c061f95f",
   "metadata": {},
   "outputs": [
    {
     "data": {
      "text/plain": [
       "set()"
      ]
     },
     "execution_count": 33,
     "metadata": {},
     "output_type": "execute_result"
    }
   ],
   "source": [
    "s={2,3,4,5,5}\n",
    "s.clear()\n",
    "s"
   ]
  },
  {
   "cell_type": "code",
   "execution_count": 38,
   "id": "556adf5a",
   "metadata": {},
   "outputs": [
    {
     "data": {
      "text/plain": [
       "{1, 2, 3, 4}"
      ]
     },
     "execution_count": 38,
     "metadata": {},
     "output_type": "execute_result"
    }
   ],
   "source": [
    "s={1,2,3,3,3,4,4}\n",
    "s1=s.copy()  ## shallow copy\n",
    "s1"
   ]
  },
  {
   "cell_type": "code",
   "execution_count": 36,
   "id": "226ef7f5",
   "metadata": {},
   "outputs": [
    {
     "data": {
      "text/plain": [
       "{1, 2, 3, 4, 'hello'}"
      ]
     },
     "execution_count": 36,
     "metadata": {},
     "output_type": "execute_result"
    }
   ],
   "source": [
    "s1.add(\"hello\")\n",
    "s1"
   ]
  },
  {
   "cell_type": "code",
   "execution_count": 37,
   "id": "4d76c8b3",
   "metadata": {},
   "outputs": [
    {
     "data": {
      "text/plain": [
       "{1, 2, 3, 4}"
      ]
     },
     "execution_count": 37,
     "metadata": {},
     "output_type": "execute_result"
    }
   ],
   "source": [
    "s"
   ]
  },
  {
   "cell_type": "markdown",
   "id": "22cbeda2",
   "metadata": {},
   "source": [
    "### UNION:\n",
    "Two sets can be merged using union() function or | operator."
   ]
  },
  {
   "cell_type": "code",
   "execution_count": 16,
   "id": "b8ad6952",
   "metadata": {},
   "outputs": [
    {
     "data": {
      "text/plain": [
       "{2, 3, 4, 5, 6, 7, 8}"
      ]
     },
     "execution_count": 16,
     "metadata": {},
     "output_type": "execute_result"
    }
   ],
   "source": [
    "S1={2,3,4,5}\n",
    "S2={5,6,7,8}\n",
    "S1|S2"
   ]
  },
  {
   "cell_type": "code",
   "execution_count": 43,
   "id": "6f8cbaaa",
   "metadata": {},
   "outputs": [
    {
     "data": {
      "text/plain": [
       "{2, 3, 4, 5, 6, 7, 8}"
      ]
     },
     "execution_count": 43,
     "metadata": {},
     "output_type": "execute_result"
    }
   ],
   "source": [
    "S1={2,3,4,5}\n",
    "S2={5,6,7,8}\n",
    "S1.union(S2)"
   ]
  },
  {
   "cell_type": "code",
   "execution_count": 12,
   "id": "7ff9c443",
   "metadata": {},
   "outputs": [],
   "source": [
    "fruits = {\"apple\", \"mango\", \"grapes\"}\n",
    "vegetables={'potato','onion','carrot'}\n",
    "dishes={'pizza','burger'}"
   ]
  },
  {
   "cell_type": "code",
   "execution_count": 13,
   "id": "aebecbc0",
   "metadata": {},
   "outputs": [
    {
     "name": "stdout",
     "output_type": "stream",
     "text": [
      "{'pizza', 'burger', 'grapes', 'apple', 'mango'}\n"
     ]
    }
   ],
   "source": [
    "# Union using \"|\" operator\n",
    "all_items=fruits|dishes\n",
    "print(all_items)"
   ]
  },
  {
   "cell_type": "code",
   "execution_count": 14,
   "id": "a9b09d47",
   "metadata": {},
   "outputs": [
    {
     "data": {
      "text/plain": [
       "{'apple', 'burger', 'grapes', 'mango', 'pizza'}"
      ]
     },
     "execution_count": 14,
     "metadata": {},
     "output_type": "execute_result"
    }
   ],
   "source": [
    "fruits.union(dishes)"
   ]
  },
  {
   "cell_type": "markdown",
   "id": "1d8a3ba8",
   "metadata": {},
   "source": [
    "### intersection: This can be done through intersection() or & operator. Common Elements are selected."
   ]
  },
  {
   "cell_type": "code",
   "execution_count": 46,
   "id": "59f571d6",
   "metadata": {},
   "outputs": [
    {
     "data": {
      "text/plain": [
       "{5}"
      ]
     },
     "execution_count": 46,
     "metadata": {},
     "output_type": "execute_result"
    }
   ],
   "source": [
    "S1={2,3,4,5}\n",
    "S2={5,6,7,8}\n",
    "S1.intersection(S2)"
   ]
  },
  {
   "cell_type": "markdown",
   "id": "d9522ee7",
   "metadata": {},
   "source": [
    "## difference: This is done through difference() or – operator."
   ]
  },
  {
   "cell_type": "code",
   "execution_count": 15,
   "id": "a22a608a",
   "metadata": {},
   "outputs": [
    {
     "data": {
      "text/plain": [
       "{2, 3, 4}"
      ]
     },
     "execution_count": 15,
     "metadata": {},
     "output_type": "execute_result"
    }
   ],
   "source": [
    "S1={2,3,4,5}\n",
    "S2={5,6,7,8}\n",
    "S1.difference(S2)"
   ]
  },
  {
   "cell_type": "code",
   "execution_count": 16,
   "id": "a50e68f8",
   "metadata": {},
   "outputs": [
    {
     "data": {
      "text/plain": [
       "{2, 3, 4}"
      ]
     },
     "execution_count": 16,
     "metadata": {},
     "output_type": "execute_result"
    }
   ],
   "source": [
    "S1-S2"
   ]
  },
  {
   "cell_type": "markdown",
   "id": "2f5e4cf1",
   "metadata": {},
   "source": [
    "### difference_update"
   ]
  },
  {
   "cell_type": "code",
   "execution_count": 9,
   "id": "97580b32",
   "metadata": {},
   "outputs": [
    {
     "name": "stdout",
     "output_type": "stream",
     "text": [
      "{2, 3, 4}\n"
     ]
    }
   ],
   "source": [
    "S1={2,3,4,5}\n",
    "S2={5,6,7,8}\n",
    "S1.difference_update(S2)\n",
    "print(S1)"
   ]
  },
  {
   "cell_type": "markdown",
   "id": "33e2a0d2",
   "metadata": {},
   "source": [
    "## symmetric_difference gives all elements except common"
   ]
  },
  {
   "cell_type": "code",
   "execution_count": 52,
   "id": "ba41fa6a",
   "metadata": {},
   "outputs": [
    {
     "data": {
      "text/plain": [
       "{2, 3, 4, 6, 7, 8}"
      ]
     },
     "execution_count": 52,
     "metadata": {},
     "output_type": "execute_result"
    }
   ],
   "source": [
    "S1={2,3,4,5}\n",
    "S2={5,6,7,8}\n",
    "S1.symmetric_difference(S2)\n"
   ]
  },
  {
   "cell_type": "markdown",
   "id": "9b516cdb",
   "metadata": {},
   "source": [
    "## issubset : all the elements of s1 present in s2"
   ]
  },
  {
   "cell_type": "code",
   "execution_count": 53,
   "id": "99089112",
   "metadata": {},
   "outputs": [
    {
     "data": {
      "text/plain": [
       "False"
      ]
     },
     "execution_count": 53,
     "metadata": {},
     "output_type": "execute_result"
    }
   ],
   "source": [
    "S1={2,3,4,5}\n",
    "S2={5,6,7,8}\n",
    "S1.issubset(S2)\n"
   ]
  },
  {
   "cell_type": "code",
   "execution_count": 58,
   "id": "80832b59",
   "metadata": {},
   "outputs": [
    {
     "data": {
      "text/plain": [
       "True"
      ]
     },
     "execution_count": 58,
     "metadata": {},
     "output_type": "execute_result"
    }
   ],
   "source": [
    "S1={2,3,4}\n",
    "S2={2,3,4,5,6,7,8}\n",
    "S2.issuperset(S1)"
   ]
  },
  {
   "cell_type": "code",
   "execution_count": 59,
   "id": "a62397a7",
   "metadata": {},
   "outputs": [
    {
     "data": {
      "text/plain": [
       "True"
      ]
     },
     "execution_count": 59,
     "metadata": {},
     "output_type": "execute_result"
    }
   ],
   "source": [
    "S1={2,3,4}\n",
    "S2={2,3,4,5,6,7,8}\n",
    "S1.issubset(S2)\n"
   ]
  },
  {
   "cell_type": "markdown",
   "id": "6a6ead56",
   "metadata": {},
   "source": [
    "## isdisjoint"
   ]
  },
  {
   "cell_type": "code",
   "execution_count": 20,
   "id": "99e9fc17",
   "metadata": {},
   "outputs": [
    {
     "data": {
      "text/plain": [
       "True"
      ]
     },
     "execution_count": 20,
     "metadata": {},
     "output_type": "execute_result"
    }
   ],
   "source": [
    "S1={2,3,4}\n",
    "S2={5,6,7,8}\n",
    "S1.isdisjoint(S2)"
   ]
  },
  {
   "cell_type": "code",
   "execution_count": 55,
   "id": "29637d91",
   "metadata": {},
   "outputs": [
    {
     "data": {
      "text/plain": [
       "True"
      ]
     },
     "execution_count": 55,
     "metadata": {},
     "output_type": "execute_result"
    }
   ],
   "source": [
    "S1={2,3,4}\n",
    "S2={5,6,7,8}\n",
    "S1.isdisjoint(S2)"
   ]
  },
  {
   "cell_type": "code",
   "execution_count": null,
   "id": "79326833",
   "metadata": {},
   "outputs": [],
   "source": [
    "S1={2,3,4,5}\n",
    "S2={5,6,7,8}\n",
    "S1.(S2)"
   ]
  },
  {
   "cell_type": "markdown",
   "id": "38cf39f4",
   "metadata": {},
   "source": [
    "### frozenset: it is an immutable version of set .. elements of frozen set remain same after creation .Due to this, frozen sets can be used as keys of dictionary"
   ]
  },
  {
   "cell_type": "code",
   "execution_count": 61,
   "id": "70b8e7a7",
   "metadata": {},
   "outputs": [
    {
     "name": "stdout",
     "output_type": "stream",
     "text": [
      "frozenset({1, 2, 3, 4, 5})\n"
     ]
    }
   ],
   "source": [
    "a={1,2,3,4,5}\n",
    "a1 = frozenset(a)\n",
    "print(a1)"
   ]
  },
  {
   "cell_type": "code",
   "execution_count": 62,
   "id": "a2682b3d",
   "metadata": {},
   "outputs": [
    {
     "ename": "AttributeError",
     "evalue": "'frozenset' object has no attribute 'add'",
     "output_type": "error",
     "traceback": [
      "\u001b[1;31m---------------------------------------------------------------------------\u001b[0m",
      "\u001b[1;31mAttributeError\u001b[0m                            Traceback (most recent call last)",
      "Input \u001b[1;32mIn [62]\u001b[0m, in \u001b[0;36m<cell line: 1>\u001b[1;34m()\u001b[0m\n\u001b[1;32m----> 1\u001b[0m \u001b[43ma1\u001b[49m\u001b[38;5;241;43m.\u001b[39;49m\u001b[43madd\u001b[49m(\u001b[38;5;241m3\u001b[39m)\n",
      "\u001b[1;31mAttributeError\u001b[0m: 'frozenset' object has no attribute 'add'"
     ]
    }
   ],
   "source": [
    "a1.add(3)"
   ]
  },
  {
   "cell_type": "markdown",
   "id": "0f44a509",
   "metadata": {},
   "source": [
    "WAP TO ADD ALL THE ELEMENTS IN SET FROM 2000 TO 2100 WHOSE ALL DIGITS ARE EVEN"
   ]
  },
  {
   "cell_type": "code",
   "execution_count": 28,
   "id": "3ebf5462",
   "metadata": {},
   "outputs": [
    {
     "name": "stdout",
     "output_type": "stream",
     "text": [
      "{2048, 2060, 2062, 2064, 2066, 2068, 2080, 2082, 2084, 2086, 2088, 2000, 2002, 2004, 2006, 2008, 2020, 2022, 2024, 2026, 2028, 2040, 2042, 2044, 2046}\n"
     ]
    }
   ],
   "source": [
    "s1=set()\n",
    "\n",
    "for i in range(2000,2101):\n",
    "    s=str(i)\n",
    "    count=0\n",
    "    for j in s:\n",
    "        j=int(j)\n",
    "        if j%2==0:\n",
    "            count=count+1\n",
    "    if count==4:\n",
    "        #print(i,end=\",\")\n",
    "        s1.add(i)\n",
    "print(s1)"
   ]
  },
  {
   "cell_type": "code",
   "execution_count": 31,
   "id": "2fe032f2",
   "metadata": {},
   "outputs": [
    {
     "name": "stdout",
     "output_type": "stream",
     "text": [
      "Enter 1st stringtaran\n",
      "Enter 2nd stringnarat\n",
      "{'a', 'r', 'n', 't'}\n",
      "{'a', 'r', 'n', 't'}\n",
      "equal\n"
     ]
    }
   ],
   "source": [
    "a=set()\n",
    "m=set()\n",
    "l=set()\n",
    "n=input(\"Enter 1st string\")\n",
    "b=input(\"Enter 2nd string\")\n",
    "for i in range(0,len(n)):\n",
    "    a.add(n[i])\n",
    "#     k+=1\n",
    "for z in range(0,len(b)):\n",
    "    m.add(b[z])\n",
    "#     t+=1\n",
    "print(m)\n",
    "print(a)\n",
    "if m==a:\n",
    "    print(\"equal\")\n",
    "else:\n",
    "    print(\"not eqaula\n",
    "          \")\n"
   ]
  },
  {
   "cell_type": "code",
   "execution_count": null,
   "id": "4ae87875",
   "metadata": {},
   "outputs": [],
   "source": [
    "L1=[\"JAI KUMAR SINGH\"]\n",
    "L2=[\"NTISH SINGH KATRAIA\"]\n",
    "FIRST=[JAI,NITISH]\n",
    "MIDDLE=[KUMAR,SINGH]\n",
    "LAST=[\"SINGH\",KATARIA]\n"
   ]
  }
 ],
 "metadata": {
  "kernelspec": {
   "display_name": "Python 3 (ipykernel)",
   "language": "python",
   "name": "python3"
  },
  "language_info": {
   "codemirror_mode": {
    "name": "ipython",
    "version": 3
   },
   "file_extension": ".py",
   "mimetype": "text/x-python",
   "name": "python",
   "nbconvert_exporter": "python",
   "pygments_lexer": "ipython3",
   "version": "3.9.7"
  }
 },
 "nbformat": 4,
 "nbformat_minor": 5
}
