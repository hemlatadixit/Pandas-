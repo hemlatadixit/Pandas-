{
 "cells": [
  {
   "cell_type": "markdown",
   "id": "c09847f4",
   "metadata": {},
   "source": [
    "### Strings : Built in data type (sequence)\n",
    "\n",
    "\n",
    "For example, \n",
    "\n",
    "\n",
    "Python understands the string \"hello' to be a sequence of letters in a specific order which means the indexing technique to grab particular letters (like first letter or the last letter).\n",
    "\n",
    "\n",
    "### Strings is a sequence of characters(text information)\n",
    "\n",
    "\n"
   ]
  },
  {
   "cell_type": "markdown",
   "id": "910f921c",
   "metadata": {},
   "source": [
    "- Creating\n",
    "- accessing\n",
    "- updating \n",
    "- adding characters to string\n",
    "- editing string\n",
    "- deleting string\n",
    "- operations on strings\n",
    "- string functions \n"
   ]
  },
  {
   "cell_type": "markdown",
   "id": "501d1ccc",
   "metadata": {},
   "source": [
    "###  String Creation :\n",
    "\n",
    "Creating a String : Strings in Python can be created using\n",
    "\n",
    "- single quotes \n",
    "\n",
    "\n",
    "- double quotes \n",
    "\n",
    "\n",
    "- triple quotes\n",
    "\n",
    "- string constructor\n"
   ]
  },
  {
   "cell_type": "code",
   "execution_count": 5,
   "id": "9fe5533d",
   "metadata": {},
   "outputs": [
    {
     "name": "stdout",
     "output_type": "stream",
     "text": [
      "hello\n",
      "empty string is-\n",
      "empty string \n"
     ]
    }
   ],
   "source": [
    "\n",
    "## by using str constructor\n",
    "s2=str(\"hello\")\n",
    "print(s2)\n",
    "#creation of empty string or creates a string object s2 for string hello\n",
    "s3=str()\n",
    "print(\"empty string is\", s3,sep=\"-\")\n",
    "s4=\"\"\n",
    "print(\"empty string\",s4)\n"
   ]
  },
  {
   "cell_type": "markdown",
   "id": "e13e364c",
   "metadata": {},
   "source": [
    "### Accessing characters in Python : Indexing \n",
    "\n",
    "- indexing allows us to access the characters one at atime  using indexing . \n",
    "\n",
    "- indexing starts from 0  and -1 from reverse direction\n",
    "\n",
    "indexing allows postive and negative references.\n",
    "\n",
    "\n",
    "\n",
    "e.g.0 refers to first character, -1 refers to the last character, -2 refers to the second last character, and so on."
   ]
  },
  {
   "attachments": {
    "string_indexing.png": {
     "image/png": "[encoded data removed]"
    }
   },
   "cell_type": "markdown",
   "id": "e4086cf4",
   "metadata": {},
   "source": [
    "![string_indexing.png](attachment:string_indexing.png)"
   ]
  },
  {
   "cell_type": "code",
   "execution_count": 64,
   "id": "dac11a5c",
   "metadata": {},
   "outputs": [
    {
     "data": {
      "text/plain": [
       "'us eroc ym si nohtyp'"
      ]
     },
     "execution_count": 64,
     "metadata": {},
     "output_type": "execute_result"
    }
   ],
   "source": [
    "s=\"python is my core subject\"\n",
    "s[-6::-1]"
   ]
  },
  {
   "cell_type": "markdown",
   "id": "f6e76910",
   "metadata": {},
   "source": [
    "##### String1 = \"Python core\"\n",
    "print(String1[0]) # Printing First character\n",
    "print(String1[-1]) # Printing Last character\n"
   ]
  },
  {
   "cell_type": "code",
   "execution_count": 20,
   "id": "4fd397f0",
   "metadata": {},
   "outputs": [
    {
     "name": "stdout",
     "output_type": "stream",
     "text": [
      "Balmeet\n",
      "l\n",
      "t\n",
      "a\n",
      "e\n",
      "a\n"
     ]
    },
    {
     "ename": "IndexError",
     "evalue": "string index out of range",
     "output_type": "error",
     "traceback": [
      "\u001b[1;31m---------------------------------------------------------------------------\u001b[0m",
      "\u001b[1;31mIndexError\u001b[0m                                Traceback (most recent call last)",
      "Input \u001b[1;32mIn [20]\u001b[0m, in \u001b[0;36m<cell line: 15>\u001b[1;34m()\u001b[0m\n\u001b[0;32m     13\u001b[0m \u001b[38;5;28mprint\u001b[39m(a[\u001b[38;5;241m-\u001b[39m\u001b[38;5;241m2\u001b[39m])\n\u001b[0;32m     14\u001b[0m \u001b[38;5;28mprint\u001b[39m(a[\u001b[38;5;241m-\u001b[39m\u001b[38;5;241m6\u001b[39m])\n\u001b[1;32m---> 15\u001b[0m \u001b[38;5;28mprint\u001b[39m(\u001b[43ma\u001b[49m\u001b[43m[\u001b[49m\u001b[38;5;241;43m-\u001b[39;49m\u001b[38;5;241;43m8\u001b[39;49m\u001b[43m]\u001b[49m)\n",
      "\u001b[1;31mIndexError\u001b[0m: string index out of range"
     ]
    }
   ],
   "source": [
    "a= \"Balmeet\"\n",
    "print(a)\n",
    "\n",
    "# access the character using indexing in forward direction\n",
    "print(a[2])\n",
    "print(a[6])\n",
    "print(a[1])\n",
    "\n",
    "\n",
    "\n",
    "\n",
    "# access the character using indexing in backword direction\n",
    "print(a[-2])\n",
    "print(a[-6])\n",
    "print(a[-8])"
   ]
  },
  {
   "cell_type": "markdown",
   "id": "3161aa08",
   "metadata": {},
   "source": [
    "### String Slicing\n",
    "To access a range of characters in the String, the method of slicing is used. Slicing in a String is\n",
    "done by using a Slicing operator (colon)"
   ]
  },
  {
   "cell_type": "code",
   "execution_count": 8,
   "id": "9b54ffa7",
   "metadata": {},
   "outputs": [
    {
     "name": "stdout",
     "output_type": "stream",
     "text": [
      "Python Core\n",
      "hon core\n",
      "hon co\n"
     ]
    }
   ],
   "source": [
    "# Python Program to demonstrate String slicing\n",
    "String = \"Python Core\"\n",
    "print(String)\n",
    "print(String1[3:12])\n",
    "# Printing 3rd to 12th character\n",
    "print(String1[3:-2])\n",
    "# Printing characters between 3rd and 2nd last character"
   ]
  },
  {
   "cell_type": "code",
   "execution_count": 26,
   "id": "3ddf3e70",
   "metadata": {},
   "outputs": [
    {
     "data": {
      "text/plain": [
       "'yth'"
      ]
     },
     "execution_count": 26,
     "metadata": {},
     "output_type": "execute_result"
    }
   ],
   "source": [
    "s=\"python\"\n",
    "s[-5:-2]"
   ]
  },
  {
   "cell_type": "code",
   "execution_count": 31,
   "id": "f9dc0f0a",
   "metadata": {},
   "outputs": [
    {
     "data": {
      "text/plain": [
       "'hon'"
      ]
     },
     "execution_count": 31,
     "metadata": {},
     "output_type": "execute_result"
    }
   ],
   "source": [
    "s=\"python\"\n",
    "s[-3:]"
   ]
  },
  {
   "cell_type": "code",
   "execution_count": 9,
   "id": "c983281b",
   "metadata": {},
   "outputs": [
    {
     "name": "stdout",
     "output_type": "stream",
     "text": [
      "vira\n",
      "viraj\n",
      "viraj\n",
      "Aviraj\n",
      "Aviraj\n",
      "Avira\n",
      "Avira\n",
      "A\n",
      "\n",
      "ra\n",
      "raj\n",
      "\n",
      "Aviraj\n",
      "Aia\n",
      "\n",
      "jar\n",
      "ari\n",
      "Aviraj\n",
      "jarivA\n",
      "iraj\n",
      "Aj\n",
      "vrj\n",
      "rivA\n",
      "rv\n",
      "iA\n"
     ]
    }
   ],
   "source": [
    "# Slicing: accesing sub strings from string: a[start:end:stepsize] here end is treated as end -1\n",
    "a1=\"Aviraj\"\n",
    "print(a1[1:5])\n",
    "print(a1[1:6])\n",
    "print(a1[1:7]) \n",
    "print(a1[0:])\n",
    "print(a1[:])\n",
    "print(a1[:5])\n",
    "print(a1[:-1])\n",
    "print(a1[:-5])\n",
    "print(a1[:-6])  # empty string\n",
    "print(a1[-3:-1])\n",
    "print(a1[-3:])\n",
    "print(a1[-3:1])  # empty string\n",
    "print(a1[0:6:1])   # with step size 1\n",
    "print(a1[0:6:2])   # with step size 2\n",
    "print(a1[-1:-4:1])   # empty string as 1 step size indicates access the character in forward direction with step size 1\n",
    "print(a1[-1:-4:-1])   # - step size indicates to access the character in reverse direction\n",
    "print(a1[4:1:-1])\n",
    "print(a1[::])   # to get whole string   \n",
    "\n",
    "#a[:: -step size : - indicates reverse movement]\n",
    "\n",
    "print(a1[::-1])  # to get whole string in reverse direction\n",
    "print(a1[2::])   # step size is not defined here \n",
    "print(a1[0::5])\n",
    "print(a1[1::2])\n",
    "print(a1[3::-1])   # - here indicates move in reverse direction wiith step size 1\n",
    "print(a1[3::-2])\n",
    "print(a1[-4::-2])"
   ]
  },
  {
   "cell_type": "markdown",
   "id": "de537490",
   "metadata": {},
   "source": [
    "### Updating a String"
   ]
  },
  {
   "cell_type": "code",
   "execution_count": 1,
   "id": "cfb06e8a",
   "metadata": {},
   "outputs": [
    {
     "ename": "TypeError",
     "evalue": "'str' object does not support item assignment",
     "output_type": "error",
     "traceback": [
      "\u001b[1;31m---------------------------------------------------------------------------\u001b[0m",
      "\u001b[1;31mTypeError\u001b[0m                                 Traceback (most recent call last)",
      "Input \u001b[1;32mIn [1]\u001b[0m, in \u001b[0;36m<cell line: 2>\u001b[1;34m()\u001b[0m\n\u001b[0;32m      1\u001b[0m s\u001b[38;5;241m=\u001b[39m\u001b[38;5;124m\"\u001b[39m\u001b[38;5;124mpython\u001b[39m\u001b[38;5;124m\"\u001b[39m\n\u001b[1;32m----> 2\u001b[0m s[\u001b[38;5;241m1\u001b[39m]\u001b[38;5;241m=\u001b[39m\u001b[38;5;124m\"\u001b[39m\u001b[38;5;124mb\u001b[39m\u001b[38;5;124m\"\u001b[39m\n",
      "\u001b[1;31mTypeError\u001b[0m: 'str' object does not support item assignment"
     ]
    }
   ],
   "source": [
    "s=\"python\"\n",
    "s[1]=\"b\""
   ]
  },
  {
   "cell_type": "code",
   "execution_count": 2,
   "id": "8de718e4",
   "metadata": {},
   "outputs": [
    {
     "name": "stdout",
     "output_type": "stream",
     "text": [
      "Hello, I'm a Geek\n"
     ]
    },
    {
     "ename": "TypeError",
     "evalue": "'str' object does not support item assignment",
     "output_type": "error",
     "traceback": [
      "\u001b[1;31m---------------------------------------------------------------------------\u001b[0m",
      "\u001b[1;31mTypeError\u001b[0m                                 Traceback (most recent call last)",
      "Input \u001b[1;32mIn [2]\u001b[0m, in \u001b[0;36m<cell line: 4>\u001b[1;34m()\u001b[0m\n\u001b[0;32m      2\u001b[0m \u001b[38;5;28mprint\u001b[39m(String)\n\u001b[0;32m      3\u001b[0m \u001b[38;5;66;03m# Updating a character of the String\u001b[39;00m\n\u001b[1;32m----> 4\u001b[0m String[\u001b[38;5;241m2\u001b[39m] \u001b[38;5;241m=\u001b[39m \u001b[38;5;124m'\u001b[39m\u001b[38;5;124mp\u001b[39m\u001b[38;5;124m'\u001b[39m\n\u001b[0;32m      5\u001b[0m \u001b[38;5;28mprint\u001b[39m(String)\n",
      "\u001b[1;31mTypeError\u001b[0m: 'str' object does not support item assignment"
     ]
    }
   ],
   "source": [
    "String = \"Hello, I'm a Geek\"\n",
    "print(String)\n",
    "# Updating a character of the String\n",
    "String[2] = 'p'\n",
    "print(String)\n",
    "# strings are immutable so it will give error"
   ]
  },
  {
   "cell_type": "markdown",
   "id": "878d6327",
   "metadata": {},
   "source": [
    "###  String : important property-----Immutable  \n",
    "\n",
    "\n",
    "\n",
    "\n",
    "where immutable is used in real world?? "
   ]
  },
  {
   "cell_type": "code",
   "execution_count": 11,
   "id": "57b8ab75",
   "metadata": {},
   "outputs": [
    {
     "ename": "TypeError",
     "evalue": "'str' object does not support item assignment",
     "output_type": "error",
     "traceback": [
      "\u001b[1;31m---------------------------------------------------------------------------\u001b[0m",
      "\u001b[1;31mTypeError\u001b[0m                                 Traceback (most recent call last)",
      "Input \u001b[1;32mIn [11]\u001b[0m, in \u001b[0;36m<cell line: 3>\u001b[1;34m()\u001b[0m\n\u001b[0;32m      1\u001b[0m \u001b[38;5;66;03m# We can not change the string once it has been defined as it is immutable\u001b[39;00m\n\u001b[0;32m      2\u001b[0m s\u001b[38;5;241m=\u001b[39m\u001b[38;5;124m\"\u001b[39m\u001b[38;5;124mkeerat\u001b[39m\u001b[38;5;124m\"\u001b[39m\n\u001b[1;32m----> 3\u001b[0m s2[\u001b[38;5;241m0\u001b[39m]\u001b[38;5;241m=\u001b[39m\u001b[38;5;124m\"\u001b[39m\u001b[38;5;124ms\u001b[39m\u001b[38;5;124m\"\u001b[39m\n\u001b[0;32m      4\u001b[0m \u001b[38;5;28mprint\u001b[39m(s2)\n",
      "\u001b[1;31mTypeError\u001b[0m: 'str' object does not support item assignment"
     ]
    }
   ],
   "source": [
    "# We can not change the string once it has been defined as it is immutable\n",
    "s=\"keerat\"\n",
    "s2[0]=\"s\"\n",
    "print(s2)\n"
   ]
  },
  {
   "cell_type": "code",
   "execution_count": 15,
   "id": "44d50a5d",
   "metadata": {},
   "outputs": [
    {
     "name": "stdout",
     "output_type": "stream",
     "text": [
      "balmeet\n"
     ]
    },
    {
     "ename": "TypeError",
     "evalue": "'str' object doesn't support item deletion",
     "output_type": "error",
     "traceback": [
      "\u001b[1;31m---------------------------------------------------------------------------\u001b[0m",
      "\u001b[1;31mTypeError\u001b[0m                                 Traceback (most recent call last)",
      "\u001b[1;32m~\\AppData\\Local\\Temp/ipykernel_11024/117007374.py\u001b[0m in \u001b[0;36m<module>\u001b[1;34m\u001b[0m\n\u001b[0;32m      1\u001b[0m \u001b[0mprint\u001b[0m\u001b[1;33m(\u001b[0m\u001b[0ms1\u001b[0m\u001b[1;33m)\u001b[0m\u001b[1;33m\u001b[0m\u001b[1;33m\u001b[0m\u001b[0m\n\u001b[1;32m----> 2\u001b[1;33m \u001b[1;32mdel\u001b[0m \u001b[0ms\u001b[0m\u001b[1;33m[\u001b[0m\u001b[1;36m1\u001b[0m\u001b[1;33m]\u001b[0m\u001b[1;33m\u001b[0m\u001b[1;33m\u001b[0m\u001b[0m\n\u001b[0m\u001b[0;32m      3\u001b[0m \u001b[0mprint\u001b[0m\u001b[1;33m(\u001b[0m\u001b[0ms1\u001b[0m\u001b[1;33m)\u001b[0m\u001b[1;33m\u001b[0m\u001b[1;33m\u001b[0m\u001b[0m\n",
      "\u001b[1;31mTypeError\u001b[0m: 'str' object doesn't support item deletion"
     ]
    }
   ],
   "source": [
    "# we can not  even delete the character of string since  it is immutable \n",
    "print(s1)\n",
    "del s[1]\n",
    "print(s1)\n"
   ]
  },
  {
   "cell_type": "markdown",
   "id": "d7fcc96a",
   "metadata": {},
   "source": [
    "### Note : \n",
    "\n",
    "\n",
    "we can assign new whole value to string not modify the string as mentioned above(means re assigning is possible)\n",
    "\n",
    "or we can delete the entire string "
   ]
  },
  {
   "cell_type": "code",
   "execution_count": 3,
   "id": "ccf2e6ff",
   "metadata": {},
   "outputs": [],
   "source": [
    "s=\"balmeet\"\n",
    "del s"
   ]
  },
  {
   "cell_type": "code",
   "execution_count": 1,
   "id": "3183bc4e",
   "metadata": {},
   "outputs": [
    {
     "ename": "TypeError",
     "evalue": "'str' object does not support item assignment",
     "output_type": "error",
     "traceback": [
      "\u001b[1;31m---------------------------------------------------------------------------\u001b[0m",
      "\u001b[1;31mTypeError\u001b[0m                                 Traceback (most recent call last)",
      "Input \u001b[1;32mIn [1]\u001b[0m, in \u001b[0;36m<cell line: 2>\u001b[1;34m()\u001b[0m\n\u001b[0;32m      1\u001b[0m s1\u001b[38;5;241m=\u001b[39m\u001b[38;5;124m\"\u001b[39m\u001b[38;5;124mabc\u001b[39m\u001b[38;5;124m\"\u001b[39m\n\u001b[1;32m----> 2\u001b[0m s1[\u001b[38;5;241m2\u001b[39m]\u001b[38;5;241m=\u001b[39m\u001b[38;5;124m\"\u001b[39m\u001b[38;5;124mg\u001b[39m\u001b[38;5;124m\"\u001b[39m\n",
      "\u001b[1;31mTypeError\u001b[0m: 'str' object does not support item assignment"
     ]
    }
   ],
   "source": [
    "s1=\"abc\"\n",
    "s1[2]=\"g\""
   ]
  },
  {
   "cell_type": "code",
   "execution_count": 66,
   "id": "6433a785",
   "metadata": {},
   "outputs": [
    {
     "name": "stdout",
     "output_type": "stream",
     "text": [
      "python\n",
      "madrid\n"
     ]
    }
   ],
   "source": [
    "s=\"python\"\n",
    "print(s)\n",
    "s=\"madrid\"\n",
    "print(s)"
   ]
  },
  {
   "cell_type": "code",
   "execution_count": 4,
   "id": "7394cd71",
   "metadata": {},
   "outputs": [
    {
     "name": "stdout",
     "output_type": "stream",
     "text": [
      "hello\n"
     ]
    }
   ],
   "source": [
    "s=\"hello\"\n",
    "print(s)\n"
   ]
  },
  {
   "cell_type": "markdown",
   "id": "71e5d666",
   "metadata": {},
   "source": [
    "### String operators \n",
    "- Arithmetic operators(only + and *)\n",
    "- relational\n",
    "- logical\n",
    "- loops in string\n",
    "- membership operators"
   ]
  },
  {
   "cell_type": "markdown",
   "id": "26a1c63a",
   "metadata": {},
   "source": [
    "### + : used for joining or concatenation two or more strings "
   ]
  },
  {
   "cell_type": "code",
   "execution_count": 6,
   "id": "d9be7c12",
   "metadata": {},
   "outputs": [
    {
     "name": "stdout",
     "output_type": "stream",
     "text": [
      "balmeet kaur\n"
     ]
    }
   ],
   "source": [
    "a=\"balmeet\"\n",
    "a=a+\" \"+\"kaur\"\n",
    "print(a)"
   ]
  },
  {
   "cell_type": "markdown",
   "id": "e1dc5f99",
   "metadata": {},
   "source": [
    "### * : used for replication"
   ]
  },
  {
   "cell_type": "code",
   "execution_count": 10,
   "id": "fb9cb570",
   "metadata": {},
   "outputs": [
    {
     "name": "stdout",
     "output_type": "stream",
     "text": [
      "hellohellohellohellohello\n"
     ]
    }
   ],
   "source": [
    "a=\"hello\"\n",
    "b=a*5\n",
    "print(b)"
   ]
  },
  {
   "cell_type": "markdown",
   "id": "5e9d3faa",
   "metadata": {},
   "source": [
    "### to print this pattern : @-@-@-@-"
   ]
  },
  {
   "cell_type": "code",
   "execution_count": 24,
   "id": "f2e27d05",
   "metadata": {},
   "outputs": [
    {
     "name": "stdout",
     "output_type": "stream",
     "text": [
      "@-@-@-@-@-@-@-@-@-@-@-@-@-@-@-@-@-@-@-@-@-@-@-@-@-@-@-@-@-@-@-@-@-@-@-@-@-@-@-@-@-@-@-@-@-@-@-@-@-@-\n"
     ]
    }
   ],
   "source": [
    "a=\"@-\"\n",
    "print(a*50)"
   ]
  },
  {
   "cell_type": "markdown",
   "id": "b4bbd586",
   "metadata": {},
   "source": [
    "### relational operators"
   ]
  },
  {
   "cell_type": "code",
   "execution_count": 25,
   "id": "7b163550",
   "metadata": {},
   "outputs": [
    {
     "name": "stdout",
     "output_type": "stream",
     "text": [
      "False\n"
     ]
    }
   ],
   "source": [
    "## ==\n",
    "a=\"balmeet\"\n",
    "b=\"balpreet\"\n",
    "print(a==b)"
   ]
  },
  {
   "cell_type": "code",
   "execution_count": 7,
   "id": "57fb6236",
   "metadata": {},
   "outputs": [
    {
     "name": "stdout",
     "output_type": "stream",
     "text": [
      "True\n"
     ]
    }
   ],
   "source": [
    "## !\n",
    "a=\"balmeet\"\n",
    "b=\"madrid\"\n",
    "print(a!=b)"
   ]
  },
  {
   "cell_type": "code",
   "execution_count": 9,
   "id": "33b9307b",
   "metadata": {},
   "outputs": [
    {
     "name": "stdout",
     "output_type": "stream",
     "text": [
      "False\n"
     ]
    }
   ],
   "source": [
    "## >\n",
    "a=\"madridd\"\n",
    "b=\"madrid\"\n",
    "print(b>a)  "
   ]
  },
  {
   "cell_type": "code",
   "execution_count": 71,
   "id": "7b86438d",
   "metadata": {},
   "outputs": [
    {
     "name": "stdout",
     "output_type": "stream",
     "text": [
      "False\n"
     ]
    }
   ],
   "source": [
    "### \n",
    "s1=\"kee\"\n",
    "s2=\"keerat\"\n",
    "print(s1>s2)  ## using lexiographic order seerat comes later than keerat in dictonary so seerat assumes big than keerat\n"
   ]
  },
  {
   "cell_type": "markdown",
   "id": "2bbbc1cc",
   "metadata": {},
   "source": [
    "## logical operators"
   ]
  },
  {
   "cell_type": "code",
   "execution_count": 30,
   "id": "ade67735",
   "metadata": {},
   "outputs": [
    {
     "data": {
      "text/plain": [
       "''"
      ]
     },
     "execution_count": 30,
     "metadata": {},
     "output_type": "execute_result"
    }
   ],
   "source": [
    "k=\"balmeet\" and \"\"   ## empty string is false \n",
    "k"
   ]
  },
  {
   "cell_type": "code",
   "execution_count": 12,
   "id": "a8900f76",
   "metadata": {},
   "outputs": [
    {
     "data": {
      "text/plain": [
       "'balmeet'"
      ]
     },
     "execution_count": 12,
     "metadata": {},
     "output_type": "execute_result"
    }
   ],
   "source": [
    "k=\"balmeet\" or \"\"   ## returns balmeet as true\n",
    "k"
   ]
  },
  {
   "cell_type": "code",
   "execution_count": 33,
   "id": "d528ee85",
   "metadata": {},
   "outputs": [
    {
     "data": {
      "text/plain": [
       "'balmeet'"
      ]
     },
     "execution_count": 33,
     "metadata": {},
     "output_type": "execute_result"
    }
   ],
   "source": [
    "k=\"balmeet\" or \"kaur\"   ## returns balmeet as true , here both are one balmeet and kaur so get first one \n",
    "k"
   ]
  },
  {
   "cell_type": "code",
   "execution_count": 36,
   "id": "cd8f073c",
   "metadata": {},
   "outputs": [
    {
     "data": {
      "text/plain": [
       "'kaur'"
      ]
     },
     "execution_count": 36,
     "metadata": {},
     "output_type": "execute_result"
    }
   ],
   "source": [
    "k=\"balmeet\" and \"kaur\" \n",
    "k     ## returns kaur as true , here both are one balmeet and kaur so get second one in and operators"
   ]
  },
  {
   "cell_type": "markdown",
   "id": "49d35447",
   "metadata": {},
   "source": [
    "### loops in strings"
   ]
  },
  {
   "cell_type": "code",
   "execution_count": 37,
   "id": "3f6c06e8",
   "metadata": {},
   "outputs": [
    {
     "name": "stdout",
     "output_type": "stream",
     "text": [
      "h\n",
      "e\n",
      "l\n",
      "l\n",
      "o\n"
     ]
    }
   ],
   "source": [
    "s=\"hello\"\n",
    "for i in s:\n",
    "    print(i)"
   ]
  },
  {
   "cell_type": "code",
   "execution_count": 38,
   "id": "7602d367",
   "metadata": {},
   "outputs": [
    {
     "name": "stdout",
     "output_type": "stream",
     "text": [
      "l\n",
      "l\n",
      "o\n"
     ]
    }
   ],
   "source": [
    "s=\"hello\"\n",
    "for i in s[2:5]:\n",
    "    print(i)"
   ]
  },
  {
   "cell_type": "markdown",
   "id": "448378fe",
   "metadata": {},
   "source": [
    "### membership opertors"
   ]
  },
  {
   "cell_type": "code",
   "execution_count": 39,
   "id": "7060b992",
   "metadata": {},
   "outputs": [
    {
     "data": {
      "text/plain": [
       "True"
      ]
     },
     "execution_count": 39,
     "metadata": {},
     "output_type": "execute_result"
    }
   ],
   "source": [
    "\"b\" in \"balmeet\""
   ]
  },
  {
   "cell_type": "code",
   "execution_count": 40,
   "id": "964cb2c3",
   "metadata": {},
   "outputs": [
    {
     "data": {
      "text/plain": [
       "True"
      ]
     },
     "execution_count": 40,
     "metadata": {},
     "output_type": "execute_result"
    }
   ],
   "source": [
    "\"meet\" in \"balmeet\""
   ]
  },
  {
   "cell_type": "markdown",
   "id": "967d47f6",
   "metadata": {},
   "source": [
    "### Strings functions "
   ]
  },
  {
   "cell_type": "markdown",
   "id": "a2e39a7d",
   "metadata": {},
   "source": [
    "### Common functions : implements on all sequences like list,tuple etc\n",
    "\n",
    "- len()\n",
    "- max()\n",
    "- min()\n",
    "- sorted()"
   ]
  },
  {
   "cell_type": "code",
   "execution_count": 44,
   "id": "a07ce186",
   "metadata": {},
   "outputs": [
    {
     "data": {
      "text/plain": [
       "6"
      ]
     },
     "execution_count": 44,
     "metadata": {},
     "output_type": "execute_result"
    }
   ],
   "source": [
    "len(\"madrid\")"
   ]
  },
  {
   "cell_type": "code",
   "execution_count": 75,
   "id": "e9cc2e70",
   "metadata": {},
   "outputs": [
    {
     "data": {
      "text/plain": [
       "5"
      ]
     },
     "execution_count": 75,
     "metadata": {},
     "output_type": "execute_result"
    }
   ],
   "source": [
    "len(\"1kkkk\")"
   ]
  },
  {
   "cell_type": "code",
   "execution_count": 45,
   "id": "e07ee5ec",
   "metadata": {},
   "outputs": [
    {
     "data": {
      "text/plain": [
       "'r'"
      ]
     },
     "execution_count": 45,
     "metadata": {},
     "output_type": "execute_result"
    }
   ],
   "source": [
    "max(\"madrid\")"
   ]
  },
  {
   "cell_type": "code",
   "execution_count": 46,
   "id": "c5ad9b57",
   "metadata": {},
   "outputs": [
    {
     "data": {
      "text/plain": [
       "'a'"
      ]
     },
     "execution_count": 46,
     "metadata": {},
     "output_type": "execute_result"
    }
   ],
   "source": [
    "min(\"madrid\")"
   ]
  },
  {
   "cell_type": "code",
   "execution_count": 47,
   "id": "66f929d0",
   "metadata": {},
   "outputs": [
    {
     "data": {
      "text/plain": [
       "['a', 'd', 'd', 'i', 'm', 'r']"
      ]
     },
     "execution_count": 47,
     "metadata": {},
     "output_type": "execute_result"
    }
   ],
   "source": [
    "sorted(\"madrid\")  ## returns in list"
   ]
  },
  {
   "cell_type": "code",
   "execution_count": 48,
   "id": "27bf82a4",
   "metadata": {},
   "outputs": [
    {
     "data": {
      "text/plain": [
       "['r', 'm', 'i', 'd', 'd', 'a']"
      ]
     },
     "execution_count": 48,
     "metadata": {},
     "output_type": "execute_result"
    }
   ],
   "source": [
    "sorted(\"madrid\",reverse=True)"
   ]
  },
  {
   "cell_type": "code",
   "execution_count": 76,
   "id": "fc074749",
   "metadata": {},
   "outputs": [
    {
     "data": {
      "text/plain": [
       "['__add__',\n",
       " '__class__',\n",
       " '__contains__',\n",
       " '__delattr__',\n",
       " '__dir__',\n",
       " '__doc__',\n",
       " '__eq__',\n",
       " '__format__',\n",
       " '__ge__',\n",
       " '__getattribute__',\n",
       " '__getitem__',\n",
       " '__getnewargs__',\n",
       " '__gt__',\n",
       " '__hash__',\n",
       " '__init__',\n",
       " '__init_subclass__',\n",
       " '__iter__',\n",
       " '__le__',\n",
       " '__len__',\n",
       " '__lt__',\n",
       " '__mod__',\n",
       " '__mul__',\n",
       " '__ne__',\n",
       " '__new__',\n",
       " '__reduce__',\n",
       " '__reduce_ex__',\n",
       " '__repr__',\n",
       " '__rmod__',\n",
       " '__rmul__',\n",
       " '__setattr__',\n",
       " '__sizeof__',\n",
       " '__str__',\n",
       " '__subclasshook__',\n",
       " 'capitalize',\n",
       " 'casefold',\n",
       " 'center',\n",
       " 'count',\n",
       " 'encode',\n",
       " 'endswith',\n",
       " 'expandtabs',\n",
       " 'find',\n",
       " 'format',\n",
       " 'format_map',\n",
       " 'index',\n",
       " 'isalnum',\n",
       " 'isalpha',\n",
       " 'isascii',\n",
       " 'isdecimal',\n",
       " 'isdigit',\n",
       " 'isidentifier',\n",
       " 'islower',\n",
       " 'isnumeric',\n",
       " 'isprintable',\n",
       " 'isspace',\n",
       " 'istitle',\n",
       " 'isupper',\n",
       " 'join',\n",
       " 'ljust',\n",
       " 'lower',\n",
       " 'lstrip',\n",
       " 'maketrans',\n",
       " 'partition',\n",
       " 'removeprefix',\n",
       " 'removesuffix',\n",
       " 'replace',\n",
       " 'rfind',\n",
       " 'rindex',\n",
       " 'rjust',\n",
       " 'rpartition',\n",
       " 'rsplit',\n",
       " 'rstrip',\n",
       " 'split',\n",
       " 'splitlines',\n",
       " 'startswith',\n",
       " 'strip',\n",
       " 'swapcase',\n",
       " 'title',\n",
       " 'translate',\n",
       " 'upper',\n",
       " 'zfill']"
      ]
     },
     "execution_count": 76,
     "metadata": {},
     "output_type": "execute_result"
    }
   ],
   "source": [
    "dir(str)"
   ]
  },
  {
   "cell_type": "markdown",
   "id": "9e3980c6",
   "metadata": {},
   "source": [
    "### Specific string functions"
   ]
  },
  {
   "cell_type": "markdown",
   "id": "fb3a6155",
   "metadata": {},
   "source": [
    "- capitalize\n",
    "- lower\n",
    "- upper\n",
    "- title\n",
    "- swapcase"
   ]
  },
  {
   "cell_type": "code",
   "execution_count": 77,
   "id": "01aaa095",
   "metadata": {},
   "outputs": [
    {
     "data": {
      "text/plain": [
       "'Python core'"
      ]
     },
     "execution_count": 77,
     "metadata": {},
     "output_type": "execute_result"
    }
   ],
   "source": [
    "s=\"python core\"\n",
    "s.capitalize()"
   ]
  },
  {
   "cell_type": "code",
   "execution_count": 57,
   "id": "971f1195",
   "metadata": {},
   "outputs": [
    {
     "name": "stdout",
     "output_type": "stream",
     "text": [
      "Madrid software\n",
      "madrid software\n"
     ]
    }
   ],
   "source": [
    "a=\"madrid software\"\n",
    "print(a.capitalize() )\n",
    "print(a)  ## does not alter original string\n"
   ]
  },
  {
   "cell_type": "code",
   "execution_count": 58,
   "id": "fac5da1a",
   "metadata": {},
   "outputs": [
    {
     "name": "stdout",
     "output_type": "stream",
     "text": [
      "Madrid Software\n",
      "madrid software\n"
     ]
    }
   ],
   "source": [
    "a=\"madrid software\"\n",
    "print(a.title() )\n",
    "print(a)  ## does not alter original string\n"
   ]
  },
  {
   "cell_type": "code",
   "execution_count": 59,
   "id": "3075989d",
   "metadata": {},
   "outputs": [
    {
     "name": "stdout",
     "output_type": "stream",
     "text": [
      "madrid software\n",
      "MaDrid software\n"
     ]
    }
   ],
   "source": [
    "a=\"MaDrid software\"\n",
    "print(a.lower() )\n",
    "print(a)  ## does not alter original string\n"
   ]
  },
  {
   "cell_type": "code",
   "execution_count": 60,
   "id": "3df2d412",
   "metadata": {},
   "outputs": [
    {
     "name": "stdout",
     "output_type": "stream",
     "text": [
      "MADRID SOFTWARE\n",
      "MaDrid software\n"
     ]
    }
   ],
   "source": [
    "a=\"MaDrid software\"\n",
    "print(a.upper() )\n",
    "print(a)  ## does not alter original string\n"
   ]
  },
  {
   "cell_type": "code",
   "execution_count": 61,
   "id": "782129a5",
   "metadata": {},
   "outputs": [
    {
     "name": "stdout",
     "output_type": "stream",
     "text": [
      "mAdRID SOFTWARE\n",
      "MaDrid software\n"
     ]
    }
   ],
   "source": [
    "a=\"MaDrid software\"\n",
    "print(a.swapcase() )\n",
    "print(a)  ## does not alter original string\n"
   ]
  },
  {
   "cell_type": "markdown",
   "id": "d215c0d7",
   "metadata": {},
   "source": [
    "### Counting and location"
   ]
  },
  {
   "cell_type": "markdown",
   "id": "e0cf1957",
   "metadata": {},
   "source": [
    "### Count (): returns the number of occurrences of a substring in the given string.\n",
    "\n",
    "\n",
    "### Syntax:\n",
    "\n",
    "\n",
    "string.count(substring, start=…, end=…)\n",
    "\n",
    "\n",
    "\n",
    "\n",
    "Parameters:\n",
    "The count() function has one compulsory and two optional parameters.\n",
    "\n",
    "\n",
    "\n",
    "Mandatory parameter:\n",
    "substring – string whose count is to be found.\n",
    "\n",
    "\n",
    "\n",
    "Optional Parameters:\n",
    "start (Optional) – starting index within the string where the search starts.\n",
    "end (Optional) – ending index within the string where the search ends.\n",
    "\n",
    "\n",
    "\n",
    "Return Value:\n",
    "\n",
    "\n",
    "\n",
    "count() method returns an integer that denotes number of times a substring occurs in a given\n",
    "string.\n",
    " "
   ]
  },
  {
   "cell_type": "markdown",
   "id": "0f31d6d8",
   "metadata": {},
   "source": [
    "### applications of count: frequency of substring "
   ]
  },
  {
   "cell_type": "code",
   "execution_count": 63,
   "id": "d4f6a4be",
   "metadata": {},
   "outputs": [
    {
     "data": {
      "text/plain": [
       "3"
      ]
     },
     "execution_count": 63,
     "metadata": {},
     "output_type": "execute_result"
    }
   ],
   "source": [
    "a=\"hi heena how are you\"\n",
    "a.count(\"h\")"
   ]
  },
  {
   "cell_type": "code",
   "execution_count": 65,
   "id": "3ffd08f2",
   "metadata": {},
   "outputs": [
    {
     "data": {
      "text/plain": [
       "2"
      ]
     },
     "execution_count": 65,
     "metadata": {},
     "output_type": "execute_result"
    }
   ],
   "source": [
    "a='''hi pooja how are you\n",
    "        tel pooja what r u doing these days'''\n",
    "\n",
    "a.count(\"pooja\")"
   ]
  },
  {
   "cell_type": "code",
   "execution_count": 79,
   "id": "ae8eba2d",
   "metadata": {},
   "outputs": [
    {
     "data": {
      "text/plain": [
       "0"
      ]
     },
     "execution_count": 79,
     "metadata": {},
     "output_type": "execute_result"
    }
   ],
   "source": [
    "a='''hi pooja how are you\n",
    "        tel pooja what r u doing these days'''\n",
    "\n",
    "a.count(\"k\")"
   ]
  },
  {
   "cell_type": "code",
   "execution_count": 78,
   "id": "2c150b3b",
   "metadata": {},
   "outputs": [
    {
     "data": {
      "text/plain": [
       "1"
      ]
     },
     "execution_count": 78,
     "metadata": {},
     "output_type": "execute_result"
    }
   ],
   "source": [
    "a='''hi pooja how are you\n",
    "        tel pooja what r u doing these days'''\n",
    "\n",
    "a.count(\"a\",0,8)  ## serach space defined 0 to 7(8-1)"
   ]
  },
  {
   "cell_type": "markdown",
   "id": "6a2eed38",
   "metadata": {},
   "source": [
    "## location: index and find"
   ]
  },
  {
   "cell_type": "markdown",
   "id": "f42820ab",
   "metadata": {},
   "source": [
    "### index() :  which returns the position of the first occurrence of a substring in a string.\n",
    "\n",
    "\n",
    "### Syntax:\n",
    "string.index(ch, start, end)\n",
    "\n",
    "\n",
    "\n",
    "Parameters:\n",
    "\n",
    "\n",
    "ch : The string to be searched for.\n",
    "start (default : 0) : This function specifies the position from where search has to be started.\n",
    "end (default : string_len) : This function specifies the position from where search has to end.\n",
    "\n",
    "\n",
    "\n",
    "Return Value:\n",
    "Returns the first position of the substring found."
   ]
  },
  {
   "cell_type": "code",
   "execution_count": 92,
   "id": "f8746b0d",
   "metadata": {},
   "outputs": [
    {
     "data": {
      "text/plain": [
       "8"
      ]
     },
     "execution_count": 92,
     "metadata": {},
     "output_type": "execute_result"
    }
   ],
   "source": [
    "s=\"python core\"\n",
    "s.index(\"o\",7,9)"
   ]
  },
  {
   "cell_type": "code",
   "execution_count": 70,
   "id": "3367aa13",
   "metadata": {},
   "outputs": [
    {
     "data": {
      "text/plain": [
       "1"
      ]
     },
     "execution_count": 70,
     "metadata": {},
     "output_type": "execute_result"
    }
   ],
   "source": [
    "s=\"madridsoftware\"\n",
    "s.index(\"a\") ## gives position of first occurance"
   ]
  },
  {
   "cell_type": "code",
   "execution_count": 71,
   "id": "57da84e9",
   "metadata": {},
   "outputs": [
    {
     "data": {
      "text/plain": [
       "6"
      ]
     },
     "execution_count": 71,
     "metadata": {},
     "output_type": "execute_result"
    }
   ],
   "source": [
    "s=\"madridsoftware\"\n",
    "s.index(\"software\")"
   ]
  },
  {
   "cell_type": "code",
   "execution_count": 73,
   "id": "656dae2c",
   "metadata": {},
   "outputs": [
    {
     "data": {
      "text/plain": [
       "1"
      ]
     },
     "execution_count": 73,
     "metadata": {},
     "output_type": "execute_result"
    }
   ],
   "source": [
    "s=\"madridsoftware\"\n",
    "s.index(\"a\",0,5)"
   ]
  },
  {
   "cell_type": "markdown",
   "id": "51b0d8c3",
   "metadata": {},
   "source": [
    "### find() :-\n",
    "Python String find() method returns the lowest index of the substring if it is found in a given\n",
    "string. \n",
    "\n",
    "\n",
    "\n",
    "\n",
    "find and index  both r same only difference is find() returns -1 If it is not found where  index returns error\n",
    "Syntax:\n",
    "str.find(sub, start, end)\n",
    "Parameters:\n",
    "sub: It’s the substring that needs to be searched in the given string.\n",
    "start: Starting position where the sub needs to be checked within the string.\n",
    "end: Ending position where suffix needs to be checked within the string."
   ]
  },
  {
   "cell_type": "code",
   "execution_count": 76,
   "id": "ee9d4ded",
   "metadata": {},
   "outputs": [
    {
     "ename": "ValueError",
     "evalue": "substring not found",
     "output_type": "error",
     "traceback": [
      "\u001b[1;31m---------------------------------------------------------------------------\u001b[0m",
      "\u001b[1;31mValueError\u001b[0m                                Traceback (most recent call last)",
      "Input \u001b[1;32mIn [76]\u001b[0m, in \u001b[0;36m<cell line: 2>\u001b[1;34m()\u001b[0m\n\u001b[0;32m      1\u001b[0m s\u001b[38;5;241m=\u001b[39m\u001b[38;5;124m\"\u001b[39m\u001b[38;5;124mmadridsoftware\u001b[39m\u001b[38;5;124m\"\u001b[39m\n\u001b[1;32m----> 2\u001b[0m \u001b[43ms\u001b[49m\u001b[38;5;241;43m.\u001b[39;49m\u001b[43mindex\u001b[49m\u001b[43m(\u001b[49m\u001b[38;5;124;43m\"\u001b[39;49m\u001b[38;5;124;43ma\u001b[39;49m\u001b[38;5;124;43m\"\u001b[39;49m\u001b[43m,\u001b[49m\u001b[38;5;241;43m4\u001b[39;49m\u001b[43m,\u001b[49m\u001b[38;5;241;43m7\u001b[39;49m\u001b[43m)\u001b[49m\n",
      "\u001b[1;31mValueError\u001b[0m: substring not found"
     ]
    }
   ],
   "source": [
    "s=\"madridsoftware\"\n",
    "s.index(\"a\",4,7)"
   ]
  },
  {
   "cell_type": "code",
   "execution_count": 77,
   "id": "03fc7444",
   "metadata": {},
   "outputs": [
    {
     "data": {
      "text/plain": [
       "-1"
      ]
     },
     "execution_count": 77,
     "metadata": {},
     "output_type": "execute_result"
    }
   ],
   "source": [
    "s=\"madridsoftware\"\n",
    "s.find(\"a\",4,7)"
   ]
  },
  {
   "cell_type": "markdown",
   "id": "e728dc62",
   "metadata": {},
   "source": [
    "### is check methods\n",
    "- ialnum()\n",
    "\n",
    "- isaplha()\n",
    "\n",
    "- istitle()\n",
    "\n",
    "- islower()\n",
    "\n",
    "- isupper()\n",
    "\n",
    "- isdigit()\n",
    "\n",
    "- isspace()"
   ]
  },
  {
   "cell_type": "markdown",
   "id": "c9f5d66b",
   "metadata": {},
   "source": [
    ".istitle() :-\n",
    "\n",
    "\n",
    "Python String istitle() method returns True if the string is a titlecased string otherwise it returns\n",
    "False.\n",
    "\n",
    "\n",
    "titlecased :- The string which has the first character in each word Uppercase and remaining all\n",
    "characters Lowercase alphabets.\n",
    "\n",
    "\n",
    "\n",
    "Syntax:\n",
    "string.istitle()\n",
    "Parameters:\n",
    "The istitle() method doesn’t take any parameters.\n",
    "Returns:\n",
    "True if the string is a titlecased string otherwise it returns False.\n"
   ]
  },
  {
   "cell_type": "code",
   "execution_count": 110,
   "id": "8d0ac737",
   "metadata": {},
   "outputs": [
    {
     "ename": "AttributeError",
     "evalue": "'str' object has no attribute 'iscapitalize'",
     "output_type": "error",
     "traceback": [
      "\u001b[1;31m---------------------------------------------------------------------------\u001b[0m",
      "\u001b[1;31mAttributeError\u001b[0m                            Traceback (most recent call last)",
      "Input \u001b[1;32mIn [110]\u001b[0m, in \u001b[0;36m<cell line: 2>\u001b[1;34m()\u001b[0m\n\u001b[0;32m      1\u001b[0m s \u001b[38;5;241m=\u001b[39m \u001b[38;5;124m'\u001b[39m\u001b[38;5;124mMadrid solutions\u001b[39m\u001b[38;5;124m'\u001b[39m\n\u001b[1;32m----> 2\u001b[0m \u001b[43ms\u001b[49m\u001b[38;5;241;43m.\u001b[39;49m\u001b[43miscapitalize\u001b[49m()\n",
      "\u001b[1;31mAttributeError\u001b[0m: 'str' object has no attribute 'iscapitalize'"
     ]
    }
   ],
   "source": [
    "s = 'Madrid solutions'"
   ]
  },
  {
   "cell_type": "code",
   "execution_count": 79,
   "id": "805f1b8f",
   "metadata": {},
   "outputs": [
    {
     "name": "stdout",
     "output_type": "stream",
     "text": [
      "True\n",
      "False\n",
      "False\n",
      "False\n",
      "True\n"
     ]
    }
   ],
   "source": [
    "# First character in each word is uppercase and remaining lowercases\n",
    "s = 'Madrid Solutions'\n",
    "print(s.istitle())\n",
    "# First character in first word is lowercase\n",
    "s = 'madrid Solutions'\n",
    "print(s.istitle())\n",
    "# Third word has uppercase characters at middle\n",
    "s = 'Python CORE'\n",
    "print(s.istitle())\n",
    "s = '123 Lets go'\n",
    "print(s.istitle())\n",
    "s = '123 Lets Go'\n",
    "print(s.istitle())"
   ]
  },
  {
   "cell_type": "markdown",
   "id": "3d89fccb",
   "metadata": {},
   "source": [
    "### .isalnum :-\n",
    "Python String isalnum() method checks whether all the characters in a given string are\n",
    "alphanumeric or not. Alphanumeric means a character that is either a letter or a number.\n",
    "\n",
    "\n",
    "Syntax:\n",
    "string_name.isalnum()\n",
    "Parameter:\n",
    "isalnum() method takes no parameters"
   ]
  },
  {
   "cell_type": "code",
   "execution_count": 81,
   "id": "8e81053d",
   "metadata": {},
   "outputs": [
    {
     "data": {
      "text/plain": [
       "False"
      ]
     },
     "execution_count": 81,
     "metadata": {},
     "output_type": "execute_result"
    }
   ],
   "source": [
    "s = \"aman123@\"\n",
    "s.isalnum()"
   ]
  },
  {
   "cell_type": "code",
   "execution_count": 82,
   "id": "05a0d2c0",
   "metadata": {},
   "outputs": [
    {
     "data": {
      "text/plain": [
       "True"
      ]
     },
     "execution_count": 82,
     "metadata": {},
     "output_type": "execute_result"
    }
   ],
   "source": [
    "s = \"aman123\"\n",
    "s.isalnum()"
   ]
  },
  {
   "cell_type": "markdown",
   "id": "5528cd08",
   "metadata": {},
   "source": [
    "### .isdigit() :-\n",
    "Python String isdigit() method is a built-in method used for string handling. The isdigit() method\n",
    "returns “True” if all characters in the string are digits, Otherwise, It returns “False”."
   ]
  },
  {
   "cell_type": "code",
   "execution_count": 83,
   "id": "30fe7b70",
   "metadata": {},
   "outputs": [
    {
     "name": "stdout",
     "output_type": "stream",
     "text": [
      "True\n",
      "False\n"
     ]
    }
   ],
   "source": [
    "string = '15460' # it returns True as all characters are numericals\n",
    "print(string.isdigit())\n",
    "\n",
    "string = '154python60' # it returns False as all characters are not numericals\n",
    "print(string.isdigit())"
   ]
  },
  {
   "cell_type": "markdown",
   "id": "fb65526d",
   "metadata": {},
   "source": [
    "## .isalpha() :-\n",
    "Python String isalpha() method is a built-in method used for string handling. The isalpha()\n",
    "methods returns “True” if all characters in the string are alphabets, Otherwise, It returns “False”.\n"
   ]
  },
  {
   "cell_type": "code",
   "execution_count": 84,
   "id": "72854af2",
   "metadata": {},
   "outputs": [
    {
     "name": "stdout",
     "output_type": "stream",
     "text": [
      "True\n",
      "False\n",
      "False\n"
     ]
    }
   ],
   "source": [
    "string = 'Python' # it returns True as all characters are alphabets\n",
    "print(string.isalpha())\n",
    "\n",
    "string = 'Python0212' # it returns False as all characters are not alphabets\n",
    "print(string.isalpha())\n",
    "\n",
    "# checking if space is an alphabet\n",
    "string = 'Python Core' # it returns False as whitespace is special character\n",
    "print(string.isalpha())\n"
   ]
  },
  {
   "cell_type": "code",
   "execution_count": 85,
   "id": "0205f475",
   "metadata": {},
   "outputs": [
    {
     "name": "stdout",
     "output_type": "stream",
     "text": [
      "False\n",
      "False\n",
      "False\n",
      "False\n",
      "False\n",
      "False\n",
      "True\n"
     ]
    }
   ],
   "source": [
    "s = 'It Is Nice Day Today123'\n",
    "print(s.isupper())\n",
    "print(s.islower())\n",
    "print(s.isalnum())\n",
    "print(s.isalpha())\n",
    "print(s.isdigit())\n",
    "print(s.isspace())\n",
    "print(s.istitle())"
   ]
  },
  {
   "cell_type": "markdown",
   "id": "7c0520f5",
   "metadata": {},
   "source": [
    "### replace(): important \n",
    "\n",
    "\n",
    "though stings are immutable but you can replace items in a string with use of .replace()\n",
    "\n",
    "\n",
    "\n",
    "Syntax :\n",
    ".replace() takes two argument in paranthesis seprated by comma. First one is item in string to be\n",
    "replaced and second is new item."
   ]
  },
  {
   "cell_type": "code",
   "execution_count": 111,
   "id": "aa085c20",
   "metadata": {},
   "outputs": [
    {
     "data": {
      "text/plain": [
       "'python core is boring'"
      ]
     },
     "execution_count": 111,
     "metadata": {},
     "output_type": "execute_result"
    }
   ],
   "source": [
    "s=\"python core is interested\"\n",
    "s.replace(\"interested\",\"boring\")"
   ]
  },
  {
   "cell_type": "code",
   "execution_count": 115,
   "id": "f2f98c72",
   "metadata": {},
   "outputs": [
    {
     "name": "stdout",
     "output_type": "stream",
     "text": [
      "python core is boring\n",
      "python core is interested\n"
     ]
    }
   ],
   "source": [
    "s=\"python core is interested\"\n",
    "s1=s.replace(\"interested\",\"boring\")\n",
    "print(s1)\n",
    "print(s)"
   ]
  },
  {
   "cell_type": "code",
   "execution_count": 127,
   "id": "4c7121b3",
   "metadata": {},
   "outputs": [
    {
     "name": "stdout",
     "output_type": "stream",
     "text": [
      "python core is boring\n",
      "pythBn cBre is boring\n"
     ]
    }
   ],
   "source": [
    "ss=\"python core is boring\"\n",
    "ss1=ss.replace(\"o\",\"B\",2)\n",
    "print(ss)\n",
    "print(ss1)"
   ]
  },
  {
   "cell_type": "code",
   "execution_count": 98,
   "id": "b803338f",
   "metadata": {},
   "outputs": [
    {
     "name": "stdout",
     "output_type": "stream",
     "text": [
      "Hello there\n"
     ]
    }
   ],
   "source": [
    "String = 'Hello world'\n",
    "string1 = String.replace('world','there')\n",
    "# here world in string will get replaced by there\n",
    "print(string1)\n"
   ]
  },
  {
   "cell_type": "code",
   "execution_count": 89,
   "id": "07c0d52b",
   "metadata": {},
   "outputs": [
    {
     "name": "stdout",
     "output_type": "stream",
     "text": [
      "Hello \n"
     ]
    }
   ],
   "source": [
    "# to remove item from string you can use replace function\n",
    "String1 = 'Hello world'\n",
    "string1 = String1.replace('world','')\\\n",
    "# here we are replacing world with nothing ''\n",
    "print(string1)"
   ]
  },
  {
   "cell_type": "markdown",
   "id": "e6ea4cf8",
   "metadata": {},
   "source": [
    "### How to remove ith character from  string \n",
    "- naive method\n",
    "- replace\n",
    "- using slicing and concatenation"
   ]
  },
  {
   "cell_type": "markdown",
   "id": "e44336e4",
   "metadata": {},
   "source": [
    "### remove 3rd character using naive method"
   ]
  },
  {
   "cell_type": "code",
   "execution_count": 131,
   "id": "0ecc9a5e",
   "metadata": {},
   "outputs": [
    {
     "name": "stdout",
     "output_type": "stream",
     "text": [
      "enter the string----------madrid\n",
      "enter the position-------2\n",
      "marid\n"
     ]
    }
   ],
   "source": [
    "s=input(\"enter the string----------\")\n",
    "pos=int(input(\"enter the position-------\"))\n",
    "s1=\"\"\n",
    "for i in range(0,len(s)):\n",
    "    if i!=pos:\n",
    "        s1=s1+s[i]\n",
    "print(s1)"
   ]
  },
  {
   "cell_type": "code",
   "execution_count": 92,
   "id": "5254f56d",
   "metadata": {},
   "outputs": [
    {
     "name": "stdout",
     "output_type": "stream",
     "text": [
      "madidsoftware\n"
     ]
    }
   ],
   "source": [
    "s=\"madridsoftware\"\n",
    "s1=\"\"\n",
    "for i in range(0,len(s)):\n",
    "    if i!=3:\n",
    "        s1=s1+s[i]\n",
    "    \n",
    "print(s1)"
   ]
  },
  {
   "cell_type": "code",
   "execution_count": 95,
   "id": "44931714",
   "metadata": {},
   "outputs": [
    {
     "name": "stdout",
     "output_type": "stream",
     "text": [
      "madidsoftwae\n",
      "madridsoftware\n"
     ]
    }
   ],
   "source": [
    "s=\"madridsoftware\"\n",
    "s1=s.replace(\"r\",\"\")\n",
    "print(s1)\n",
    "print(s)"
   ]
  },
  {
   "cell_type": "code",
   "execution_count": 99,
   "id": "ebb7df73",
   "metadata": {},
   "outputs": [
    {
     "name": "stdout",
     "output_type": "stream",
     "text": [
      "madidsoftware\n"
     ]
    }
   ],
   "source": [
    "### using slicing and concatenation\n",
    "\n",
    "s=\"madridsoftware\"\n",
    "s=s[0:3]+s[4:]\n",
    "print(s)"
   ]
  },
  {
   "cell_type": "code",
   "execution_count": 133,
   "id": "494aa733",
   "metadata": {},
   "outputs": [
    {
     "name": "stdout",
     "output_type": "stream",
     "text": [
      "4 is the sqaure of  2\n"
     ]
    }
   ],
   "source": [
    "a=2\n",
    "b=4\n",
    "print(b,\"is the sqaure of \", a)"
   ]
  },
  {
   "cell_type": "code",
   "execution_count": 135,
   "id": "efe14c96",
   "metadata": {},
   "outputs": [
    {
     "name": "stdout",
     "output_type": "stream",
     "text": [
      "hello is the sqaure of hi\n"
     ]
    }
   ],
   "source": [
    "print(\"{} is the sqaure of {}\".format(\"hello\",\"hi\"))"
   ]
  },
  {
   "cell_type": "markdown",
   "id": "a93188a6",
   "metadata": {},
   "source": [
    "#### .format()\n",
    "\n",
    "\n",
    "Formatting of Strings\n",
    "\n",
    "\n",
    "\n",
    "Strings in Python can be formatted with the use of format() method which is a very versatile and\n",
    "powerful tool for formatting Strings. Format method in String contains curly braces {} as\n",
    "\n",
    "placeholders which can hold arguments according to position or keyword to specify the order\n"
   ]
  },
  {
   "cell_type": "code",
   "execution_count": 100,
   "id": "beb88b38",
   "metadata": {},
   "outputs": [
    {
     "name": "stdout",
     "output_type": "stream",
     "text": [
      "hi simran kaur \n",
      "it's Hello you\n",
      "lets up hurry\n"
     ]
    }
   ],
   "source": [
    "# Default order\n",
    "String = \"hi {} {} \".format('simran', 'kaur')\n",
    "print(String)\n",
    "# Positional Formatting\n",
    "String1 = \"{1} {0} {2}\".format('Hello',\"it's\", 'you')\n",
    "print(String1)\n",
    "# giving indexes in string to get item placed\n",
    "\n",
    "# Keyword Formatting\n",
    "String2 = \"{j} {l} {k}\".format(j='lets', k='hurry', l='up')\n",
    "print(String2)\n",
    "# specifying every item to a alphabet\n"
   ]
  },
  {
   "cell_type": "code",
   "execution_count": 11,
   "id": "34749dca",
   "metadata": {},
   "outputs": [
    {
     "name": "stdout",
     "output_type": "stream",
     "text": [
      "21\n"
     ]
    }
   ],
   "source": [
    "a=1\n",
    "b=2\n",
    "print(\"{1}{0}\".format(a,b))"
   ]
  },
  {
   "cell_type": "code",
   "execution_count": 15,
   "id": "ed9b93d1",
   "metadata": {},
   "outputs": [
    {
     "name": "stdout",
     "output_type": "stream",
     "text": [
      "this is formatting 12 integer\n"
     ]
    }
   ],
   "source": [
    "a=1\n",
    "b=2\n",
    "print(\"this is formatting {0}{1} integer\".format(a,b))"
   ]
  },
  {
   "cell_type": "markdown",
   "id": "bb413a21",
   "metadata": {},
   "source": [
    "#### startswith and endswith"
   ]
  },
  {
   "cell_type": "code",
   "execution_count": 138,
   "id": "f2b20b2b",
   "metadata": {},
   "outputs": [
    {
     "data": {
      "text/plain": [
       "True"
      ]
     },
     "execution_count": 138,
     "metadata": {},
     "output_type": "execute_result"
    }
   ],
   "source": [
    "s=\"madrid solutions \"\n",
    "s.startswith(\"ma\")"
   ]
  },
  {
   "cell_type": "code",
   "execution_count": 103,
   "id": "ff513e56",
   "metadata": {},
   "outputs": [
    {
     "data": {
      "text/plain": [
       "False"
      ]
     },
     "execution_count": 103,
     "metadata": {},
     "output_type": "execute_result"
    }
   ],
   "source": [
    "s=\"madrid\"\n",
    "s.endswith(\"m\")"
   ]
  },
  {
   "cell_type": "markdown",
   "id": "22e8a2ae",
   "metadata": {},
   "source": [
    "### split(): It split a string into a list of strings after breaking the given string by the specified separator.\n",
    "\n",
    "\n",
    "### Syntax :\n",
    "\n",
    "\n",
    "str.split(separator, maxsplit)\n",
    "\n",
    "\n",
    "\n",
    "\n",
    "\n",
    "Parameters :\n",
    "\n",
    "\n",
    "separator : You can provide any seprator. If is not provided then any white space is a separator.(Default)\n",
    "\n",
    "\n",
    "\n",
    "Returns :\n",
    "Returns a list of strings after breaking the given string by the specified separator"
   ]
  },
  {
   "cell_type": "code",
   "execution_count": 111,
   "id": "a9905d4b",
   "metadata": {},
   "outputs": [
    {
     "name": "stdout",
     "output_type": "stream",
     "text": [
      "['Python', 'Core']\n",
      "['Madrid', ' Solutions']\n",
      "['Hello', 'There']\n",
      "['Ca', 'Ba', 'Sa', 'Fa', 'Or']\n",
      "['Ca', 'Ba', 'SatFatOr']\n",
      "['CatBatSatFatOr']\n",
      "['CatBatSatFatOr']\n"
     ]
    }
   ],
   "source": [
    "text = 'Python Core'\n",
    "\n",
    "# Splits at space\n",
    "print(text.split())\n",
    "\n",
    "word = 'Madrid, Solutions'\n",
    "\n",
    "# Splits at ','\n",
    "print(word.split(','))\n",
    "\n",
    "word = 'Hello:There'\n",
    "\n",
    "# Splitting at ':'\n",
    "print(word.split(':'))\n",
    "\n"
   ]
  },
  {
   "cell_type": "code",
   "execution_count": 16,
   "id": "af525e5d",
   "metadata": {},
   "outputs": [
    {
     "name": "stdout",
     "output_type": "stream",
     "text": [
      "['Ca', 'Ba', 'Sa', 'Fa', 'Or']\n",
      "['Ca', 'Ba', 'SatFatOr']\n",
      "['CatBatSatFatOr']\n",
      "['CatBatSatFatOr']\n"
     ]
    }
   ],
   "source": [
    "word = 'CatBatSatFatOr'\n",
    "\n",
    "# Splitting at t\n",
    "print(word.split('t'))\n",
    "\n",
    "\n",
    "# Splitting at t\n",
    "print(word.split('t',2))\n",
    "\n",
    "# deafault Splitting \n",
    "print(word.split())\n",
    "\n",
    "\n",
    "#  Splitting  at k (not present in string)\n",
    "print(word.split(\"k\"))"
   ]
  },
  {
   "cell_type": "code",
   "execution_count": 19,
   "id": "c84dd9e9",
   "metadata": {},
   "outputs": [
    {
     "name": "stdout",
     "output_type": "stream",
     "text": [
      "['w', 'e', 'l,c,o,m,e']\n"
     ]
    }
   ],
   "source": [
    "str1 = \"w,e,l,c,o,m,e\"\n",
    "print(str1.split(',',2))\n",
    "\n"
   ]
  },
  {
   "cell_type": "code",
   "execution_count": 20,
   "id": "c61c7142",
   "metadata": {},
   "outputs": [
    {
     "name": "stdout",
     "output_type": "stream",
     "text": [
      "['w,e,l,c,o', 'm', 'e']\n"
     ]
    }
   ],
   "source": [
    "str1 = \"w,e,l,c,o,m,e\"\n",
    "print(str1.rsplit(',',2))"
   ]
  },
  {
   "cell_type": "code",
   "execution_count": 145,
   "id": "cbc142f2",
   "metadata": {},
   "outputs": [
    {
     "data": {
      "text/plain": [
       "['balmeetkaur@gmail.com', 'mails/inbox']"
      ]
     },
     "execution_count": 145,
     "metadata": {},
     "output_type": "execute_result"
    }
   ],
   "source": [
    "s=\"balmeetkaur@gmail.com/mails/inbox\"\n",
    "s.split(\"/\",1)\n"
   ]
  },
  {
   "cell_type": "markdown",
   "id": "a706dd39",
   "metadata": {},
   "source": [
    "- split() is used if you want to split strings on first occurrences \n",
    "\n",
    "- rsplit() is used if you want to split strings on last occurrences."
   ]
  },
  {
   "cell_type": "code",
   "execution_count": 21,
   "id": "233ecb25",
   "metadata": {},
   "outputs": [
    {
     "data": {
      "text/plain": [
       "['balmeet@kaur/hello', 'hi']"
      ]
     },
     "execution_count": 21,
     "metadata": {},
     "output_type": "execute_result"
    }
   ],
   "source": [
    "s=\"balmeet@kaur/hello/hi\"\n",
    "s.rsplit(\"/\",1)"
   ]
  },
  {
   "cell_type": "code",
   "execution_count": 22,
   "id": "a3b16997",
   "metadata": {},
   "outputs": [
    {
     "data": {
      "text/plain": [
       "['balmeet@kaur', 'hello', 'hi']"
      ]
     },
     "execution_count": 22,
     "metadata": {},
     "output_type": "execute_result"
    }
   ],
   "source": [
    "s=\"balmeet@kaur/hello/hi\"\n",
    "s.rsplit(\"/\")"
   ]
  },
  {
   "cell_type": "code",
   "execution_count": 26,
   "id": "cfd92e12",
   "metadata": {},
   "outputs": [
    {
     "data": {
      "text/plain": [
       "['balmeet', 'kaur@/hello/hi']"
      ]
     },
     "execution_count": 26,
     "metadata": {},
     "output_type": "execute_result"
    }
   ],
   "source": [
    "s=\"balmeet@kaur@/hello/hi\"\n",
    "s.split(\"@\",1)"
   ]
  },
  {
   "cell_type": "markdown",
   "id": "89216477",
   "metadata": {},
   "source": [
    "#### .partition() :-\n",
    "Python String partition() method splits the string at the first occurrence of the separator and\n",
    "returns a tuple containing the part before the separator, separator, and the part after the\n",
    "separator. Here separator is a string that is given as the argument.\n",
    "\n",
    "\n",
    "Syntax:\n",
    "string.partition(separator)\n",
    "\n",
    "\n",
    "Parameters:\n",
    "\n",
    "#### Returns:\n",
    "Returns a tuple that contains the part before the separator, separator parameter, and the part\n",
    "after the separator if the separator parameter is found in the string. Returns a tuple that contains\n",
    "the string itself and two empty strings if the separator parameter is not found."
   ]
  },
  {
   "cell_type": "code",
   "execution_count": 30,
   "id": "9f48b579",
   "metadata": {},
   "outputs": [
    {
     "name": "stdout",
     "output_type": "stream",
     "text": [
      "('Madrid ', 'is', ' a good')\n",
      "('Madrid is a good', '', '')\n",
      "('Madrid ', 'is', \" a good, isn't it\")\n"
     ]
    }
   ],
   "source": [
    "string = \"Madrid is a good\"\n",
    "\n",
    "# 'is' separator is found\n",
    "print(string.partition('is'))\n",
    "\n",
    "# 'not' separator is not found\n",
    "print(string.partition(\"k\"))\n",
    "\n",
    "string = \"Madrid is a good, isn't it\"\n",
    "\n",
    "# splits at first occurrence of 'is'\n",
    "print(string.partition('is'))"
   ]
  },
  {
   "cell_type": "markdown",
   "id": "91004a80",
   "metadata": {},
   "source": [
    "### .strip() :-\n",
    "\n",
    "\n",
    "strip() is an inbuilt function in Python programming language that returns a copy of the string\n",
    "with both leading and trailing characters removed (based on the string argument passed).\n",
    "\n",
    "\n",
    "### Syntax:\n",
    "\n",
    "\n",
    "string.strip([chars])\n",
    "\n",
    "\n",
    "#### Return Value:\n",
    "Returns a copy of the string with both leading and trailing char"
   ]
  },
  {
   "cell_type": "code",
   "execution_count": 150,
   "id": "bb77227e",
   "metadata": {},
   "outputs": [
    {
     "name": "stdout",
     "output_type": "stream",
     "text": [
      "@hi how w r u       \n"
     ]
    },
    {
     "data": {
      "text/plain": [
       "'hi how w r u       '"
      ]
     },
     "execution_count": 150,
     "metadata": {},
     "output_type": "execute_result"
    }
   ],
   "source": [
    "s=\"@hi how w r u       \"\n",
    "print(s)\n",
    "s.strip(\"@\")"
   ]
  },
  {
   "cell_type": "code",
   "execution_count": 31,
   "id": "4bc06ef4",
   "metadata": {},
   "outputs": [
    {
     "name": "stdout",
     "output_type": "stream",
     "text": [
      "the King has the largest army in the entire world the\n",
      "King has the largest army in the entire world\n"
     ]
    }
   ],
   "source": [
    "string = \"the King has the largest army in the entire world the\"\n",
    "print(string)\n",
    "# prints the string after removing the from beginning and end\n",
    "print(string.strip(\" the\"))"
   ]
  },
  {
   "cell_type": "code",
   "execution_count": 129,
   "id": "59b4bf8e",
   "metadata": {},
   "outputs": [
    {
     "name": "stdout",
     "output_type": "stream",
     "text": [
      "56\n",
      "@the King has the largest army in the entire world the @\n",
      "54\n",
      "the King has the largest army in the entire world the \n"
     ]
    }
   ],
   "source": [
    "s1 = \"@the King has the largest army in the entire world the @\"\n",
    "print(len(s1))\n",
    "print(s1)\n",
    "# prints the string after removing the from beginning and end\n",
    "print(len(s1.strip(\"@\")))\n",
    "print(s1.strip(\"@\"))"
   ]
  },
  {
   "cell_type": "code",
   "execution_count": 34,
   "id": "470055d4",
   "metadata": {},
   "outputs": [
    {
     "name": "stdout",
     "output_type": "stream",
     "text": [
      "66\n",
      "@the King has the largest army in the entire world the @\n",
      "    @the King has the largest army in the entire world the @      \n"
     ]
    }
   ],
   "source": [
    "s1 = \"    @the King has the largest army in the entire world the @      \"\n",
    "print(len(s1))\n",
    "print(s1.strip())\n",
    "print(s1)"
   ]
  },
  {
   "cell_type": "code",
   "execution_count": 130,
   "id": "80a3dc0e",
   "metadata": {},
   "outputs": [
    {
     "name": "stdout",
     "output_type": "stream",
     "text": [
      "64\n",
      "      the King has the largest army in the entire world the     \n",
      "53\n",
      "the King has the largest army in the entire world the\n"
     ]
    }
   ],
   "source": [
    "s1 = \"      the King has the largest army in the entire world the     \"\n",
    "print(len(s1))\n",
    "print(s1)\n",
    "# prints the string after removing the from beginning and end\n",
    "print(len(s1.strip(\" \")))\n",
    "print(s1.strip(\" \"))"
   ]
  },
  {
   "cell_type": "code",
   "execution_count": 24,
   "id": "c6230178",
   "metadata": {},
   "outputs": [
    {
     "name": "stdout",
     "output_type": "stream",
     "text": [
      "  balmeet\n",
      "\n",
      "\n"
     ]
    },
    {
     "data": {
      "text/plain": [
       "'balmeet'"
      ]
     },
     "execution_count": 24,
     "metadata": {},
     "output_type": "execute_result"
    }
   ],
   "source": [
    "s=\"  balmeet\\n\\n\"\n",
    "print(s)\n",
    "s.strip()"
   ]
  },
  {
   "cell_type": "markdown",
   "id": "2ca248f4",
   "metadata": {},
   "source": [
    "This method is used to delete all the leading and trailing characters mentioned in its argument.\n",
    "2. lstrip():- This method is used to delete all the leading characters mentioned in its argument.\n",
    "3. rstrip():- This method is used to delete all the trailing characters mentioned in its argument."
   ]
  },
  {
   "cell_type": "code",
   "execution_count": 157,
   "id": "9dfc953b",
   "metadata": {},
   "outputs": [
    {
     "name": "stdout",
     "output_type": "stream",
     "text": [
      " String after stripping all '-' is : madrid solutions\n",
      " String after stripping all leading '-' is : madrid solutions---\n",
      " String after stripping all trailing '-' is : "
     ]
    }
   ],
   "source": [
    "# Python code to demonstrate working of \n",
    "# strip(), lstrip() and rstrip()\n",
    "str = \"---madrid solutions---\"\n",
    "  \n",
    "# using strip() to delete all '-'\n",
    "print ( \" String after stripping all '-' is : \", end=\"\")\n",
    "print ( str.strip('-') )\n",
    "  \n",
    "# using lstrip() to delete all trailing '-'\n",
    "print ( \" String after stripping all leading '-' is : \", end=\"\")\n",
    "print ( str.lstrip('-') )\n",
    "  \n",
    "# using rstrip() to delete all leading '-'\n",
    "print ( \" String after stripping all trailing '-' is : \", end=\"\")"
   ]
  },
  {
   "cell_type": "markdown",
   "id": "6812a453",
   "metadata": {},
   "source": [
    "The lstrip(s) (left strip) function removes leading whitespace (on the left) in the string. \n",
    "\n",
    "\n",
    "The rstrip(s) (right strip) function removes the trailing whitespace (on the right). \n",
    "\n",
    "\n",
    "The strip(s) function removes both leading and trailing whitespace. "
   ]
  },
  {
   "cell_type": "markdown",
   "id": "79920d42",
   "metadata": {},
   "source": [
    "### .join() :- returns a string in which the elements of the sequence have been joined by the str separator.\n",
    "\n",
    "Syntax:\n",
    "string_name.join(iterable)\n",
    "\n",
    "\n",
    "Parameters:\n",
    "The join() method takes iterable – objects capable of returning their members one at a time.\n",
    "\n",
    "\n",
    "Some examples are List, Tuple, String, Dictionary, and Set\n",
    "\n",
    "\n",
    "Return Value:\n",
    "The join() method returns a string concatenated with the elements of iterable.\n",
    "\n",
    "\n",
    "Type Error:\n",
    "If the iterable contains any non-string values, it raises a TypeError exception."
   ]
  },
  {
   "cell_type": "code",
   "execution_count": 152,
   "id": "58795d36",
   "metadata": {},
   "outputs": [
    {
     "data": {
      "text/plain": [
       "'1*2*3*4'"
      ]
     },
     "execution_count": 152,
     "metadata": {},
     "output_type": "execute_result"
    }
   ],
   "source": [
    "l=[\"1\",\"2\",\"3\",\"4\"]\n",
    "s=\"*\"\n",
    "s.join(l)"
   ]
  },
  {
   "cell_type": "code",
   "execution_count": 131,
   "id": "c082aa56",
   "metadata": {},
   "outputs": [
    {
     "name": "stdout",
     "output_type": "stream",
     "text": [
      "1-2-3-4\n"
     ]
    }
   ],
   "source": [
    "list1 = ['1','2','3','4']\n",
    "\n",
    "s = \"-\"\n",
    "\n",
    "# joins elements of list1 by '-' and stores in sting s\n",
    "s = s.join(list1)\n",
    "\n",
    "# join use to join a list of strings to a separator s\n",
    "print(s)\n"
   ]
  },
  {
   "cell_type": "code",
   "execution_count": 132,
   "id": "e63f2317",
   "metadata": {},
   "outputs": [
    {
     "name": "stdout",
     "output_type": "stream",
     "text": [
      "Madrid\n"
     ]
    }
   ],
   "source": [
    "list1 = ['M','a','d','r', 'i', 'd']\n",
    "print(\"\".join(list1))\n"
   ]
  },
  {
   "cell_type": "code",
   "execution_count": 154,
   "id": "9036ac0a",
   "metadata": {},
   "outputs": [
    {
     "name": "stdout",
     "output_type": "stream",
     "text": [
      "enter the fruits namesapple,litchi,avacado,ornage\n",
      "apple\n",
      "avacado\n"
     ]
    }
   ],
   "source": [
    "fruit=input(\"enter the fruits names\").split(\",\")\n",
    "for i in fruit:\n",
    "    if i.startswith(\"a\"):\n",
    "        print(i)"
   ]
  },
  {
   "cell_type": "markdown",
   "id": "46471111",
   "metadata": {},
   "source": [
    "### Questions "
   ]
  },
  {
   "cell_type": "markdown",
   "id": "d9e40400",
   "metadata": {},
   "source": [
    "### Write a program to check how many upper case , lowercase, digits and special char in a string s = \"ASDewrtertttBMO23455!@!#@# @# %pouhbv\""
   ]
  },
  {
   "cell_type": "code",
   "execution_count": 1,
   "id": "aaeb59dc",
   "metadata": {},
   "outputs": [
    {
     "name": "stdout",
     "output_type": "stream",
     "text": [
      "no. of upper cases are :  6\n",
      "no. of lower cases are :  15\n",
      "no. of digits are :  5\n",
      "no. of special cases are :  11\n"
     ]
    }
   ],
   "source": [
    "s = \"ASDewrtertttBMO23455!@!#@#$@#$%pouhbv\"\n",
    "u,l,d,c=0,0,0,0\n",
    "for i in s:\n",
    "    if i.isupper():\n",
    "        u = u+1\n",
    "    elif i.islower():\n",
    "        l= l+1\n",
    "    elif i.isdigit():\n",
    "        d = d+1\n",
    "    else:\n",
    "        c=c+1\n",
    "print(\"no. of upper cases are : \",u)\n",
    "print(\"no. of lower cases are : \",l)\n",
    "print(\"no. of digits are : \",d)\n",
    "print(\"no. of special cases are : \",c)"
   ]
  },
  {
   "cell_type": "markdown",
   "id": "cdb0a043",
   "metadata": {},
   "source": [
    "#### Wap to input a password from the user and check the validity of the password.\n",
    "- min 1 uppercase,lowercase ,digit ,special char \n",
    "- min length of the password should be 10"
   ]
  },
  {
   "cell_type": "code",
   "execution_count": 133,
   "id": "9b00685e",
   "metadata": {},
   "outputs": [
    {
     "name": "stdout",
     "output_type": "stream",
     "text": [
      "Enter the password : balmeet@134d\n",
      "invalid password balmeet@134d\n",
      "Enter the password : balmeet@Kaur123\n",
      "valid password balmeet@Kaur123\n"
     ]
    }
   ],
   "source": [
    "while True:\n",
    "    p = input(\"Enter the password : \")\n",
    "    c,d,e,f =0,0,0,0\n",
    "    for i in p:\n",
    "        if i.isupper():\n",
    "            c = c+1\n",
    "            #print(c)\n",
    "        elif i.islower():\n",
    "            d = d+1\n",
    "            #print(d)\n",
    "        elif i.isdigit():\n",
    "            e = e+1\n",
    "            #print(e)\n",
    "        else:\n",
    "            f = f+1\n",
    "            #print(f)\n",
    "    #print(c,d,e,f)\n",
    "    if c>0 and d>0 and e>0 and f>0 and len(p)>=10:\n",
    "        print(\"valid password\",p)\n",
    "        break\n",
    "    else:\n",
    "        print(\"invalid password\",p)\n",
    "        print(\".....kindly re enter it....\")\n",
    "        continue  "
   ]
  },
  {
   "cell_type": "markdown",
   "id": "557bee47",
   "metadata": {},
   "source": [
    "### WAp to print a string in reverse order using while loop \n",
    "s = \"Madrid\""
   ]
  },
  {
   "cell_type": "code",
   "execution_count": 134,
   "id": "015adfdc",
   "metadata": {},
   "outputs": [
    {
     "name": "stdout",
     "output_type": "stream",
     "text": [
      "dirdaM"
     ]
    }
   ],
   "source": [
    "s = \"Madrid\"\n",
    "i = 1\n",
    "while i<=len(s):\n",
    "    print(s[-i],end=\"\")\n",
    "    i = i+1"
   ]
  },
  {
   "cell_type": "markdown",
   "id": "95acdee4",
   "metadata": {},
   "source": [
    "### wap to display and count vowels and consonanats, digit and special characters in the string "
   ]
  },
  {
   "cell_type": "code",
   "execution_count": 46,
   "id": "e525a219",
   "metadata": {},
   "outputs": [
    {
     "name": "stdout",
     "output_type": "stream",
     "text": [
      "enter the stringbalmeet@123Kaur\n",
      "<class 'str'>\n",
      "b\n",
      "a\n",
      "l\n",
      "m\n",
      "e\n",
      "e\n",
      "t\n",
      "@\n",
      "1\n",
      "2\n",
      "3\n",
      "K\n",
      "a\n",
      "u\n",
      "r\n",
      "vowels in strings:  1 --   5\n",
      "constonants in strings:  1 --   6\n",
      "digits in strings:  1 --   3\n",
      "sepcial characters in strings:  1 --   1\n"
     ]
    }
   ],
   "source": [
    "user_string=input(\"enter the string\")\n",
    "v=0\n",
    "c=0\n",
    "d=0\n",
    "s=0\n",
    "print(type(user_string))\n",
    "for ch in user_string:\n",
    "    #print(ch)\n",
    "    if (ch >=\"a\" and ch<=\"z\")or (ch >=\"A\" and ch<=\"Z\"):\n",
    "        if ch in \"aeiou\":\n",
    "            v=v+1\n",
    "        else:\n",
    "            c=c+1\n",
    "    elif ch.isdigit():\n",
    "        d=d+1\n",
    "    else:\n",
    "        s=s+1\n",
    "print(\"vowels in strings: \",s,\"--  \",v)\n",
    "print(\"constonants in strings: \",s,\"--  \",c)\n",
    "print(\"digits in strings: \",s,\"--  \",d)\n",
    "print(\"sepcial characters in strings: \",s,\"--  \",s)\n",
    "    \n",
    "    "
   ]
  },
  {
   "cell_type": "code",
   "execution_count": 156,
   "id": "ad2a1326",
   "metadata": {},
   "outputs": [
    {
     "name": "stdout",
     "output_type": "stream",
     "text": [
      "dirdam"
     ]
    }
   ],
   "source": [
    "s=\"madrid\"\n",
    "l=len(s)\n",
    "l1=l-1\n",
    "while(l1>=0):\n",
    "    print(s[l1],end=\"\")\n",
    "    l1=l1-1"
   ]
  },
  {
   "cell_type": "markdown",
   "id": "e0316505",
   "metadata": {},
   "source": [
    "### Write a while loop that starts at the last character in the string #and works its way backwards to the first character in the string, printing #each letter on a separate line, except backwards. 'madrid' = d i r d a m"
   ]
  },
  {
   "cell_type": "code",
   "execution_count": 135,
   "id": "343e2f1b",
   "metadata": {},
   "outputs": [
    {
     "name": "stdout",
     "output_type": "stream",
     "text": [
      "Enter a word:madrid\n",
      "d\n",
      "i\n",
      "r\n",
      "d\n",
      "a\n",
      "m\n"
     ]
    }
   ],
   "source": [
    "word = input(\"Enter a word:\")\n",
    "index = -1\n",
    "\n",
    "negative_len = len(word)*-1\n",
    "\n",
    "while True:\n",
    "    if index == negative_len - 1:\n",
    "        break\n",
    "    letter = word[index]\n",
    "    print(letter)\n",
    "    index = index - 1\n",
    "  "
   ]
  },
  {
   "cell_type": "markdown",
   "id": "218c36ee",
   "metadata": {},
   "source": [
    "### write a program to take pincode from the user if the pincode is having 6 digits then its a valid pincode else it is not a valid pincode."
   ]
  },
  {
   "cell_type": "code",
   "execution_count": 138,
   "id": "ee47a472",
   "metadata": {},
   "outputs": [
    {
     "name": "stdout",
     "output_type": "stream",
     "text": [
      "invalid pincode balmeet@Kaur123\n"
     ]
    }
   ],
   "source": [
    "if p.isdigit() and len(p)==6:\n",
    "    print(\"pincode is valid \",p)\n",
    "else:\n",
    "    print(\"invalid pincode\",p)"
   ]
  },
  {
   "cell_type": "markdown",
   "id": "e164e33e",
   "metadata": {},
   "source": [
    "### write a program to count no. of digits , alphabets , special char in a string\n",
    "s= 'asfdffsdf123434325&*&*%^%$$#iyiutuytze'"
   ]
  },
  {
   "cell_type": "code",
   "execution_count": 49,
   "id": "f2ccb83e",
   "metadata": {},
   "outputs": [
    {
     "name": "stdout",
     "output_type": "stream",
     "text": [
      "b ----- 1\n",
      "a ----- 1\n",
      "l ----- 1\n",
      "m ----- 1\n",
      "e ----- 2\n",
      "e ----- 2\n",
      "t ----- 1\n"
     ]
    }
   ],
   "source": [
    "s=\"balmeet\"\n",
    "for ch in s:\n",
    "    print(ch,\"-----\",s.count(ch))"
   ]
  },
  {
   "cell_type": "code",
   "execution_count": null,
   "id": "02367cb4",
   "metadata": {},
   "outputs": [],
   "source": [
    "#### count the most frequent letter in string "
   ]
  },
  {
   "cell_type": "code",
   "execution_count": 22,
   "id": "f8cb65d4",
   "metadata": {},
   "outputs": [
    {
     "name": "stdout",
     "output_type": "stream",
     "text": [
      "enter the stringBALMEET\n",
      "BALMEET\n"
     ]
    },
    {
     "data": {
      "text/plain": [
       "Counter({'B': 1, 'A': 1, 'L': 1, 'M': 1, 'E': 2, 'T': 1})"
      ]
     },
     "execution_count": 22,
     "metadata": {},
     "output_type": "execute_result"
    }
   ],
   "source": [
    "from collections import Counter\n",
    "s=input(\"enter the string\")\n",
    "print(s)\n",
    "Counter(s)"
   ]
  },
  {
   "cell_type": "code",
   "execution_count": 50,
   "id": "0081646e",
   "metadata": {},
   "outputs": [
    {
     "name": "stdout",
     "output_type": "stream",
     "text": [
      "{'b': 1, 'a': 1, 'l': 1, 'm': 1, 'e': 2, 't': 1}\n"
     ]
    }
   ],
   "source": [
    "d={}\n",
    "s=\"balmeet\"\n",
    "for ch in s:\n",
    "    d[ch]=s.count(ch)\n",
    "print(d)"
   ]
  },
  {
   "cell_type": "markdown",
   "id": "d259cd70",
   "metadata": {},
   "source": [
    "### Write a Python program to get a string from a given string where all occurrences of its first char have been changed to  \n",
    "'$', except the first char itself.\n",
    "\n",
    "\n",
    "Sample String : 'restart'\n",
    "\n",
    "\n",
    "Expected Result : 'resta$t'"
   ]
  },
  {
   "cell_type": "code",
   "execution_count": 5,
   "id": "0f69a327",
   "metadata": {},
   "outputs": [
    {
     "name": "stdout",
     "output_type": "stream",
     "text": [
      "enter the stringavirajbalmeetbalpreet\n",
      "avirajbalmeetbalpreet\n",
      "$vir$jbalmeetbalpreet\n"
     ]
    }
   ],
   "source": [
    "s=input(\"enter the string\")\n",
    "ch=s[0]\n",
    "s1=s.replace(ch,\"$\",2) ## replace 2 occurances defualt is -1 for replacing all occurances.\n",
    "print(s)\n",
    "print(s1)"
   ]
  },
  {
   "cell_type": "code",
   "execution_count": 8,
   "id": "1d29ef05",
   "metadata": {},
   "outputs": [
    {
     "name": "stdout",
     "output_type": "stream",
     "text": [
      "enter the stringpython It is good programming and productive language\n",
      "python It is good programming and productive language\n",
      "ython It is good $rogramming and $roductive language\n",
      "python It is good $rogramming and $roductive language\n"
     ]
    }
   ],
   "source": [
    "s=input(\"enter the string\")\n",
    "ch=s[0]\n",
    "s11=s[1:]\n",
    "s1=s11.replace(ch,\"$\") ## replace 2 occurances defualt is -1 for replacing all occurances.\n",
    "print(s)\n",
    "print(s1)\n",
    "print(ch+s1)"
   ]
  },
  {
   "cell_type": "markdown",
   "id": "7979678d",
   "metadata": {},
   "source": [
    "#### Write a Python program to get a single string from two given strings, separated by a space and swap the first two characters of each string. \n",
    "\n",
    "Sample String : 'abc', 'xyz'\n",
    "\n",
    "Expected Result : 'xyc abz'"
   ]
  },
  {
   "cell_type": "code",
   "execution_count": 1,
   "id": "d53b99f2",
   "metadata": {},
   "outputs": [
    {
     "name": "stdout",
     "output_type": "stream",
     "text": [
      "enter the first stringxyz\n",
      "xyz\n",
      "3\n",
      "zyx\n"
     ]
    }
   ],
   "source": [
    "stringg=input(\"enter the first string\")\n",
    "print(stringg)\n",
    "print(len(stringg))\n",
    "first=stringg[0]\n",
    "last=stringg[-1]\n",
    "print(last+stringg[1:len(stringg)-1]+first)\n",
    "\n"
   ]
  },
  {
   "cell_type": "code",
   "execution_count": 25,
   "id": "531f6656",
   "metadata": {},
   "outputs": [
    {
     "name": "stdout",
     "output_type": "stream",
     "text": [
      "enter the wordxxx\n",
      "illegal characters strings\n"
     ]
    }
   ],
   "source": [
    "'''u r required to enter a word that consist of x and y that denotes the no.f z's and o's respectively,\n",
    "the input word is considered similar to word zoo if x = 2y.\n",
    "determine if the entered word is similar to word zoo.\n",
    "\n",
    "'''\n",
    "word=input(\"enter the word\")\n",
    "z_num=0\n",
    "o_num=0\n",
    "for ch in word:\n",
    "    if ch==\"z\":\n",
    "        z_num=z_num+1\n",
    "    elif ch==\"o\":\n",
    "        o_num=o_num+1        \n",
    "    else:\n",
    "        print(\"illegal characters strings\")\n",
    "        break\n",
    "if z_num>1 or o_num>1:\n",
    "    if(z_num==(1/2)*o_num):\n",
    "        print(\"the z's characters s and o's chaacters in {} satisfied the equation x=2y\".format(word))\n",
    "    else:\n",
    "        print(\"does not satified the condition x=2y\")\n",
    "\n",
    "    \n",
    "            "
   ]
  },
  {
   "cell_type": "code",
   "execution_count": null,
   "id": "45a437f2",
   "metadata": {},
   "outputs": [],
   "source": []
  }
 ],
 "metadata": {
  "kernelspec": {
   "display_name": "Python 3 (ipykernel)",
   "language": "python",
   "name": "python3"
  },
  "language_info": {
   "codemirror_mode": {
    "name": "ipython",
    "version": 3
   },
   "file_extension": ".py",
   "mimetype": "text/x-python",
   "name": "python",
   "nbconvert_exporter": "python",
   "pygments_lexer": "ipython3",
   "version": "3.9.12"
  }
 },
 "nbformat": 4,
 "nbformat_minor": 5
}
