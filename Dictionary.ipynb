{
 "cells": [
  {
   "cell_type": "markdown",
   "id": "92d2fa53",
   "metadata": {},
   "source": [
    "We have learned about \"Sequences\" in the previous session. Now, let's switch the gears and learn about \"mappings\" in Python. These dictionaries are nothing but hash tables in other programming languages.\n",
    "\n",
    "\n",
    "\n",
    "Mappings are a collection of objects that are stored by a \"key\". Unlike a sequence, mapping store objects by their relative position. This is an important distinction since mappings won't retain the order since they have objects defined by a key.\n",
    "\n",
    "A Python dictionary consists of a key and then an associated value. That value can be almost any Python object."
   ]
  },
  {
   "cell_type": "markdown",
   "id": "09813df6",
   "metadata": {},
   "source": [
    "\n",
    "\n",
    "\n",
    "### What is Dictionary?\n",
    "Dictionary is an unordered and  non-homogeneous  data structure  which stores element as key value pairs. \n",
    "\n",
    "\n",
    "Use {} curly brackets to construct the dictionary, and [] square brackets to index it. Separate the key and\n",
    "value with colons: and with commas, between each pair. Dictionaries are mutable, which means\n",
    "they can be changed.\n",
    "Creating a Dictionary\n",
    "In Python, a Dictionary can be created by placing a sequence of elements within curly {} braces,\n",
    "separated by ‘comma’. Dictionary holds pairs of values, one being the Key and the other\n",
    "corresponding pair element being its Key:value. Values in a dictionary can be of any data type\n",
    "and can be duplicated, whereas keys can’t be repeated and must be immutable.\n",
    "Note – Dictionary keys are case sensitive, the same name but different cases of Key will be\n",
    "treated distinctly.\n"
   ]
  },
  {
   "cell_type": "markdown",
   "id": "51e32cab",
   "metadata": {},
   "source": [
    "### Dictionary properties \n",
    "\n",
    "\n",
    "- Dictionary has no indexing\n",
    "\n",
    "- dictionary is mutable\n",
    "\n",
    "- keys are immutable\n",
    "\n",
    "- values can be mutable or immutable\n",
    "\n",
    "- keys should not be repeat"
   ]
  },
  {
   "cell_type": "markdown",
   "id": "0b3313ce",
   "metadata": {},
   "source": [
    "#### LIST OF MUTABLE AND IMMUTABLE DATA TYPES\n",
    "\n",
    "MUTABLE: list,sets and dictionary\n",
    "    \n",
    "Immutable: strings,tuple,int,float,boolean,complex"
   ]
  },
  {
   "cell_type": "markdown",
   "id": "aae9feb8",
   "metadata": {},
   "source": [
    "### How to create dictionary "
   ]
  },
  {
   "cell_type": "code",
   "execution_count": 1,
   "id": "66a0d563",
   "metadata": {},
   "outputs": [
    {
     "data": {
      "text/plain": [
       "dict"
      ]
     },
     "execution_count": 1,
     "metadata": {},
     "output_type": "execute_result"
    }
   ],
   "source": [
    "### enpty dict\n",
    "d={}\n",
    "type(d)"
   ]
  },
  {
   "cell_type": "code",
   "execution_count": 2,
   "id": "a7705a48",
   "metadata": {},
   "outputs": [
    {
     "name": "stdout",
     "output_type": "stream",
     "text": [
      "{1: 'Madrid', 2: 'Solutions'}\n"
     ]
    }
   ],
   "source": [
    "# Creating a Dictionary with Integer Keys\n",
    "Dict = {1: 'Madrid', 2: 'Solutions'}\n",
    "print(Dict)\n",
    "\n"
   ]
  },
  {
   "cell_type": "code",
   "execution_count": 3,
   "id": "c610b7ce",
   "metadata": {},
   "outputs": [
    {
     "name": "stdout",
     "output_type": "stream",
     "text": [
      "{'Name': 'Python', 1: [1, 2, 3, 4]}\n"
     ]
    }
   ],
   "source": [
    "# Creating a Dictionary with Mixed keys\n",
    "Dict = {'Name': 'Python', 1: [1, 2, 3, 4]}\n",
    "print(Dict)"
   ]
  },
  {
   "cell_type": "code",
   "execution_count": 1,
   "id": "d0bc2eee",
   "metadata": {},
   "outputs": [
    {
     "name": "stdout",
     "output_type": "stream",
     "text": [
      "2\n"
     ]
    }
   ],
   "source": [
    "DD={'Fruits':['apple','mango'],'Vegetable':['potato','tomato']}\n",
    "print(len(DD))"
   ]
  },
  {
   "cell_type": "code",
   "execution_count": 2,
   "id": "d9adb072",
   "metadata": {},
   "outputs": [
    {
     "name": "stdout",
     "output_type": "stream",
     "text": [
      "{0: 'a', 1: 'quick', 2: 'brown', 3: 'fox', 4: 'jumps', 5: 'over', 6: 'a', 7: 'lazy', 8: 'dog'}\n"
     ]
    }
   ],
   "source": [
    "di={0:'a', 1:'quick', 2:'brown', 3:'fox', 4:'jumps', 5:'over', 6:'a', 7:'lazy', 8:'dog'}\n",
    "print(di)"
   ]
  },
  {
   "cell_type": "markdown",
   "id": "694a6385",
   "metadata": {},
   "source": [
    "#### Dictionary can also be created by the built-in function dict()"
   ]
  },
  {
   "cell_type": "code",
   "execution_count": 4,
   "id": "7f8f8f9d",
   "metadata": {},
   "outputs": [
    {
     "name": "stdout",
     "output_type": "stream",
     "text": [
      "{}\n",
      "{1: 'Hello', 2: 'From', 3: 'The', 4: 'Other', 5: 'Side'}\n",
      "{1: 'Python', 2: 'Core'}\n"
     ]
    }
   ],
   "source": [
    "## emoty dict with dict()\n",
    "d1=dict()\n",
    "print(d1)\n",
    "# Creating a Dictionary with dict() method\n",
    "Dict = dict({1: 'Hello', 2: 'From', 3:'The', 4:'Other', 5:'Side'})\n",
    "print(Dict)\n",
    "# Creating a Dictionary with each item as a Pair\n",
    "Dict = dict([(1, 'Python'), (2, 'Core')])   ## type conversion\n",
    "print(Dict)\n"
   ]
  },
  {
   "cell_type": "markdown",
   "id": "0f703689",
   "metadata": {},
   "source": [
    "###  How to acess the values ?? use key as index"
   ]
  },
  {
   "cell_type": "code",
   "execution_count": 3,
   "id": "829924b4",
   "metadata": {},
   "outputs": [
    {
     "name": "stdout",
     "output_type": "stream",
     "text": [
      "{0: 'a', 1: 'quick', 2: 'brown', 3: 'fox', 4: 'jumps', 5: 'over', 6: 'a', 7: 'lazy', 8: 'dog'}\n",
      "jumps\n",
      "fox\n",
      "lazy\n",
      "brown\n"
     ]
    }
   ],
   "source": [
    "di={0:'a', 1:'quick', 2:'brown', 3:'fox', 4:'jumps', 5:'over', 6:'a', 7:'lazy', 8:'dog'}\n",
    "print(di)\n",
    "print(di[4])\n",
    "print(di[3])\n",
    "print(di[7])\n",
    "print(di[2])\n",
    "# print(di[10])"
   ]
  },
  {
   "cell_type": "code",
   "execution_count": 5,
   "id": "4b9c3055",
   "metadata": {},
   "outputs": [
    {
     "data": {
      "text/plain": [
       "['__class__',\n",
       " '__class_getitem__',\n",
       " '__contains__',\n",
       " '__delattr__',\n",
       " '__delitem__',\n",
       " '__dir__',\n",
       " '__doc__',\n",
       " '__eq__',\n",
       " '__format__',\n",
       " '__ge__',\n",
       " '__getattribute__',\n",
       " '__getitem__',\n",
       " '__gt__',\n",
       " '__hash__',\n",
       " '__init__',\n",
       " '__init_subclass__',\n",
       " '__ior__',\n",
       " '__iter__',\n",
       " '__le__',\n",
       " '__len__',\n",
       " '__lt__',\n",
       " '__ne__',\n",
       " '__new__',\n",
       " '__or__',\n",
       " '__reduce__',\n",
       " '__reduce_ex__',\n",
       " '__repr__',\n",
       " '__reversed__',\n",
       " '__ror__',\n",
       " '__setattr__',\n",
       " '__setitem__',\n",
       " '__sizeof__',\n",
       " '__str__',\n",
       " '__subclasshook__',\n",
       " 'clear',\n",
       " 'copy',\n",
       " 'fromkeys',\n",
       " 'get',\n",
       " 'items',\n",
       " 'keys',\n",
       " 'pop',\n",
       " 'popitem',\n",
       " 'setdefault',\n",
       " 'update',\n",
       " 'values']"
      ]
     },
     "execution_count": 5,
     "metadata": {},
     "output_type": "execute_result"
    }
   ],
   "source": [
    "dir(dict)"
   ]
  },
  {
   "cell_type": "markdown",
   "id": "4570d3e0",
   "metadata": {},
   "source": [
    "### Some elementry method of dictionaries.\n",
    "\n",
    "\n",
    "### .keys() :-\n",
    "keys() method in Python Dictionary, returns a view object that displays a list of all the keys in the\n",
    "dictionary in order of insertion.\n",
    "\n",
    "\n",
    "\n",
    "Syntax: dict.keys()\n",
    "\n",
    "\n",
    "\n",
    "Parameters: There are no parameters.\n",
    "Returns: A view object is returned that displays all the keys. This view object changes according\n",
    "to the changes in the dictionary.\n"
   ]
  },
  {
   "cell_type": "code",
   "execution_count": 6,
   "id": "51809cb9",
   "metadata": {},
   "outputs": [
    {
     "name": "stdout",
     "output_type": "stream",
     "text": [
      "dict_keys(['A', 'B'])\n",
      "dict_keys([])\n"
     ]
    }
   ],
   "source": [
    "# Printing keys of dictionary\n",
    "Dict1 = {'A': 'Python', 'B': 'Core'}\n",
    "print(Dict1.keys())\n",
    "# Printing keys of dictionary\n",
    "\n",
    "# Creating empty Dictionary\n",
    "empty_Dict1 = {}\n",
    "print(empty_Dict1.keys())\n",
    "# Printing keys of Empty Dictionary"
   ]
  },
  {
   "cell_type": "markdown",
   "id": "2f6b1a89",
   "metadata": {},
   "source": [
    "### .values() -\n",
    "values() is an inbuilt method in Python programming language that returns a view object.\n",
    "\n",
    "The\n",
    "view object contains the values of the dictionary, as a list. If you use the type() method on the\n",
    "return value, you get “dict_values object”. It must be cast to obtain the actual list.\n",
    "\n",
    "\n",
    "\n",
    "Syntax:\n",
    "dictionary_name.values()\n"
   ]
  },
  {
   "cell_type": "code",
   "execution_count": 7,
   "id": "9a88ae0e",
   "metadata": {},
   "outputs": [
    {
     "name": "stdout",
     "output_type": "stream",
     "text": [
      "dict_values([2, 3, 4])\n"
     ]
    }
   ],
   "source": [
    "# numerical values\n",
    "dict1 = {'a': 2, 'b': 3, 'c': 4}\n",
    "print(dict1.values())"
   ]
  },
  {
   "cell_type": "code",
   "execution_count": 8,
   "id": "78ca50b9",
   "metadata": {},
   "outputs": [
    {
     "name": "stdout",
     "output_type": "stream",
     "text": [
      "dict_values(['6', '9'])\n"
     ]
    }
   ],
   "source": [
    "# string values\n",
    "dict2 = {\"Madrid\": \"6\", \"Solutions\": \"9\"}\n",
    "print(dict2.values())\n"
   ]
  },
  {
   "cell_type": "markdown",
   "id": "a0a2f31b",
   "metadata": {},
   "source": [
    "### .items() -\n",
    "\n",
    "items() method is used to return the list with all dictionary keys with values.\n",
    "\n",
    "\n",
    "\n",
    "Syntax: dictionary.items()\n",
    "\n",
    "\n",
    "\n",
    "\n",
    "Parameters: This method takes no parameters.\n",
    "\n",
    "\n",
    "\n",
    "Returns: A view object that displays a list of a given dictionary’s (key, value) tuple pair"
   ]
  },
  {
   "cell_type": "code",
   "execution_count": 9,
   "id": "5e735f20",
   "metadata": {},
   "outputs": [
    {
     "name": "stdout",
     "output_type": "stream",
     "text": [
      "dict_items([('A', 'Madrid'), ('B', 2), ('C', 'Solutions')])\n"
     ]
    }
   ],
   "source": [
    "Dict1 = { 'A': 'Madrid', 'B': 2, 'C': 'Solutions' }\n",
    "\n",
    "print(Dict1.items())\n",
    "# Printing all the items of the Dictionary"
   ]
  },
  {
   "cell_type": "markdown",
   "id": "da36d8ef",
   "metadata": {},
   "source": [
    "### keys are immutable"
   ]
  },
  {
   "cell_type": "code",
   "execution_count": 4,
   "id": "7c1fa7a8",
   "metadata": {},
   "outputs": [
    {
     "ename": "TypeError",
     "evalue": "unhashable type: 'list'",
     "output_type": "error",
     "traceback": [
      "\u001b[1;31m---------------------------------------------------------------------------\u001b[0m",
      "\u001b[1;31mTypeError\u001b[0m                                 Traceback (most recent call last)",
      "Input \u001b[1;32mIn [4]\u001b[0m, in \u001b[0;36m<cell line: 1>\u001b[1;34m()\u001b[0m\n\u001b[1;32m----> 1\u001b[0m d1\u001b[38;5;241m=\u001b[39m{[\u001b[38;5;241m1\u001b[39m,\u001b[38;5;241m2\u001b[39m,\u001b[38;5;241m3\u001b[39m]:\u001b[38;5;124m\"\u001b[39m\u001b[38;5;124mlist numbers\u001b[39m\u001b[38;5;124m\"\u001b[39m,(\u001b[38;5;241m3\u001b[39m,\u001b[38;5;241m4\u001b[39m,\u001b[38;5;241m5\u001b[39m):\u001b[38;5;124m\"\u001b[39m\u001b[38;5;124mtuple numbers\u001b[39m\u001b[38;5;124m\"\u001b[39m}\n\u001b[0;32m      2\u001b[0m \u001b[38;5;28mtype\u001b[39m(d1)\n",
      "\u001b[1;31mTypeError\u001b[0m: unhashable type: 'list'"
     ]
    }
   ],
   "source": [
    "d1={[1,2,3]:\"list numbers\",(3,4,5):\"tuple numbers\"}\n",
    "type(d1)"
   ]
  },
  {
   "cell_type": "markdown",
   "id": "8acb3eff",
   "metadata": {},
   "source": [
    "### from above output it cleary shows that keys shoud be immutable since list is immutable so we got the error."
   ]
  },
  {
   "cell_type": "markdown",
   "id": "2dbce20b",
   "metadata": {},
   "source": [
    "### keys should be unique"
   ]
  },
  {
   "cell_type": "markdown",
   "id": "3c69f6a7",
   "metadata": {},
   "source": [
    "### Nested dictionary"
   ]
  },
  {
   "attachments": {
    "python-nested-dictionaries.png": {
     "image/png": "[encoded data removed]"
    }
   },
   "cell_type": "markdown",
   "id": "85fa2758",
   "metadata": {},
   "source": [
    "![python-nested-dictionaries.png](attachment:python-nested-dictionaries.png)"
   ]
  },
  {
   "cell_type": "code",
   "execution_count": 5,
   "id": "0fad06ba",
   "metadata": {},
   "outputs": [
    {
     "name": "stdout",
     "output_type": "stream",
     "text": [
      "dict_keys(['dict1', 'dict2'])\n",
      "dict_values([{'color': 'Red', 'shape': 'sqaure'}, {'color': 'pink', 'shape': 'round'}])\n",
      "dict_items([('dict1', {'color': 'Red', 'shape': 'sqaure'}), ('dict2', {'color': 'pink', 'shape': 'round'})])\n"
     ]
    }
   ],
   "source": [
    "d={\"dict1\":{\"color\":\"Red\",\"shape\":\"sqaure\"},\"dict2\":{\"color\":\"pink\",\"shape\":\"round\"}}\n",
    "type(d)\n",
    "print(d.keys())\n",
    "print(d.values())\n",
    "print(d.items())"
   ]
  },
  {
   "cell_type": "markdown",
   "id": "ee8d9765",
   "metadata": {},
   "source": [
    "## accessing the element in nested dictionary"
   ]
  },
  {
   "cell_type": "code",
   "execution_count": 6,
   "id": "ec2f6d4f",
   "metadata": {},
   "outputs": [
    {
     "data": {
      "text/plain": [
       "'sqaure'"
      ]
     },
     "execution_count": 6,
     "metadata": {},
     "output_type": "execute_result"
    }
   ],
   "source": [
    "d[\"dict1\"][\"shape\"]"
   ]
  },
  {
   "cell_type": "markdown",
   "id": "e0e6b7d5",
   "metadata": {},
   "source": [
    "### Accessing elements from a Dictionary\n",
    "In order to access the items of a dictionary refer to its **key name.**\n",
    "\n",
    "\n",
    "\n",
    "Key can be used inside square brackets.   \n",
    "\n",
    "\n",
    "### no slicing \n"
   ]
  },
  {
   "cell_type": "code",
   "execution_count": 59,
   "id": "5b675e8f",
   "metadata": {},
   "outputs": [
    {
     "data": {
      "text/plain": [
       "{1: 'one',\n",
       " 2: 'two',\n",
       " 3: 'three',\n",
       " 4: {'four': 'even', 'multipleof2': '2'},\n",
       " 'list': [1, 2, 3, 3, 4]}"
      ]
     },
     "execution_count": 59,
     "metadata": {},
     "output_type": "execute_result"
    }
   ],
   "source": [
    "d={1:\"one\",2:\"two\",3:\"three\",4:{\"four\":\"even\",\"multipleof2\":\"2\"},\"list\":[1,2,3,3,4]}\n",
    "d"
   ]
  },
  {
   "cell_type": "code",
   "execution_count": 54,
   "id": "940c2a02",
   "metadata": {},
   "outputs": [
    {
     "data": {
      "text/plain": [
       "'2'"
      ]
     },
     "execution_count": 54,
     "metadata": {},
     "output_type": "execute_result"
    }
   ],
   "source": [
    "d[4][\"multipleof2\"]"
   ]
  },
  {
   "cell_type": "code",
   "execution_count": 55,
   "id": "a2b27df2",
   "metadata": {},
   "outputs": [
    {
     "data": {
      "text/plain": [
       "[1, 2, 3, 3, 4]"
      ]
     },
     "execution_count": 55,
     "metadata": {},
     "output_type": "execute_result"
    }
   ],
   "source": [
    "d[\"list\"]"
   ]
  },
  {
   "cell_type": "code",
   "execution_count": 56,
   "id": "dd003589",
   "metadata": {},
   "outputs": [
    {
     "data": {
      "text/plain": [
       "[3, 3]"
      ]
     },
     "execution_count": 56,
     "metadata": {},
     "output_type": "execute_result"
    }
   ],
   "source": [
    "d[\"list\"][2:4]"
   ]
  },
  {
   "cell_type": "code",
   "execution_count": 62,
   "id": "7abcc4e1",
   "metadata": {},
   "outputs": [
    {
     "ename": "KeyError",
     "evalue": "6",
     "output_type": "error",
     "traceback": [
      "\u001b[1;31m---------------------------------------------------------------------------\u001b[0m",
      "\u001b[1;31mKeyError\u001b[0m                                  Traceback (most recent call last)",
      "Input \u001b[1;32mIn [62]\u001b[0m, in \u001b[0;36m<cell line: 1>\u001b[1;34m()\u001b[0m\n\u001b[1;32m----> 1\u001b[0m \u001b[43md\u001b[49m\u001b[43m[\u001b[49m\u001b[38;5;241;43m6\u001b[39;49m\u001b[43m]\u001b[49m\n",
      "\u001b[1;31mKeyError\u001b[0m: 6"
     ]
    }
   ],
   "source": [
    "d[6]"
   ]
  },
  {
   "cell_type": "code",
   "execution_count": 63,
   "id": "9f1e184e",
   "metadata": {},
   "outputs": [
    {
     "data": {
      "text/plain": [
       "'one'"
      ]
     },
     "execution_count": 63,
     "metadata": {},
     "output_type": "execute_result"
    }
   ],
   "source": [
    "d.get(1)"
   ]
  },
  {
   "cell_type": "code",
   "execution_count": 61,
   "id": "37b8ecb6",
   "metadata": {},
   "outputs": [
    {
     "data": {
      "text/plain": [
       "NoneType"
      ]
     },
     "execution_count": 61,
     "metadata": {},
     "output_type": "execute_result"
    }
   ],
   "source": [
    "type(d.get(6))"
   ]
  },
  {
   "cell_type": "code",
   "execution_count": 12,
   "id": "3c28dbc4",
   "metadata": {},
   "outputs": [
    {
     "name": "stdout",
     "output_type": "stream",
     "text": [
      "Madrid\n",
      "Python\n",
      "3\n"
     ]
    }
   ],
   "source": [
    "Dict = {1: 'Python', 'name': 'Madrid', 3: 'Core',5:[1,2,3]}\n",
    "print(Dict['name'])  # accessing a element using key\n",
    "print(Dict[1]) ## accessing a element using key\n",
    "print(Dict[5][2])  ## accessing 3 "
   ]
  },
  {
   "cell_type": "code",
   "execution_count": 47,
   "id": "b1d91b73",
   "metadata": {},
   "outputs": [
    {
     "name": "stdout",
     "output_type": "stream",
     "text": [
      "{'1': 'one', 2: 'two'}\n",
      "enter the key to be searched2\n",
      "2\n"
     ]
    },
    {
     "ename": "KeyError",
     "evalue": "'2'",
     "output_type": "error",
     "traceback": [
      "\u001b[1;31m---------------------------------------------------------------------------\u001b[0m",
      "\u001b[1;31mKeyError\u001b[0m                                  Traceback (most recent call last)",
      "Input \u001b[1;32mIn [47]\u001b[0m, in \u001b[0;36m<cell line: 5>\u001b[1;34m()\u001b[0m\n\u001b[0;32m      3\u001b[0m key\u001b[38;5;241m=\u001b[39m\u001b[38;5;28minput\u001b[39m(\u001b[38;5;124m\"\u001b[39m\u001b[38;5;124menter the key to be searched\u001b[39m\u001b[38;5;124m\"\u001b[39m)\n\u001b[0;32m      4\u001b[0m \u001b[38;5;28mprint\u001b[39m(key)\n\u001b[1;32m----> 5\u001b[0m \u001b[43md\u001b[49m\u001b[43m[\u001b[49m\u001b[43mkey\u001b[49m\u001b[43m]\u001b[49m\n",
      "\u001b[1;31mKeyError\u001b[0m: '2'"
     ]
    }
   ],
   "source": [
    "d={\"1\":\"one\",2:\"two\"}\n",
    "print(d)\n",
    "key=input(\"enter the key to be searched\")\n",
    "print(key)\n",
    "d[key]"
   ]
  },
  {
   "cell_type": "code",
   "execution_count": 46,
   "id": "85b34a9a",
   "metadata": {},
   "outputs": [
    {
     "data": {
      "text/plain": [
       "'two'"
      ]
     },
     "execution_count": 46,
     "metadata": {},
     "output_type": "execute_result"
    }
   ],
   "source": [
    "d[2]"
   ]
  },
  {
   "cell_type": "code",
   "execution_count": 42,
   "id": "a1025ad9",
   "metadata": {},
   "outputs": [
    {
     "data": {
      "text/plain": [
       "'one'"
      ]
     },
     "execution_count": 42,
     "metadata": {},
     "output_type": "execute_result"
    }
   ],
   "source": [
    "d[\"1\"]"
   ]
  },
  {
   "cell_type": "markdown",
   "id": "ccc0f44c",
   "metadata": {},
   "source": [
    "### accessing the element whose corresponding key is not present it generates the error"
   ]
  },
  {
   "cell_type": "code",
   "execution_count": null,
   "id": "c0c5b888",
   "metadata": {},
   "outputs": [],
   "source": []
  },
  {
   "cell_type": "code",
   "execution_count": 13,
   "id": "704aa845",
   "metadata": {},
   "outputs": [
    {
     "ename": "KeyError",
     "evalue": "4",
     "output_type": "error",
     "traceback": [
      "\u001b[1;31m---------------------------------------------------------------------------\u001b[0m",
      "\u001b[1;31mKeyError\u001b[0m                                  Traceback (most recent call last)",
      "Input \u001b[1;32mIn [13]\u001b[0m, in \u001b[0;36m<cell line: 1>\u001b[1;34m()\u001b[0m\n\u001b[1;32m----> 1\u001b[0m \u001b[43mDict\u001b[49m\u001b[43m[\u001b[49m\u001b[38;5;241;43m4\u001b[39;49m\u001b[43m]\u001b[49m\n",
      "\u001b[1;31mKeyError\u001b[0m: 4"
     ]
    }
   ],
   "source": [
    "Dict[4]"
   ]
  },
  {
   "cell_type": "code",
   "execution_count": null,
   "id": "76af0ca4",
   "metadata": {},
   "outputs": [],
   "source": [
    "### so handle this error we use get method "
   ]
  },
  {
   "cell_type": "markdown",
   "id": "5e4ace3e",
   "metadata": {},
   "source": [
    "### get()  helps in accessing the element from a dictionary.\n",
    "\n",
    "\n"
   ]
  },
  {
   "cell_type": "code",
   "execution_count": 14,
   "id": "0319da7a",
   "metadata": {},
   "outputs": [
    {
     "data": {
      "text/plain": [
       "'Python'"
      ]
     },
     "execution_count": 14,
     "metadata": {},
     "output_type": "execute_result"
    }
   ],
   "source": [
    "Dict.get(1)"
   ]
  },
  {
   "cell_type": "code",
   "execution_count": 15,
   "id": "2bddfec8",
   "metadata": {},
   "outputs": [],
   "source": [
    "Dict.get(4)  ### if key is not found then it  returns none and wont generate the error unlike dict.[key]"
   ]
  },
  {
   "cell_type": "markdown",
   "id": "4cdc2bf2",
   "metadata": {},
   "source": [
    "### Accessing an element of a nested dictionary\n",
    "In order to access the value of any key in the nested dictionary, use indexing [] syntax.\n"
   ]
  },
  {
   "cell_type": "code",
   "execution_count": 16,
   "id": "04da184e",
   "metadata": {},
   "outputs": [
    {
     "name": "stdout",
     "output_type": "stream",
     "text": [
      "{1: 'Python'}\n",
      "Python\n",
      "Core\n"
     ]
    }
   ],
   "source": [
    "Dict = {'Dict1': {1: 'Python'}, 'Dict2': {'Name': 'Core'}}\n",
    "# Accessing element using key\n",
    "\n",
    "print(Dict['Dict1'])\n",
    "print(Dict['Dict1'][1])\n",
    "print(Dict['Dict2']['Name'])\n"
   ]
  },
  {
   "cell_type": "markdown",
   "id": "030fa7aa",
   "metadata": {},
   "source": [
    "### Adding elements to a Dictionary"
   ]
  },
  {
   "cell_type": "markdown",
   "id": "7d5c1023",
   "metadata": {},
   "source": [
    "the Addition of elements can be done in multiple ways. One value at a time\n",
    "can be added to a Dictionary by defining value along with the key \n",
    "\n",
    "\n",
    "e.g. Dict[Key] = ‘Value’"
   ]
  },
  {
   "cell_type": "code",
   "execution_count": 64,
   "id": "4a87a267",
   "metadata": {},
   "outputs": [
    {
     "data": {
      "text/plain": [
       "{'name': ['jatin', 'priya', 'jai'],\n",
       " 'gender': ['m', 'f', 'm'],\n",
       " 'grade': ['a', 'b', 'a+']}"
      ]
     },
     "execution_count": 64,
     "metadata": {},
     "output_type": "execute_result"
    }
   ],
   "source": [
    "d={}\n",
    "d[\"name\"]=[\"jatin\",\"priya\",\"jai\"]\n",
    "d[\"gender\"]=[\"m\",\"f\",\"m\"]\n",
    "d[\"grade\"]=[\"a\",\"b\",\"a+\"]\n",
    "d\n",
    "        "
   ]
  },
  {
   "cell_type": "code",
   "execution_count": 65,
   "id": "0a1c85f1",
   "metadata": {},
   "outputs": [
    {
     "data": {
      "text/html": [
       "<div>\n",
       "<style scoped>\n",
       "    .dataframe tbody tr th:only-of-type {\n",
       "        vertical-align: middle;\n",
       "    }\n",
       "\n",
       "    .dataframe tbody tr th {\n",
       "        vertical-align: top;\n",
       "    }\n",
       "\n",
       "    .dataframe thead th {\n",
       "        text-align: right;\n",
       "    }\n",
       "</style>\n",
       "<table border=\"1\" class=\"dataframe\">\n",
       "  <thead>\n",
       "    <tr style=\"text-align: right;\">\n",
       "      <th></th>\n",
       "      <th>name</th>\n",
       "      <th>gender</th>\n",
       "      <th>grade</th>\n",
       "    </tr>\n",
       "  </thead>\n",
       "  <tbody>\n",
       "    <tr>\n",
       "      <th>0</th>\n",
       "      <td>jatin</td>\n",
       "      <td>m</td>\n",
       "      <td>a</td>\n",
       "    </tr>\n",
       "    <tr>\n",
       "      <th>1</th>\n",
       "      <td>priya</td>\n",
       "      <td>f</td>\n",
       "      <td>b</td>\n",
       "    </tr>\n",
       "    <tr>\n",
       "      <th>2</th>\n",
       "      <td>jai</td>\n",
       "      <td>m</td>\n",
       "      <td>a+</td>\n",
       "    </tr>\n",
       "  </tbody>\n",
       "</table>\n",
       "</div>"
      ],
      "text/plain": [
       "    name gender grade\n",
       "0  jatin      m     a\n",
       "1  priya      f     b\n",
       "2    jai      m    a+"
      ]
     },
     "execution_count": 65,
     "metadata": {},
     "output_type": "execute_result"
    }
   ],
   "source": [
    "import pandas as pd\n",
    "df=pd.DataFrame(d)\n",
    "df"
   ]
  },
  {
   "cell_type": "code",
   "execution_count": 66,
   "id": "1bc6ab33",
   "metadata": {},
   "outputs": [
    {
     "data": {
      "text/plain": [
       "{'name': ['jatin', 'priya', 'jai'],\n",
       " 'gender': ['m', 'f', 'm'],\n",
       " 'grade': ['a', 'b', 'a+']}"
      ]
     },
     "execution_count": 66,
     "metadata": {},
     "output_type": "execute_result"
    }
   ],
   "source": [
    "d"
   ]
  },
  {
   "cell_type": "code",
   "execution_count": 67,
   "id": "490a5760",
   "metadata": {},
   "outputs": [
    {
     "data": {
      "text/plain": [
       "{'name': 'python batch', 'gender': ['m', 'f', 'm'], 'grade': ['a', 'b', 'a+']}"
      ]
     },
     "execution_count": 67,
     "metadata": {},
     "output_type": "execute_result"
    }
   ],
   "source": [
    "d[\"name\"]=\"python batch\"\n",
    "d"
   ]
  },
  {
   "cell_type": "code",
   "execution_count": 17,
   "id": "a74b4d3f",
   "metadata": {},
   "outputs": [
    {
     "name": "stdout",
     "output_type": "stream",
     "text": [
      "{}\n",
      "{0: 'Python', 2: 'Core', 3: 1}\n",
      "{0: 'Python', 2: 'Core', 3: 1, 'Value_set': (2, 3, 4)}\n",
      "{0: 'Python', 2: 'Welcome', 3: 1, 'Value_set': (2, 3, 4)}\n",
      "{0: 'Python', 2: 'Welcome', 3: 1, 'Value_set': (2, 3, 4), 5: {'Nested': {'1': 'Life', '2': 'Geeks'}}}\n"
     ]
    }
   ],
   "source": [
    "# Creating an empty Dictionary\n",
    "Dict = {}\n",
    "print(Dict)\n",
    "# Adding elements one at a time\n",
    "Dict[0] = 'Python'\n",
    "Dict[2] = 'Core'\n",
    "Dict[3] = 1\n",
    "print(Dict)\n",
    "# Adding set of values to a single Key\n",
    "Dict['Value_set'] = 2, 3, 4\n",
    "print(Dict)\n",
    "# Updating existing Key's Value\n",
    "Dict[2] = 'Welcome'\n",
    "print(Dict)\n",
    "# Adding Nested Key value to Dictionary\n",
    "Dict[5] = {'Nested' :{'1' : 'Life', '2' : 'Geeks'}}\n",
    "print(Dict)\n"
   ]
  },
  {
   "cell_type": "code",
   "execution_count": 141,
   "id": "43c52eff",
   "metadata": {},
   "outputs": [
    {
     "ename": "TypeError",
     "evalue": "unsupported operand type(s) for +: 'dict' and 'dict'",
     "output_type": "error",
     "traceback": [
      "\u001b[1;31m---------------------------------------------------------------------------\u001b[0m",
      "\u001b[1;31mTypeError\u001b[0m                                 Traceback (most recent call last)",
      "Input \u001b[1;32mIn [141]\u001b[0m, in \u001b[0;36m<cell line: 4>\u001b[1;34m()\u001b[0m\n\u001b[0;32m      2\u001b[0m dic1\u001b[38;5;241m=\u001b[39m{\u001b[38;5;241m1\u001b[39m:\u001b[38;5;241m10\u001b[39m, \u001b[38;5;241m2\u001b[39m:\u001b[38;5;241m20\u001b[39m}\n\u001b[0;32m      3\u001b[0m dic2\u001b[38;5;241m=\u001b[39m{\u001b[38;5;241m2\u001b[39m:\u001b[38;5;241m30\u001b[39m, \u001b[38;5;241m4\u001b[39m:\u001b[38;5;241m40\u001b[39m}\n\u001b[1;32m----> 4\u001b[0m \u001b[43mdic1\u001b[49m\u001b[38;5;241;43m+\u001b[39;49m\u001b[43mdic2\u001b[49m\n",
      "\u001b[1;31mTypeError\u001b[0m: unsupported operand type(s) for +: 'dict' and 'dict'"
     ]
    }
   ],
   "source": [
    "## concatenation in dict\n",
    "dic1={1:10, 2:20}\n",
    "dic2={2:30, 4:40}\n",
    "dic1+dic2    "
   ]
  },
  {
   "cell_type": "markdown",
   "id": "e2b6edfb",
   "metadata": {},
   "source": [
    "#### .update() -\n",
    "use to update the dictionary or add key,value pair in dictionary"
   ]
  },
  {
   "cell_type": "code",
   "execution_count": 71,
   "id": "6095aa07",
   "metadata": {},
   "outputs": [
    {
     "data": {
      "text/plain": [
       "{'A': 'Python', 'B': 'Core', 'course1': 'python', 'course2': 'datascience'}"
      ]
     },
     "execution_count": 71,
     "metadata": {},
     "output_type": "execute_result"
    }
   ],
   "source": [
    "dict1 = {'A': 'Python', 'B': 'Core'}\n",
    "dict2={\"course1\":\"python\",\"course2\":\"datascience\"}\n",
    "dict1.update(dict2)\n",
    "dict1\n"
   ]
  },
  {
   "cell_type": "code",
   "execution_count": 79,
   "id": "b83e6971",
   "metadata": {},
   "outputs": [
    {
     "data": {
      "text/plain": [
       "{'A': 'Python', 'B': 'Core'}"
      ]
     },
     "execution_count": 79,
     "metadata": {},
     "output_type": "execute_result"
    }
   ],
   "source": [
    "dict1 = {'A': 'Python', 'B': 'Core'}\n",
    "#d={}\n",
    "d=dict1.copy()\n",
    "d\n"
   ]
  },
  {
   "cell_type": "code",
   "execution_count": 80,
   "id": "465d93ac",
   "metadata": {},
   "outputs": [
    {
     "data": {
      "text/plain": [
       "{'A': 'Python', 'B': 'Core', 'a': 'capital'}"
      ]
     },
     "execution_count": 80,
     "metadata": {},
     "output_type": "execute_result"
    }
   ],
   "source": [
    "dict1[\"a\"]=\"capital\"\n",
    "dict1"
   ]
  },
  {
   "cell_type": "code",
   "execution_count": 81,
   "id": "7ce3f10b",
   "metadata": {},
   "outputs": [
    {
     "data": {
      "text/plain": [
       "{'A': 'Python', 'B': 'Core'}"
      ]
     },
     "execution_count": 81,
     "metadata": {},
     "output_type": "execute_result"
    }
   ],
   "source": [
    "d"
   ]
  },
  {
   "cell_type": "code",
   "execution_count": 18,
   "id": "1fd14688",
   "metadata": {},
   "outputs": [
    {
     "name": "stdout",
     "output_type": "stream",
     "text": [
      "{'A': 'Python', 'B': 'Core', 'C': 'World', 'D': 'hello'}\n"
     ]
    }
   ],
   "source": [
    "Dict1 = {'A': 'Python', 'B': 'Core'}\n",
    "Dict1.update({'C':'World',\"D\":\"hello\"})\n",
    "print(Dict1)"
   ]
  },
  {
   "cell_type": "markdown",
   "id": "9bfb4ee8",
   "metadata": {},
   "source": [
    "### Removing Elements from Dictionary\n",
    "#### deletion of keys can be done by using the del keyword.\n",
    "\n",
    "\n",
    "Using the del keyword, specific values from a dictionary as well as the whole dictionary can be\n",
    "deleted. \n",
    "\n",
    "Items in a Nested dictionary can also be deleted by using the del keyword and\n",
    "providing a specific nested key and particular key to be deleted from that nested Dictionary.\n",
    "\n",
    "\n",
    "\n",
    "Note: The del Dict will delete the entire dictionary and hence printing it after deletion will raise\n",
    "an Error."
   ]
  },
  {
   "cell_type": "code",
   "execution_count": 10,
   "id": "ec358ba1",
   "metadata": {},
   "outputs": [
    {
     "data": {
      "text/plain": [
       "{5: 'Welcome',\n",
       " 6: 'To',\n",
       " 7: 'Madrid',\n",
       " 'A': {1: 'Pyhton', 2: 'For', 3: {1: 'Madrid', 2: 'Solutions'}}}"
      ]
     },
     "execution_count": 10,
     "metadata": {},
     "output_type": "execute_result"
    }
   ],
   "source": [
    "Dict = { 5 : 'Welcome', 6 : 'To', 7 : 'Madrid', 'A' : {1 : 'Pyhton', 2 : 'For', 3 : {1 : 'Madrid', 2 : 'Solutions'}}}\n",
    "Dict"
   ]
  },
  {
   "cell_type": "code",
   "execution_count": 11,
   "id": "99139fbc",
   "metadata": {},
   "outputs": [
    {
     "data": {
      "text/plain": [
       "'Madrid'"
      ]
     },
     "execution_count": 11,
     "metadata": {},
     "output_type": "execute_result"
    }
   ],
   "source": [
    "Dict.pop(7)"
   ]
  },
  {
   "cell_type": "code",
   "execution_count": 12,
   "id": "2b49770a",
   "metadata": {},
   "outputs": [
    {
     "data": {
      "text/plain": [
       "{5: 'Welcome',\n",
       " 6: 'To',\n",
       " 'A': {1: 'Pyhton', 2: 'For', 3: {1: 'Madrid', 2: 'Solutions'}}}"
      ]
     },
     "execution_count": 12,
     "metadata": {},
     "output_type": "execute_result"
    }
   ],
   "source": [
    "Dict"
   ]
  },
  {
   "cell_type": "code",
   "execution_count": 19,
   "id": "f0641747",
   "metadata": {},
   "outputs": [
    {
     "name": "stdout",
     "output_type": "stream",
     "text": [
      "{5: 'Welcome', 6: 'To', 7: 'Madrid', 'A': {1: 'Pyhton', 2: 'For', 3: {1: 'Madrid', 2: 'Solutions'}}}\n",
      "{5: 'Welcome', 7: 'Madrid', 'A': {1: 'Pyhton', 2: 'For', 3: {1: 'Madrid', 2: 'Solutions'}}}\n",
      "{5: 'Welcome', 7: 'Madrid', 'A': {1: 'Pyhton', 2: 'For', 3: {1: 'Madrid'}}}\n"
     ]
    }
   ],
   "source": [
    "Dict = { 5 : 'Welcome', 6 : 'To', 7 : 'Madrid', 'A' : {1 : 'Pyhton', 2 : 'For', 3 : {1 : 'Madrid', 2 : 'Solutions'}}}\n",
    "\n",
    "print(Dict)  \n",
    "#Deleting a Key value\n",
    "del Dict[6]\n",
    "print(Dict)\n",
    "# Deleting a Key from Nested Dictionary\n",
    "del Dict['A'][3][2]\n",
    "print(Dict)"
   ]
  },
  {
   "cell_type": "markdown",
   "id": "b3ab6f92",
   "metadata": {},
   "source": [
    "### Using pop() method\n",
    "Pop() method is used to return and delete the value of the key specified."
   ]
  },
  {
   "cell_type": "code",
   "execution_count": 3,
   "id": "8a702071",
   "metadata": {},
   "outputs": [
    {
     "data": {
      "text/plain": [
       "'Python'"
      ]
     },
     "execution_count": 3,
     "metadata": {},
     "output_type": "execute_result"
    }
   ],
   "source": [
    "#Dict = {1: 'Python', 'name': 'Madrid', 3: 'Core'}\n",
    "#Dict.pop(1)"
   ]
  },
  {
   "cell_type": "code",
   "execution_count": 20,
   "id": "05649c9b",
   "metadata": {},
   "outputs": [
    {
     "name": "stdout",
     "output_type": "stream",
     "text": [
      "Value associated to poped key is: Python\n",
      "{'name': 'Madrid', 3: 'Core'}\n"
     ]
    }
   ],
   "source": [
    "Dict = {1: 'Python', 'name': 'Madrid', 3: 'Core'}\n",
    "# Deleting a key using pop() method\n",
    "pop_ele = Dict.pop(1)\n",
    "print('Value associated to poped key is: ' + str(pop_ele))\n",
    "print(Dict)"
   ]
  },
  {
   "cell_type": "markdown",
   "id": "5ceef6e3",
   "metadata": {},
   "source": [
    "### Using popitem() method\n",
    "The popitem() returns and removes an arbitrary element (key, value) pair from the dictionary.\n"
   ]
  },
  {
   "cell_type": "code",
   "execution_count": 4,
   "id": "da06fcb7",
   "metadata": {},
   "outputs": [
    {
     "name": "stdout",
     "output_type": "stream",
     "text": [
      "The arbitrary pair returned is: (3, 'Core')\n",
      "{1: 'Python', 'name': 'Madrid'}\n"
     ]
    }
   ],
   "source": [
    "Dict = {1: 'Python', 'name': 'Madrid', 3: 'Core'}\n",
    "# Deleting an arbitrary key using popitem() function\n",
    "pop_ele = Dict.popitem()\n",
    "print(\"The arbitrary pair returned is: \" + str(pop_ele))\n",
    "print(Dict)\n"
   ]
  },
  {
   "cell_type": "markdown",
   "id": "a1472a8b",
   "metadata": {},
   "source": [
    "### Using clear() method\n",
    "All the items from a dictionary can be deleted at once by using clear() method."
   ]
  },
  {
   "cell_type": "code",
   "execution_count": 22,
   "id": "cfd9fa43",
   "metadata": {},
   "outputs": [
    {
     "name": "stdout",
     "output_type": "stream",
     "text": [
      "{}\n"
     ]
    }
   ],
   "source": [
    "Dict = {1: 'Python', 'name': 'Madrid', 3: 'Core'}\n",
    "# Deleting entire Dictionary\n",
    "Dict.clear()\n",
    "print(Dict)"
   ]
  },
  {
   "cell_type": "markdown",
   "id": "13635d7d",
   "metadata": {},
   "source": [
    "## Copy"
   ]
  },
  {
   "cell_type": "code",
   "execution_count": 26,
   "id": "f0863bb2",
   "metadata": {},
   "outputs": [
    {
     "name": "stdout",
     "output_type": "stream",
     "text": [
      "{'a': 100, 'b': 200}\n"
     ]
    }
   ],
   "source": [
    "#Write a Python script to merge two Python dictionaries.\n",
    "d1 = {'a': 100, 'b': 200}\n",
    "#d2 = {'x': 300, 'y': 200}\n",
    "d = d1.copy()\n",
    "print(d)"
   ]
  },
  {
   "cell_type": "markdown",
   "id": "5280b2da",
   "metadata": {},
   "source": [
    "### Iteration in dict or traversing a dict"
   ]
  },
  {
   "cell_type": "code",
   "execution_count": 23,
   "id": "0c9cbd4a",
   "metadata": {},
   "outputs": [
    {
     "name": "stdout",
     "output_type": "stream",
     "text": [
      "1\n",
      "name\n",
      "3\n",
      "4\n"
     ]
    }
   ],
   "source": [
    "Dict = {1: 'Python', 'name': 'Madrid', 3: 'Core',4:[1,2,3]}\n",
    "for i in Dict:  ## default get keys\n",
    "    print(i)\n"
   ]
  },
  {
   "cell_type": "code",
   "execution_count": 23,
   "id": "095cf1f1",
   "metadata": {},
   "outputs": [
    {
     "name": "stdout",
     "output_type": "stream",
     "text": [
      "{1: 1, 2: 4, 3: 9, 4: 16, 5: 25, 6: 36, 7: 49, 8: 64, 9: 81, 10: 100, 11: 121, 12: 144, 13: 169, 14: 196, 15: 225}\n"
     ]
    }
   ],
   "source": [
    "d={}\n",
    "for i in range(1,16):\n",
    "    d[i]=i*i\n",
    "    \n",
    "print(d)"
   ]
  },
  {
   "cell_type": "code",
   "execution_count": null,
   "id": "7f478a2d",
   "metadata": {},
   "outputs": [],
   "source": [
    "Dict = {1: 'Python', 'name': 'Madrid', 3: 'Core',4:[1,2,3]}\n",
    "for i in Dict.values():  \n",
    "    print(i)"
   ]
  },
  {
   "cell_type": "code",
   "execution_count": null,
   "id": "fcafecf1",
   "metadata": {},
   "outputs": [],
   "source": [
    "Dict = {1: 'Python', 'name': 'Madrid', 3: 'Core',4:[1,2,3]}\n",
    "for i,j in Dict.items():  \n",
    "    print(i,\"----\",j)"
   ]
  },
  {
   "cell_type": "markdown",
   "id": "a4d4b4a3",
   "metadata": {},
   "source": [
    "''Write a Python script to print a dictionary where the keys are numbers between 1 and 15 (both included) and\\\n",
    "the values are square of keys. \n",
    "Sample Dictionary\n",
    "{1: 1, 2: 4, 3: 9, 4: 16, 5: 25, 6: 36, 7: 49, 8: 64, 9: 81, 10: 100, 11: 121, 12: 144, 13: 169, 14: 196, 15: 225}\n",
    "'''"
   ]
  },
  {
   "cell_type": "code",
   "execution_count": 110,
   "id": "a6e65075",
   "metadata": {},
   "outputs": [
    {
     "name": "stdout",
     "output_type": "stream",
     "text": [
      "{1: 1, 2: 4, 3: 9, 4: 16, 5: 25, 6: 36, 7: 49, 8: 64, 9: 81, 10: 100, 11: 121, 12: 144, 13: 169, 14: 196, 15: 225}\n"
     ]
    }
   ],
   "source": [
    "d={}\n",
    "for i in range(1,16):\n",
    "    d[i]=i*i\n",
    "print(d)"
   ]
  },
  {
   "cell_type": "markdown",
   "id": "90e0bb02",
   "metadata": {},
   "source": [
    "## sorted"
   ]
  },
  {
   "cell_type": "code",
   "execution_count": 7,
   "id": "1841ce96",
   "metadata": {},
   "outputs": [
    {
     "name": "stdout",
     "output_type": "stream",
     "text": [
      "[8, 7, 6, 5, 4, 3, 2, 1, 0]\n"
     ]
    }
   ],
   "source": [
    "#wap to sort the dictionary of keys\n",
    "di={0: 'a', 1: 'quick', 2: 'brown', 3: 'fox', 4: 'jumps', 5: 'over', 6: 'a', 7: 'lazy', 8: 'dog'}\n",
    "print(sorted(di.keys(),reverse=True))"
   ]
  },
  {
   "cell_type": "code",
   "execution_count": 8,
   "id": "d85bab78",
   "metadata": {},
   "outputs": [
    {
     "name": "stdout",
     "output_type": "stream",
     "text": [
      "['quick', 'over', 'lazy', 'jumps', 'fox', 'dog', 'brown', 'a', 'a']\n"
     ]
    }
   ],
   "source": [
    "#wap to sort the dictionary of keys\n",
    "di={0: 'a', 1: 'quick', 2: 'brown', 3: 'fox', 4: 'jumps', 5: 'over', 6: 'a', 7: 'lazy', 8: 'dog'}\n",
    "print(sorted(di.values(),reverse=True))"
   ]
  },
  {
   "cell_type": "code",
   "execution_count": 12,
   "id": "1e8312d0",
   "metadata": {},
   "outputs": [
    {
     "name": "stdout",
     "output_type": "stream",
     "text": [
      "[(8, 'dog'), (7, 'lazy'), (6, 'a'), (5, 'over'), (4, 'jumps'), (3, 'fox'), (2, 'brown'), (1, 'quick'), (0, 'a')]\n"
     ]
    }
   ],
   "source": [
    "#wap to sort the dictionary \n",
    "di={0: 'a', 1: 'quick', 2: 'brown', 3: 'fox', 4: 'jumps', 5: 'over', 6: 'a', 7: 'lazy', 8: 'dog'}\n",
    "print(sorted(di.items(),reverse=True)) ### by default based on key"
   ]
  },
  {
   "cell_type": "code",
   "execution_count": 15,
   "id": "fea174ab",
   "metadata": {},
   "outputs": [
    {
     "data": {
      "text/plain": [
       "[(0, 'a'),\n",
       " (6, 'a'),\n",
       " (2, 'brown'),\n",
       " (8, 'dog'),\n",
       " (3, 'fox'),\n",
       " (4, 'jumps'),\n",
       " (7, 'lazy'),\n",
       " (5, 'over'),\n",
       " (1, 'quick')]"
      ]
     },
     "execution_count": 15,
     "metadata": {},
     "output_type": "execute_result"
    }
   ],
   "source": [
    "#wap to sort the dictionary based on value\n",
    "di={0: 'a', 1: 'quick', 2: 'brown', 3: 'fox', 4: 'jumps', 5: 'over', 6: 'a', 7: 'lazy', 8: 'dog'}\n",
    "sorted(di.items(),key=lambda item: item[1]) "
   ]
  },
  {
   "cell_type": "markdown",
   "id": "c93114e3",
   "metadata": {},
   "source": [
    "### Wap\n",
    "\n",
    "\n",
    "#### D = {1: \"one\",2:\"two\",3:\"three\",4:\"four\",5:\"five\"}\n",
    "if the keyword in your dict is even then its corresponding should be capitalized. and if the keyword in your dict is odd then values should be a float of the keyword."
   ]
  },
  {
   "cell_type": "code",
   "execution_count": 24,
   "id": "2a47502c",
   "metadata": {},
   "outputs": [
    {
     "name": "stdout",
     "output_type": "stream",
     "text": [
      "{1: 3, 2: 'TWO', 3: 5, 4: 'FOUR', 5: 4}\n"
     ]
    }
   ],
   "source": [
    "D = {1: \"one\",2:\"two\",3:\"three\",4:\"four\",5:\"five\"}\n",
    "for i,j in D.items():\n",
    "    if i%2==0:\n",
    "        D[i]=D[i].upper()\n",
    "    else:\n",
    "        D[i]=len(j)\n",
    "print(D)"
   ]
  },
  {
   "cell_type": "markdown",
   "id": "971ee7bc",
   "metadata": {},
   "source": [
    "### dictionary properties proof "
   ]
  },
  {
   "cell_type": "markdown",
   "id": "8a987ee9",
   "metadata": {},
   "source": [
    "### 1. keys are immutable"
   ]
  },
  {
   "cell_type": "code",
   "execution_count": 26,
   "id": "087f448d",
   "metadata": {},
   "outputs": [
    {
     "ename": "TypeError",
     "evalue": "unhashable type: 'list'",
     "output_type": "error",
     "traceback": [
      "\u001b[1;31m---------------------------------------------------------------------------\u001b[0m",
      "\u001b[1;31mTypeError\u001b[0m                                 Traceback (most recent call last)",
      "Input \u001b[1;32mIn [26]\u001b[0m, in \u001b[0;36m<cell line: 1>\u001b[1;34m()\u001b[0m\n\u001b[1;32m----> 1\u001b[0m d1\u001b[38;5;241m=\u001b[39m{[\u001b[38;5;241m1\u001b[39m,\u001b[38;5;241m2\u001b[39m,\u001b[38;5;241m3\u001b[39m]:\u001b[38;5;124m\"\u001b[39m\u001b[38;5;124mlist numbers\u001b[39m\u001b[38;5;124m\"\u001b[39m,(\u001b[38;5;241m3\u001b[39m,\u001b[38;5;241m4\u001b[39m,\u001b[38;5;241m5\u001b[39m):\u001b[38;5;124m\"\u001b[39m\u001b[38;5;124mtuple numbers\u001b[39m\u001b[38;5;124m\"\u001b[39m}\n\u001b[0;32m      2\u001b[0m \u001b[38;5;28mtype\u001b[39m(d1)\n",
      "\u001b[1;31mTypeError\u001b[0m: unhashable type: 'list'"
     ]
    }
   ],
   "source": [
    " d1={[1,2,3]:\"list numbers\",(3,4,5):\"tuple numbers\"}  ## list can not be key since it is mutable\n",
    "type(d1)  "
   ]
  },
  {
   "cell_type": "markdown",
   "id": "3137b507",
   "metadata": {},
   "source": [
    "### 2. dict are mutable : already added the elements so it proved it is mutable"
   ]
  },
  {
   "cell_type": "markdown",
   "id": "9262b16b",
   "metadata": {},
   "source": [
    "### 3. no indexing in dict : since it is not a sequence it uses hashing concept "
   ]
  },
  {
   "cell_type": "markdown",
   "id": "215e9a6a",
   "metadata": {},
   "source": [
    "### 4. keys are unique: "
   ]
  },
  {
   "cell_type": "markdown",
   "id": "9ced2d5f",
   "metadata": {},
   "source": [
    "### values can be mutable or immutable : already shown above in examples "
   ]
  },
  {
   "cell_type": "markdown",
   "id": "62515f02",
   "metadata": {},
   "source": [
    "### Usage of dictionary\n",
    "\n",
    "1- as a database "
   ]
  },
  {
   "cell_type": "code",
   "execution_count": 19,
   "id": "05f6d554",
   "metadata": {},
   "outputs": [],
   "source": [
    "my_dict = {'Age':[12,13,12,13,12,13,14,12,13],'Gender':[0,1,1,0,1,0,1,0,0],'Height':[120,122,123,123,126,133,143,120,130]}"
   ]
  },
  {
   "cell_type": "code",
   "execution_count": 20,
   "id": "31612c58",
   "metadata": {},
   "outputs": [
    {
     "data": {
      "text/plain": [
       "{'Age': [12, 13, 12, 13, 12, 13, 14, 12, 13],\n",
       " 'Gender': [0, 1, 1, 0, 1, 0, 1, 0, 0],\n",
       " 'Height': [120, 122, 123, 123, 126, 133, 143, 120, 130]}"
      ]
     },
     "execution_count": 20,
     "metadata": {},
     "output_type": "execute_result"
    }
   ],
   "source": [
    "my_dict"
   ]
  },
  {
   "cell_type": "code",
   "execution_count": 21,
   "id": "a556a614",
   "metadata": {},
   "outputs": [
    {
     "data": {
      "text/html": [
       "<div>\n",
       "<style scoped>\n",
       "    .dataframe tbody tr th:only-of-type {\n",
       "        vertical-align: middle;\n",
       "    }\n",
       "\n",
       "    .dataframe tbody tr th {\n",
       "        vertical-align: top;\n",
       "    }\n",
       "\n",
       "    .dataframe thead th {\n",
       "        text-align: right;\n",
       "    }\n",
       "</style>\n",
       "<table border=\"1\" class=\"dataframe\">\n",
       "  <thead>\n",
       "    <tr style=\"text-align: right;\">\n",
       "      <th></th>\n",
       "      <th>Age</th>\n",
       "      <th>Gender</th>\n",
       "      <th>Height</th>\n",
       "    </tr>\n",
       "  </thead>\n",
       "  <tbody>\n",
       "    <tr>\n",
       "      <th>0</th>\n",
       "      <td>12</td>\n",
       "      <td>0</td>\n",
       "      <td>120</td>\n",
       "    </tr>\n",
       "    <tr>\n",
       "      <th>1</th>\n",
       "      <td>13</td>\n",
       "      <td>1</td>\n",
       "      <td>122</td>\n",
       "    </tr>\n",
       "    <tr>\n",
       "      <th>2</th>\n",
       "      <td>12</td>\n",
       "      <td>1</td>\n",
       "      <td>123</td>\n",
       "    </tr>\n",
       "    <tr>\n",
       "      <th>3</th>\n",
       "      <td>13</td>\n",
       "      <td>0</td>\n",
       "      <td>123</td>\n",
       "    </tr>\n",
       "    <tr>\n",
       "      <th>4</th>\n",
       "      <td>12</td>\n",
       "      <td>1</td>\n",
       "      <td>126</td>\n",
       "    </tr>\n",
       "    <tr>\n",
       "      <th>5</th>\n",
       "      <td>13</td>\n",
       "      <td>0</td>\n",
       "      <td>133</td>\n",
       "    </tr>\n",
       "    <tr>\n",
       "      <th>6</th>\n",
       "      <td>14</td>\n",
       "      <td>1</td>\n",
       "      <td>143</td>\n",
       "    </tr>\n",
       "    <tr>\n",
       "      <th>7</th>\n",
       "      <td>12</td>\n",
       "      <td>0</td>\n",
       "      <td>120</td>\n",
       "    </tr>\n",
       "    <tr>\n",
       "      <th>8</th>\n",
       "      <td>13</td>\n",
       "      <td>0</td>\n",
       "      <td>130</td>\n",
       "    </tr>\n",
       "  </tbody>\n",
       "</table>\n",
       "</div>"
      ],
      "text/plain": [
       "   Age  Gender  Height\n",
       "0   12       0     120\n",
       "1   13       1     122\n",
       "2   12       1     123\n",
       "3   13       0     123\n",
       "4   12       1     126\n",
       "5   13       0     133\n",
       "6   14       1     143\n",
       "7   12       0     120\n",
       "8   13       0     130"
      ]
     },
     "execution_count": 21,
     "metadata": {},
     "output_type": "execute_result"
    }
   ],
   "source": [
    "import pandas as pd\n",
    "df=pd.DataFrame(my_dict)\n",
    "df"
   ]
  },
  {
   "cell_type": "markdown",
   "id": "3f44b9fe",
   "metadata": {},
   "source": [
    "### wap to take the data of students : name, marks of five subjects, and display who is fail or pass .\n",
    "execcelent : 475-500 \n",
    "very good : 450-475/500 \n",
    "good : 450/500  \n",
    "average: 300-450  \n",
    "below average : 201 to 300\n",
    "below 200 : fail\n",
    "    \n",
    "\n",
    "\n",
    "\n",
    "    \n",
    "    "
   ]
  },
  {
   "cell_type": "code",
   "execution_count": 30,
   "id": "2867b0d5",
   "metadata": {},
   "outputs": [
    {
     "name": "stdout",
     "output_type": "stream",
     "text": [
      "enter the number of students1\n",
      "enter the name of studentsanjana\n",
      "enter the genderf\n",
      "enter the marks of student32\n",
      "enter the marks of student45\n",
      "enter the marks of student67\n",
      "enter the marks of student89\n",
      "enter the marks of student90\n",
      "dict_keys(['sanjana'])\n",
      "dict_values([['f', (32, 45, 67, 89, 90), 'good']])\n",
      "{'sanjana': ['f', (32, 45, 67, 89, 90), 'good']}\n"
     ]
    }
   ],
   "source": [
    "n_stud= int(input(\"enter the number of students\"))\n",
    "d1={}\n",
    "t=()\n",
    "\n",
    "for x in range(1,n_stud+1):\n",
    "    l1=[]\n",
    "    l2=[]\n",
    "    sum=0\n",
    "    grade=\"\"\n",
    "    name=input(\"enter the name of student\")\n",
    "    gender=input(\"enter the gender\")\n",
    "    for k in range(0,5):\n",
    "        marks=int(input(\"enter the marks of student\"))\n",
    "        l1.append(marks)\n",
    "        t1=tuple(l1)\n",
    "        sum=sum+l1[k]\n",
    "        if sum<=200:\n",
    "            grade=\"fail\"\n",
    "        elif sum>200 and sum<=300:\n",
    "            grade=\"average\"\n",
    "        elif sum>300 and sum<=450:\n",
    "            grade=\"good\"\n",
    "        elif sum>450 and sum<=475:\n",
    "            grade=\"v.good\"\n",
    "        elif sum>475:\n",
    "            grade=\"exellent\"\n",
    "    l2=[gender,t1,grade]\n",
    "    d1[name]=l2\n",
    "print(d1.keys())\n",
    "print(d1.values())\n",
    "print(d1)"
   ]
  },
  {
   "cell_type": "code",
   "execution_count": 31,
   "id": "d155c8d7",
   "metadata": {},
   "outputs": [
    {
     "name": "stdout",
     "output_type": "stream",
     "text": [
      "enter the number of students2\n",
      "enter the namesh\n",
      "enter the marks45\n",
      "enter the genderf\n",
      "enter the nameff\n",
      "enter the marks56\n",
      "enter the genderb\n",
      "{'Name': ['sh', 'ff'], 'Marks': ['45', '56'], 'gender': ['f', 'b']}\n"
     ]
    }
   ],
   "source": [
    "d={}\n",
    "student_name=[]\n",
    "student_gender=[]\n",
    "student_marks=[]\n",
    "n=int(input(\"enter the number of students\"))\n",
    "for i in range(1,n+1):\n",
    "    name=input(\"enter the name\")\n",
    "    student_name.append(name)\n",
    "    marks=input(\"enter the marks\")\n",
    "    student_marks.append(marks)\n",
    "    gender=input(\"enter the gender\")\n",
    "    student_gender.append(gender)\n",
    "d[\"Name\"]= student_name\n",
    "d[\"Marks\"]=student_marks\n",
    "d[\"gender\"]=student_gender\n",
    "print(d)\n"
   ]
  },
  {
   "cell_type": "markdown",
   "id": "27d12cf4",
   "metadata": {},
   "source": []
  },
  {
   "cell_type": "markdown",
   "id": "dd68841d",
   "metadata": {},
   "source": [
    "#### COUNT THE FREQUENCY OF ELEMENTS OF StRING USING COUNT IN DICT and sort it "
   ]
  },
  {
   "cell_type": "code",
   "execution_count": 90,
   "id": "693e5a8e",
   "metadata": {},
   "outputs": [
    {
     "name": "stdout",
     "output_type": "stream",
     "text": [
      "{'a': 2, ' ': 8, 'q': 1, 'u': 2, 'i': 1, 'c': 1, 'k': 1, 'b': 1, 'r': 2, 'o': 4, 'w': 1, 'n': 1, 'f': 1, 'x': 1, 'j': 1, 'm': 1, 'p': 1, 's': 1, 'v': 1, 'e': 2, 't': 1, 'h': 1, 'l': 1, 'z': 1, 'y': 1, 'd': 1, 'g': 1} \n",
      "\n",
      "27\n"
     ]
    }
   ],
   "source": [
    "d={}\n",
    "D={}\n",
    "x='a quick brown fox jumps over the lazy dog'\n",
    "for i in x:\n",
    "    D[i]=x.count(i)\n",
    "    #if x.count(i)==1:\n",
    "        #d[i]=x.count(i)\n",
    "print(D,'\\n')\n",
    "print(sorted(D))  ## by keys\n",
    "print(sorted(D.items()))\n",
    "print(len(D))"
   ]
  },
  {
   "cell_type": "markdown",
   "id": "09030177",
   "metadata": {},
   "source": [
    "\n",
    "#### fromkeys() method returns a dictionary with the specified keys and the specified value.\n",
    "\n",
    "### Syntax\n",
    "dict.fromkeys(keys, value)\n",
    "\n",
    "keys\tRequired. An iterable specifying the keys of the new dictionary\n",
    "\n",
    "\n",
    "value\tOptional. The value for all keys. Default value is None"
   ]
  },
  {
   "cell_type": "code",
   "execution_count": 95,
   "id": "67aee4c5",
   "metadata": {},
   "outputs": [
    {
     "name": "stdout",
     "output_type": "stream",
     "text": [
      "{'key1': 0, 'key2': 0, 'key3': 0}\n"
     ]
    }
   ],
   "source": [
    "### Create a dictionary with 3 keys, all with the value 0:\n",
    "\n",
    "x = ('key1', 'key2', 'key3')\n",
    "y = 0\n",
    "\n",
    "thisdict = dict.fromkeys(x, y)  ## x can be iterble , y is value\n",
    "\n",
    "print(thisdict)"
   ]
  },
  {
   "cell_type": "code",
   "execution_count": 96,
   "id": "bb54d785",
   "metadata": {},
   "outputs": [
    {
     "name": "stdout",
     "output_type": "stream",
     "text": [
      "{'key1': None, 'key2': None, 'key3': None}\n"
     ]
    }
   ],
   "source": [
    "### without specifying the value:\n",
    "\n",
    "x = ('key1', 'key2', 'key3')\n",
    "\n",
    "thisdict = dict.fromkeys(x)\n",
    "\n",
    "print(thisdict)\n",
    "\n"
   ]
  },
  {
   "cell_type": "code",
   "execution_count": 94,
   "id": "d7d488fb",
   "metadata": {},
   "outputs": [
    {
     "name": "stdout",
     "output_type": "stream",
     "text": [
      "{'a': [1, 2, 3, 4, 5], 'o': [1, 2, 3, 4, 5], 'i': [1, 2, 3, 4, 5], 'e': [1, 2, 3, 4, 5], 'u': [1, 2, 3, 4, 5]}\n"
     ]
    }
   ],
   "source": [
    "li=['a','o','i','e','u']\n",
    "l1=[1,2,3,4,5]\n",
    "new_dict=dict.fromkeys(li,l1)\n",
    "print(new_dict)"
   ]
  },
  {
   "cell_type": "code",
   "execution_count": 97,
   "id": "6e7f3278",
   "metadata": {},
   "outputs": [
    {
     "name": "stdout",
     "output_type": "stream",
     "text": [
      "{'a': 'vowels', 'o': 'vowels', 'i': 'vowels', 'e': 'vowels', 'u': 'vowels'}\n"
     ]
    }
   ],
   "source": [
    "li=['a','o','i','e','u']\n",
    "s=\"vowels\"\n",
    "new_dict=dict.fromkeys(li,s)\n",
    "print(new_dict)"
   ]
  },
  {
   "cell_type": "markdown",
   "id": "37b7fe39",
   "metadata": {},
   "source": [
    "### zipping and unzipping"
   ]
  },
  {
   "cell_type": "markdown",
   "id": "184913be",
   "metadata": {},
   "source": [
    "### zip() : it takes the items in sequence from a number of collections to make a list of tuples, where each tuple contains the items from each collection"
   ]
  },
  {
   "cell_type": "code",
   "execution_count": 31,
   "id": "da422f45",
   "metadata": {},
   "outputs": [
    {
     "name": "stdout",
     "output_type": "stream",
     "text": [
      "[(1, 'a'), (2, 'b'), (3, 'c')]\n"
     ]
    }
   ],
   "source": [
    "a1=(1,2,3)\n",
    "\n",
    "b1=(\"abc\")\n",
    "t=list(zip(a1,b1))\n",
    "print(t)"
   ]
  },
  {
   "cell_type": "code",
   "execution_count": 32,
   "id": "85494185",
   "metadata": {},
   "outputs": [
    {
     "name": "stdout",
     "output_type": "stream",
     "text": [
      "[(1, 'a'), (2, 'b'), (3, 'c')]\n"
     ]
    }
   ],
   "source": [
    "a1=[1,2,3]\n",
    "\n",
    "b1=[\"a\",\"b\",\"c\"]\n",
    "t=list(zip(a1,b1))\n",
    "print(t)"
   ]
  },
  {
   "cell_type": "code",
   "execution_count": 33,
   "id": "7b332e81",
   "metadata": {},
   "outputs": [
    {
     "data": {
      "text/plain": [
       "[(1, 2, 3), ('a', 'b', 'c')]"
      ]
     },
     "execution_count": 33,
     "metadata": {},
     "output_type": "execute_result"
    }
   ],
   "source": [
    "list(zip(*t))"
   ]
  },
  {
   "cell_type": "markdown",
   "id": "e8fd5a40",
   "metadata": {},
   "source": [
    "### unzipping"
   ]
  },
  {
   "cell_type": "code",
   "execution_count": 147,
   "id": "7c8a78f2",
   "metadata": {},
   "outputs": [
    {
     "data": {
      "text/plain": [
       "[(1, 2, 3), ('a', 'b', 'c')]"
      ]
     },
     "execution_count": 147,
     "metadata": {},
     "output_type": "execute_result"
    }
   ],
   "source": [
    "k=list(zip(*t))  ## gives the elements in tuples\n",
    "k"
   ]
  },
  {
   "cell_type": "code",
   "execution_count": 99,
   "id": "76417b51",
   "metadata": {},
   "outputs": [
    {
     "name": "stdout",
     "output_type": "stream",
     "text": [
      "[(1, 'a'), (2, 'b'), (3, 'c')]\n"
     ]
    }
   ],
   "source": [
    "a1=[1,2,3,4]\n",
    "\n",
    "b1=[\"a\",\"b\",\"c\"]  ## zipping finish until it reahes shortest length iterable\n",
    "t=list(zip(a1,b1))\n",
    "print(t)"
   ]
  },
  {
   "cell_type": "code",
   "execution_count": 36,
   "id": "7ed2bd44",
   "metadata": {},
   "outputs": [
    {
     "data": {
      "text/plain": [
       "{'one': 1, 'two': 2}"
      ]
     },
     "execution_count": 36,
     "metadata": {},
     "output_type": "execute_result"
    }
   ],
   "source": [
    "l1=[\"one\",\"two\",\"three\"]\n",
    "l2=[1,2]\n",
    "dict(zip(l1,l2))"
   ]
  },
  {
   "cell_type": "code",
   "execution_count": 142,
   "id": "3662d248",
   "metadata": {},
   "outputs": [
    {
     "name": "stdout",
     "output_type": "stream",
     "text": [
      "{'one': 1, 'two': 2}\n"
     ]
    }
   ],
   "source": [
    "'''Write a Python program to map two lists into a dictionary\n",
    "'''\n",
    "l1=[\"one\",\"two\"]\n",
    "l2=[1,2]\n",
    "d=dict(zip(l1,l2))\n",
    "print(d)"
   ]
  },
  {
   "cell_type": "code",
   "execution_count": 149,
   "id": "28e09f95",
   "metadata": {},
   "outputs": [
    {
     "data": {
      "text/plain": [
       "{'m': 1, 'a': 2, 'd': 3, 'r': 6, 'i': 4}"
      ]
     },
     "execution_count": 149,
     "metadata": {},
     "output_type": "execute_result"
    }
   ],
   "source": [
    "s=\"madrid\"\n",
    "l=[1,2,3,6,4]\n",
    "dict(zip(s,l))"
   ]
  },
  {
   "cell_type": "code",
   "execution_count": 143,
   "id": "6fbb7801",
   "metadata": {},
   "outputs": [
    {
     "name": "stdout",
     "output_type": "stream",
     "text": [
      "Original list is : [('Akshat', 1), ('Bro', 2), ('is', 3), ('Placed', 4)]\n",
      "Modified list is : [('Akshat', 'Bro', 'is', 'Placed'), (1, 2, 3, 4)]\n"
     ]
    }
   ],
   "source": [
    "# initializing list of tuples\n",
    "list1 = [('Akshat', 1), ('Bro', 2), ('is', 3), ('Placed', 4)]\n",
    "  \n",
    "# Printing original list\n",
    "print (\"Original list is : \" + str(list1))\n",
    "  \n",
    "# using zip() and * operator to\n",
    "# perform Unzipping\n",
    "res = list(zip(*list1))\n",
    "      \n",
    "# Printing modified list \n",
    "print (\"Modified list is : \" + str(res))"
   ]
  },
  {
   "cell_type": "code",
   "execution_count": 154,
   "id": "25cdf97b",
   "metadata": {},
   "outputs": [
    {
     "name": "stdout",
     "output_type": "stream",
     "text": [
      "10\n",
      "26\n"
     ]
    },
    {
     "data": {
      "text/plain": [
       "{'10': 'ten', '26': 'twentysix'}"
      ]
     },
     "execution_count": 154,
     "metadata": {},
     "output_type": "execute_result"
    }
   ],
   "source": [
    "#Write a Python program to remove spaces from dictionary keys.\n",
    "d={\"1 0\":\"ten\",\"2 6\":\"twentysix\"}\n",
    "d1={}\n",
    "for i in d:\n",
    "    k=i.replace(\" \",\"\")\n",
    "    print(k)\n",
    "    d1[k]=d[i]\n",
    "d1"
   ]
  },
  {
   "cell_type": "code",
   "execution_count": 163,
   "id": "1a13f875",
   "metadata": {},
   "outputs": [
    {
     "name": "stdout",
     "output_type": "stream",
     "text": [
      "{'1 0': 'ten', '2 6': 'twentysix', 'S001': ('Adina Park', 85), 'S002': ('Leyton Marsh', 98), 'S003': ('Duncan Boyle', 89), 'S004': ('Saim Richards', 92)}\n"
     ]
    }
   ],
   "source": [
    "'''Write a Python program to convert more than one list to nested dictionary. Go to the editor\n",
    "Original strings:\n",
    "['S001', 'S002', 'S003', 'S004']\n",
    "['Adina Park', 'Leyton Marsh', 'Duncan Boyle', 'Saim Richards']\n",
    "[85, 98, 89, 92]\n",
    "Nested dictionary:\n",
    "[{'S001': {'Adina Park': 85}}, {'S002': {'Leyton Marsh': 98}}, {'S003': {'Duncan Boyle': 89}},\\\n",
    "{'S004': {'Saim Richards': 92}}]\n",
    "'''\n"
   ]
  },
  {
   "cell_type": "code",
   "execution_count": 175,
   "id": "fbf6b8de",
   "metadata": {},
   "outputs": [
    {
     "name": "stdout",
     "output_type": "stream",
     "text": [
      "{'S001': ('Adina Park', 85)}\n",
      "('Adina Park', 85)\n",
      "{'S002': ('Leyton Marsh', 98)}\n",
      "('Leyton Marsh', 98)\n",
      "{'S003': ('Duncan Boyle', 89)}\n",
      "('Duncan Boyle', 89)\n",
      "{'S004': ('Saim Richards', 92)}\n",
      "('Saim Richards', 92)\n",
      "[{'Adina Park': 85}, {'Leyton Marsh': 98}, {'Duncan Boyle': 89}, {'Saim Richards': 92}]\n",
      "['S001', 'S002', 'S003', 'S004']\n"
     ]
    },
    {
     "data": {
      "text/plain": [
       "[{'S001': {'Adina Park': 85}},\n",
       " {'S002': {'Leyton Marsh': 98}},\n",
       " {'S003': {'Duncan Boyle': 89}},\n",
       " {'S004': {'Saim Richards': 92}}]"
      ]
     },
     "execution_count": 175,
     "metadata": {},
     "output_type": "execute_result"
    }
   ],
   "source": [
    "l1=['S001', 'S002', 'S003', 'S004']\n",
    "l2=['Adina Park', 'Leyton Marsh', 'Duncan Boyle', 'Saim Richards']\n",
    "l3=[85, 98, 89, 92]\n",
    "k=list(zip(l1,l2,l3))\n",
    "#print(k)\n",
    "l=[]\n",
    "for i in k:\n",
    "    d={}\n",
    "    d[i[0]]=tuple(i[1:])\n",
    "    print(d)\n",
    "    d1={}\n",
    "    print(d[i[0]])\n",
    "    d1[d[i[0]][0]]=d[i[0]][1]\n",
    "    l.append(d1)\n",
    "print(l)\n",
    "print(l1)\n",
    "\n",
    "j=0\n",
    "lfinal=[]\n",
    "for k in l1:\n",
    "    dmain={} \n",
    "    dmain[k]=l[j]\n",
    "    j=j+1\n",
    "    lfinal.append(dmain)\n",
    "lfinal"
   ]
  },
  {
   "cell_type": "code",
   "execution_count": 162,
   "id": "0ce6056b",
   "metadata": {},
   "outputs": [
    {
     "name": "stdout",
     "output_type": "stream",
     "text": [
      "{'n1': [1, 2, 3], 'n2': [1, 2, 5], 'n3': [2, 3, 4]}\n"
     ]
    }
   ],
   "source": [
    "'''Write a Python program to sort a list alphabetically in a dictionary.\n",
    "num = {'n1': [2, 3, 1], 'n2': [5, 1, 2], 'n3': [3, 2, 4]}\n",
    "'''\n",
    "num = {'n1': [2, 3, 1], 'n2': [5, 1, 2], 'n3': [3, 2, 4]}\n",
    "sorted_dict = {x: sorted(y) for x, y in num.items()}\n",
    "print(sorted_dict)\n"
   ]
  },
  {
   "cell_type": "code",
   "execution_count": 37,
   "id": "aace534f",
   "metadata": {},
   "outputs": [
    {
     "name": "stdout",
     "output_type": "stream",
     "text": [
      "[567, 837, 45]\n"
     ]
    }
   ],
   "source": [
    "#Write a Python program to remove duplicates from Dictionary.\n",
    "d={\"abc\":567,\"bss\":837,\"hdns\":45,\"hndn\":837}\n",
    "unique=[]\n",
    "for i in d:\n",
    "    if d[i] not in unique:\n",
    "        unique.append(d[i])\n",
    "print(unique)"
   ]
  },
  {
   "cell_type": "code",
   "execution_count": null,
   "id": "ecf9bf25",
   "metadata": {},
   "outputs": [],
   "source": [
    "#Write a Python program to get the maximum and minimum value in a dictionary\n",
    "d={\"abc\":567,\"bss\":837,\"hdns\":45}\n",
    "l=[]\n",
    "for i in d:\n",
    "    l.append(d[i])\n",
    "print(max(l))"
   ]
  },
  {
   "cell_type": "markdown",
   "id": "88eb4fc0",
   "metadata": {},
   "source": [
    "### wap to display l as l1 and l2 are given \n",
    "l1=[\"python\",\"professional\"]\n",
    "l2=[\"core\",\"course\"]\n",
    "l=[\"python core\",\"professional course\"]\n"
   ]
  },
  {
   "cell_type": "code",
   "execution_count": 103,
   "id": "fbe0cfb1",
   "metadata": {},
   "outputs": [
    {
     "data": {
      "text/plain": [
       "[('python', 'core'), ('professional', 'course')]"
      ]
     },
     "execution_count": 103,
     "metadata": {},
     "output_type": "execute_result"
    }
   ],
   "source": [
    "l1=[\"python\",\"professional\"]\n",
    "l2=[\"core\",\"course\"]\n",
    "l=list(zip(l1,l2))\n",
    "l"
   ]
  },
  {
   "cell_type": "code",
   "execution_count": 108,
   "id": "993db8d8",
   "metadata": {},
   "outputs": [
    {
     "name": "stdout",
     "output_type": "stream",
     "text": [
      "[' python core', ' professional course']\n"
     ]
    }
   ],
   "source": [
    "ll=[]\n",
    "for i in l:\n",
    "    s=\"\"\n",
    "    for j in i:\n",
    "        s=s+\" \"+j\n",
    "    ll.append(s)\n",
    "print(ll)\n",
    "        "
   ]
  },
  {
   "cell_type": "code",
   "execution_count": null,
   "id": "58dfcfc2",
   "metadata": {},
   "outputs": [],
   "source": [
    "d"
   ]
  },
  {
   "cell_type": "markdown",
   "id": "e5312203",
   "metadata": {},
   "source": [
    "### Dictionary Comprehension\n",
    "Like List Comprehension, Python allows dictionary comprehensions. We can create dictionaries\n",
    "using simple expressions.\n",
    "\n",
    "\n",
    "\n",
    "A dictionary comprehension takes the form {key: value for (key, value)\n",
    "in iterable}\n"
   ]
  },
  {
   "cell_type": "code",
   "execution_count": 48,
   "id": "e38533f7",
   "metadata": {},
   "outputs": [
    {
     "name": "stdout",
     "output_type": "stream",
     "text": [
      "enter the number10\n",
      "{1: 1, 2: 4, 3: 9, 4: 16, 5: 25, 6: 36, 7: 49, 8: 64, 9: 81, 10: 100}\n"
     ]
    }
   ],
   "source": [
    "### without dict comprenehion\n",
    "'''Write a Python script to generate and print a dictionary that contains a number (between 1 and n) \\\n",
    "in the form (x, x*x). \n",
    "Sample Dictionary ( n = 5) :\n",
    "Expected Output : {1: 1, 2: 4, 3: 9, 4: 16, 5: 25}\n",
    "'''\n",
    "d={}\n",
    "num=int(input(\"enter the number\"))\n",
    "for i in range(1,num+1):\n",
    "    d[i]=i*i\n",
    "print(d)"
   ]
  },
  {
   "cell_type": "code",
   "execution_count": 48,
   "id": "38803f1a",
   "metadata": {},
   "outputs": [
    {
     "name": "stdout",
     "output_type": "stream",
     "text": [
      "{1: 1, 2: 4, 3: 9, 4: 16, 5: 25, 6: 36, 7: 49, 8: 64, 9: 81}\n"
     ]
    }
   ],
   "source": [
    "d={}\n",
    "for i in range(1,10):\n",
    "    d[i]=i*i\n",
    "print(d)\n",
    "    "
   ]
  },
  {
   "cell_type": "code",
   "execution_count": 50,
   "id": "06d66c10",
   "metadata": {},
   "outputs": [
    {
     "data": {
      "text/plain": [
       "[1, 4, 9, 16, 25, 36, 49, 64, 81]"
      ]
     },
     "execution_count": 50,
     "metadata": {},
     "output_type": "execute_result"
    }
   ],
   "source": [
    "{i: i*i for i in range(1,10)}"
   ]
  },
  {
   "cell_type": "code",
   "execution_count": 56,
   "id": "f9e4eaff",
   "metadata": {},
   "outputs": [
    {
     "data": {
      "text/plain": [
       "{2: 'even', 4: 'even', 6: 'even', 8: 'even', 10: 'even'}"
      ]
     },
     "execution_count": 56,
     "metadata": {},
     "output_type": "execute_result"
    }
   ],
   "source": [
    "{i:\"even\"  for i in range(1,11) if i%2==0}"
   ]
  },
  {
   "cell_type": "code",
   "execution_count": 33,
   "id": "6738384c",
   "metadata": {},
   "outputs": [
    {
     "name": "stdout",
     "output_type": "stream",
     "text": [
      "{1: 1, 2: 4, 3: 9, 4: 16, 5: 25, 6: 36, 7: 49, 8: 64, 9: 81, 10: 100}\n"
     ]
    }
   ],
   "source": [
    "### create a dictionary as  {1:1.2:4,3:9......10:100} usig dict comprehension\n",
    "d={i:i*i for i in range(1,11)}\n",
    "print(d)"
   ]
  },
  {
   "cell_type": "code",
   "execution_count": 34,
   "id": "fece64df",
   "metadata": {},
   "outputs": [
    {
     "name": "stdout",
     "output_type": "stream",
     "text": [
      "[1, 4, 9, 16, 25, 36, 49, 64, 81, 100]\n"
     ]
    }
   ],
   "source": [
    "### create a list usig list comprehension\n",
    "d=[i*i for i in range(1,11)]\n",
    "print(d)"
   ]
  },
  {
   "cell_type": "code",
   "execution_count": 22,
   "id": "244e40a3",
   "metadata": {},
   "outputs": [
    {
     "name": "stdout",
     "output_type": "stream",
     "text": [
      "{1: 1, 2: 4, 3: 27, 4: 16, 5: 125, 6: 36, 7: 343, 8: 64, 9: 729, 10: 100, 11: 1331, 12: 144, 13: 2197, 14: 196, 15: 3375, 16: 256, 17: 4913, 18: 324, 19: 6859}\n"
     ]
    }
   ],
   "source": [
    "## Wap to print the square of even number and cube of odd  number if range of 1-20 using dict comprehension\n",
    "\n",
    "d={i:i**2 if i%2==0 else i**3 for i in range(1,20)}\n",
    "print(d)"
   ]
  },
  {
   "cell_type": "code",
   "execution_count": 58,
   "id": "4feff165",
   "metadata": {},
   "outputs": [],
   "source": [
    "d = {\"Aman\":29,\"Ramesh\":44,\"Golu\":56,\"Raju\":45,\"Molu\":28}"
   ]
  },
  {
   "cell_type": "code",
   "execution_count": 60,
   "id": "cee9aa2e",
   "metadata": {},
   "outputs": [
    {
     "data": {
      "text/plain": [
       "{'Aman': 'young ',\n",
       " 'Ramesh': 'old',\n",
       " 'Golu': 'old',\n",
       " 'Raju': 'old',\n",
       " 'Molu': 'young '}"
      ]
     },
     "execution_count": 60,
     "metadata": {},
     "output_type": "execute_result"
    }
   ],
   "source": [
    "{i :\"young \"if d[i]<40 else \"old\" for i in d}"
   ]
  },
  {
   "cell_type": "code",
   "execution_count": 23,
   "id": "43c0b8af",
   "metadata": {},
   "outputs": [
    {
     "name": "stdout",
     "output_type": "stream",
     "text": [
      "{'Aman': 'young', 'Ramesh': 'old', 'Golu': 'old', 'Raju': 'old', 'Molu': 'young'}\n"
     ]
    }
   ],
   "source": [
    "'''d = {\"Aman\":29,\"Ramesh\":44,\"Golu\":56,\"Raju\":45,\"Molu\":28}\n",
    "WAp to Print young if the age of the person is less than 40 and old if it is greater than 40 using dict comprehension.\n",
    "'''\n",
    "d={\"Aman\":29,\"Ramesh\":44,\"Golu\":56,\"Raju\":45,\"Molu\":28}\n",
    "d1={key:\"young\" if d[key]<40 else \"old\" for key in d}\n",
    "print(d1)"
   ]
  },
  {
   "cell_type": "code",
   "execution_count": 37,
   "id": "662b7272",
   "metadata": {},
   "outputs": [
    {
     "name": "stdout",
     "output_type": "stream",
     "text": [
      "{'C': 'ccc', 'O': 'ooo', 'D': 'ddd', 'I': 'iii', 'N': 'nnn', 'G': 'ggg'}\n"
     ]
    }
   ],
   "source": [
    "sDict = {x.upper(): x*3 for x in 'coding'}\n",
    "print (sDict)"
   ]
  },
  {
   "cell_type": "code",
   "execution_count": 25,
   "id": "2d2d3b93",
   "metadata": {},
   "outputs": [
    {
     "data": {
      "text/plain": [
       "{'a': 1, 'b': 2, 'c': 3, 'd': 4, 'e': 5}"
      ]
     },
     "execution_count": 25,
     "metadata": {},
     "output_type": "execute_result"
    }
   ],
   "source": [
    "# Lists to represent keys and values\n",
    "keys = ['a','b','c','d','e']\n",
    "values = [1,2,3,4,5]\n",
    "# this line shows dict comprehension here\n",
    "myDict = { k:v for (k,v) in zip(keys, values)}\n",
    "myDict"
   ]
  },
  {
   "cell_type": "code",
   "execution_count": 39,
   "id": "99e5cea5",
   "metadata": {},
   "outputs": [
    {
     "name": "stdout",
     "output_type": "stream",
     "text": [
      "[('five', 5), ('one', 1), ('two', 2)]\n"
     ]
    }
   ],
   "source": [
    "#wap to sort the dictionary by keys\n",
    "d={\"one\":1,\"five\":5,\"two\":2}\n",
    "l=sorted(d.items(),reverse=False)\n",
    "print(l)"
   ]
  },
  {
   "cell_type": "code",
   "execution_count": 41,
   "id": "db032a74",
   "metadata": {},
   "outputs": [
    {
     "name": "stdout",
     "output_type": "stream",
     "text": [
      "[1, 2, 5]\n"
     ]
    }
   ],
   "source": [
    "##wap to sort the dictionary values\n",
    "d={\"one\":1,\"five\":5,\"two\":2}\n",
    "l=sorted(d.values())\n",
    "print(l)"
   ]
  },
  {
   "cell_type": "code",
   "execution_count": 42,
   "id": "361fa4db",
   "metadata": {},
   "outputs": [
    {
     "name": "stdout",
     "output_type": "stream",
     "text": [
      "[('one', 1), ('two', 2), ('five', 5)]\n"
     ]
    }
   ],
   "source": [
    "d={\"one\":1,\"five\":5,\"two\":2}\n",
    "#sorted_dt = {key: value for key, value in sorted(dt.items(), key=lambda item: item[1])}\n",
    "sorted_dt=sorted(d.items(), key=lambda item: item[1])\n",
    "print(sorted_dt)"
   ]
  },
  {
   "cell_type": "code",
   "execution_count": 43,
   "id": "0bd2eaf8",
   "metadata": {},
   "outputs": [
    {
     "name": "stdout",
     "output_type": "stream",
     "text": [
      "[('five', 5), ('one', 1), ('two', 2)]\n"
     ]
    }
   ],
   "source": [
    "###wap to sort the dictionary by items\n",
    "d={\"one\":1,\"five\":5,\"two\":2}\n",
    "l=sorted(d.items())\n",
    "print(l)"
   ]
  },
  {
   "cell_type": "code",
   "execution_count": 44,
   "id": "3817b066",
   "metadata": {},
   "outputs": [
    {
     "name": "stdout",
     "output_type": "stream",
     "text": [
      "Dictionary:  {'A': 1, 'Bd': 3, 'BCD': 4, 'AB': 2}\n",
      "Sorted Dictionary by value:  {'A': 1, 'AB': 2, 'BCD': 4, 'Bd': 3}\n"
     ]
    }
   ],
   "source": [
    "#Write a Python script to sort (ascending and descending) a dictionary by  keys\n",
    "#this d.iems( returns list of tuple pairs thats why we use item[0 means based on 0th index i.e key])\n",
    "d={\"one\":1,\"three\":3,\"four\":4,\"two\":2}\n",
    "dictionary = { 'A':1,'Bd':3,'BCD':4,'AB':2 }\n",
    "print(\"Dictionary: \", dictionary)\n",
    "sort_dictionary= dict(sorted(dictionary.items(), key=lambda item:item[0]))\n",
    "print(\"Sorted Dictionary by value: \", sort_dictionary)"
   ]
  },
  {
   "cell_type": "code",
   "execution_count": null,
   "id": "8001fffd",
   "metadata": {},
   "outputs": [],
   "source": [
    "# Write a Python script to sort (ascending and descending) a dictionary by value\n",
    "d={\"one\":1,\"three\":3,\"four\":4,\"two\":2}\n",
    "dictionary = { 'A':1,'ABC':3,'ABCD':4,'AB':2 }\n",
    "print(\"Dictionary: \", dictionary)\n",
    "sort_dictionary= dict(sorted(dictionary.items(), key=lambda item:item[1]))\n",
    "print(\"Sorted Dictionary by value: \", sort_dictionary)"
   ]
  },
  {
   "cell_type": "code",
   "execution_count": 45,
   "id": "bceca7e0",
   "metadata": {},
   "outputs": [
    {
     "name": "stdout",
     "output_type": "stream",
     "text": [
      "{0: 10, 1: 20, 2: 30}\n"
     ]
    }
   ],
   "source": [
    "'''Write a Python script to add a key to a dictionary. \n",
    "\n",
    "Sample Dictionary : {0: 10, 1: 20}\n",
    "Expected Result : {0: 10, 1: 20, 2: 30}'''\n",
    "d={0: 10, 1: 20}\n",
    "d[2]=30\n",
    "print(d)"
   ]
  },
  {
   "cell_type": "code",
   "execution_count": 46,
   "id": "d0d4e8af",
   "metadata": {},
   "outputs": [
    {
     "name": "stdout",
     "output_type": "stream",
     "text": [
      "{1: 10, 2: 30, 4: 40}\n",
      "{1: 10, 2: 30, 4: 40, 5: 50, 6: 60}\n"
     ]
    }
   ],
   "source": [
    "'''Write a Python script to concatenate following dictionaries to create a new one. \n",
    "\n",
    "Sample Dictionary :\n",
    "dic1={1:10, 2:20}\n",
    "dic2={2:30, 4:40}\n",
    "dic3={5:50,6:60}\n",
    "Expected Result : {1: 10, 2: 20, 3: 30, 4: 40, 5: 50, 6: 60}'''\n",
    "\n",
    "dic1={1:10, 2:20}\n",
    "dic2={2:30, 4:40}\n",
    "dic3={5:50,6:60}\n",
    "d={}\n",
    "dic1.update(dic2)\n",
    "print(dic1)\n",
    "dic1.update(dic3)\n",
    "print(dic1)"
   ]
  },
  {
   "cell_type": "code",
   "execution_count": 109,
   "id": "780f61c8",
   "metadata": {},
   "outputs": [
    {
     "ename": "KeyError",
     "evalue": "'hi'",
     "output_type": "error",
     "traceback": [
      "\u001b[1;31m---------------------------------------------------------------------------\u001b[0m",
      "\u001b[1;31mKeyError\u001b[0m                                  Traceback (most recent call last)",
      "Input \u001b[1;32mIn [109]\u001b[0m, in \u001b[0;36m<cell line: 4>\u001b[1;34m()\u001b[0m\n\u001b[0;32m      1\u001b[0m \u001b[38;5;66;03m#Write a Python script to check whether a given key already exists in a dictionary.\u001b[39;00m\n\u001b[0;32m      2\u001b[0m \u001b[38;5;66;03m## if key is not present then it raises the exception error else not \u001b[39;00m\n\u001b[0;32m      3\u001b[0m d\u001b[38;5;241m=\u001b[39m{\u001b[38;5;241m1\u001b[39m:\u001b[38;5;124m\"\u001b[39m\u001b[38;5;124mone\u001b[39m\u001b[38;5;124m\"\u001b[39m,\u001b[38;5;241m2\u001b[39m:\u001b[38;5;124m\"\u001b[39m\u001b[38;5;124mtwo\u001b[39m\u001b[38;5;124m\"\u001b[39m,\u001b[38;5;241m3\u001b[39m:\u001b[38;5;124m\"\u001b[39m\u001b[38;5;124mthree\u001b[39m\u001b[38;5;124m\"\u001b[39m}\n\u001b[1;32m----> 4\u001b[0m \u001b[43md\u001b[49m\u001b[38;5;241;43m.\u001b[39;49m\u001b[43mpop\u001b[49m\u001b[43m(\u001b[49m\u001b[38;5;124;43m\"\u001b[39;49m\u001b[38;5;124;43mhi\u001b[39;49m\u001b[38;5;124;43m\"\u001b[39;49m\u001b[43m)\u001b[49m\n",
      "\u001b[1;31mKeyError\u001b[0m: 'hi'"
     ]
    }
   ],
   "source": [
    "#Write a Python script to check whether a given key already exists in a dictionary.\n",
    "## if key is not present then it raises the exception error else not \n",
    "d={1:\"one\",2:\"two\",3:\"three\"}\n",
    "d.pop(\"hi\")\n"
   ]
  },
  {
   "cell_type": "code",
   "execution_count": null,
   "id": "938020da",
   "metadata": {},
   "outputs": [],
   "source": [
    "#Write a Python program to iterate over dictionaries using for loops. by default it takes keys\n",
    "d={1:\"one\",2:\"two\",3:\"three\"}\n",
    "for i in d:\n",
    "    print(i)\n"
   ]
  },
  {
   "cell_type": "code",
   "execution_count": 47,
   "id": "3d2a6601",
   "metadata": {},
   "outputs": [
    {
     "name": "stdout",
     "output_type": "stream",
     "text": [
      "enter the number4\n",
      "{1: 1, 2: 4, 3: 9, 4: 16}\n"
     ]
    }
   ],
   "source": [
    "'''Write a Python script to generate and print a dictionary that contains a number (between 1 and n) \\\n",
    "in the form (x, x*x). \n",
    "Sample Dictionary ( n = 5) :\n",
    "Expected Output : {1: 1, 2: 4, 3: 9, 4: 16, 5: 25}\n",
    "'''\n",
    "d={}\n",
    "num=int(input(\"enter the number\"))\n",
    "for i in range(1,num+1):\n",
    "    d[i]=i*i\n",
    "print(d)\n",
    "    "
   ]
  },
  {
   "cell_type": "code",
   "execution_count": 50,
   "id": "bab7a8db",
   "metadata": {},
   "outputs": [
    {
     "name": "stdout",
     "output_type": "stream",
     "text": [
      "{'a': 100, 'b': 200, 'x': 300, 'y': 200}\n"
     ]
    }
   ],
   "source": [
    "#Write a Python script to merge two Python dictionaries.\n",
    "d1 = {'a': 100, 'b': 200}\n",
    "d2 = {'x': 300, 'y': 200}\n",
    "d = d1.copy()\n",
    "d.update(d2)\n",
    "print(d)"
   ]
  },
  {
   "cell_type": "code",
   "execution_count": 54,
   "id": "879aea4b",
   "metadata": {},
   "outputs": [
    {
     "name": "stdout",
     "output_type": "stream",
     "text": [
      "dict_values([100, -54, 247])\n",
      "293\n"
     ]
    }
   ],
   "source": [
    "#Write a Python program to sum all the items in a dictionary.\n",
    "sum=0\n",
    "my_dict = {'data1':100,'data2':-54,'data3':247}\n",
    "print(my_dict.values())\n",
    "for i in my_dict.values():\n",
    "    sum=sum+i\n",
    "print(sum)\n"
   ]
  },
  {
   "cell_type": "code",
   "execution_count": 55,
   "id": "5de466ea",
   "metadata": {},
   "outputs": [
    {
     "name": "stdout",
     "output_type": "stream",
     "text": [
      "6\n"
     ]
    }
   ],
   "source": [
    "#Write a Python program to multiply all the items in a dictionary\n",
    "\n",
    "D={\"one\":1,\"two\":2,\"three\":3}\n",
    "mul=1\n",
    "for i in D:\n",
    "    mul=mul*D[i]\n",
    "print(mul)"
   ]
  },
  {
   "cell_type": "code",
   "execution_count": 56,
   "id": "ec2c1642",
   "metadata": {},
   "outputs": [
    {
     "name": "stdout",
     "output_type": "stream",
     "text": [
      "enter the key3\n",
      "{'one': 1, 'two': 2, 'three': 3}\n"
     ]
    }
   ],
   "source": [
    "#Write a Python program to multiply all the items in a dictionary\n",
    "\n",
    "D={\"one\":1,\"two\":2,\"three\":3}\n",
    "key=input(\"enter the key\")\n",
    "if key in D.keys():\n",
    "    x=D.pop(key)\n",
    "    print(x)\n",
    "print(D)"
   ]
  },
  {
   "cell_type": "code",
   "execution_count": 57,
   "id": "f06a0d96",
   "metadata": {},
   "outputs": [
    {
     "name": "stdout",
     "output_type": "stream",
     "text": [
      "{'one': 1, 'two': 2}\n"
     ]
    }
   ],
   "source": [
    "'''Write a Python program to map two lists into a dictionary\n",
    "'''\n",
    "l1=[\"one\",\"two\"]\n",
    "l2=[1,2]\n",
    "d=dict(zip(l1,l2))\n",
    "print(d)"
   ]
  },
  {
   "cell_type": "code",
   "execution_count": 58,
   "id": "244fdf65",
   "metadata": {},
   "outputs": [
    {
     "name": "stdout",
     "output_type": "stream",
     "text": [
      "837\n"
     ]
    }
   ],
   "source": [
    "#Write a Python program to get the maximum and minimum value in a dictionary\n",
    "d={\"abc\":567,\"bss\":837,\"hdns\":45}\n",
    "l=[]\n",
    "for i in d:\n",
    "    l.append(d[i])\n",
    "print(max(l))"
   ]
  },
  {
   "cell_type": "code",
   "execution_count": null,
   "id": "3c58fc59",
   "metadata": {},
   "outputs": [],
   "source": [
    "#Write a Python program to remove duplicates from Dictionary.\n",
    "d={\"abc\":567,\"bss\":837,\"hdns\":45,\"hndn\":837}\n",
    "unique=[]\n",
    "for i in d:\n",
    "    if d[i] not in unique:\n",
    "        unique.append(d[i])\n",
    "print(unique)\n"
   ]
  },
  {
   "cell_type": "code",
   "execution_count": 59,
   "id": "c97574b1",
   "metadata": {},
   "outputs": [
    {
     "name": "stdout",
     "output_type": "stream",
     "text": [
      "a\n",
      "{'a': 400}\n",
      "b\n",
      "{'a': 400, 'b': 400}\n",
      "{'a': 400, 'b': 400, 'c': 300}\n"
     ]
    }
   ],
   "source": [
    "'''Write a Python program to combine two dictionary adding values for common keys. \n",
    "d1 = {'a': 100, 'b': 200, 'c':300}\n",
    "d2 = {'a': 300, 'b': 200, 'd':400}\n",
    "Sample output: Counter({'a': 400, 'b': 400, 'd': 400, 'c': 300})\n",
    "'''\n",
    "d1 = {'a': 100, 'b': 200, 'c':300}\n",
    "d2 = {'a': 300, 'b': 200, 'd':400}\n",
    "d={}\n",
    "for i in d1:\n",
    "    if i in d2.keys():\n",
    "        print(i)\n",
    "        s=d1[i]+d2[i]\n",
    "        d[i]=s\n",
    "        print(d)\n",
    "for i in d1:\n",
    "    if i not in d:\n",
    "        d[i]=d1[i]\n",
    "        \n",
    "    \n",
    "print(d)\n",
    "        \n",
    "\n",
    "    "
   ]
  },
  {
   "cell_type": "markdown",
   "id": "f51e2ded",
   "metadata": {},
   "source": [
    "## count"
   ]
  },
  {
   "cell_type": "code",
   "execution_count": 28,
   "id": "746bb81d",
   "metadata": {},
   "outputs": [
    {
     "name": "stdout",
     "output_type": "stream",
     "text": [
      "{'q': 1, 'i': 1, 'c': 1, 'k': 1, 'b': 1, 'w': 1, 'n': 1, 'f': 1, 'x': 1, 'j': 1, 'm': 1, 'p': 1, 's': 1, 'v': 1, 'e': 1, 'l': 1, 'z': 1, 'y': 1, 'd': 1, 'g': 1} \n",
      "\n"
     ]
    }
   ],
   "source": [
    "d={}\n",
    "D={}\n",
    "x='a quick brown fox jumps over a lazy dog'\n",
    "for i in x:\n",
    "    D[i]=x.count(i)\n",
    "    if x.count(i)==1:\n",
    "        d[i]=x.count(i)\n",
    "print(d,'\\n')\n",
    "\n",
    "# print(D)"
   ]
  },
  {
   "cell_type": "code",
   "execution_count": 61,
   "id": "a1849583",
   "metadata": {},
   "outputs": [
    {
     "name": "stdout",
     "output_type": "stream",
     "text": [
      "{'n1': [1, 2, 3], 'n2': [1, 2, 5], 'n3': [2, 3, 4]}\n"
     ]
    }
   ],
   "source": [
    "'''Write a Python program to sort a list alphabetically in a dictionary.\n",
    "num = {'n1': [2, 3, 1], 'n2': [5, 1, 2], 'n3': [3, 2, 4]}\n",
    "'''\n",
    "num = {'n1': [2, 3, 1], 'n2': [5, 1, 2], 'n3': [3, 2, 4]}\n",
    "sorted_dict = {x: sorted(y) for x, y in num.items()}\n",
    "print(sorted_dict)\n"
   ]
  },
  {
   "cell_type": "code",
   "execution_count": null,
   "id": "d3304c8f",
   "metadata": {},
   "outputs": [],
   "source": [
    "'''Write a Python program to sort Counter by value.\n",
    "Sample data : {'Math':81, 'Physics':83, 'Chemistry':87}\n",
    "Expected data: [('Chemistry', 87), ('Physics', 83), ('Math', 81)]\n",
    "'''\n",
    "d={'Math':81, 'Physics':83, 'Chemistry':87}\n",
    "l=sorted(d.items(),key=lambda item:item[1],reverse=True)\n",
    "print(l)"
   ]
  },
  {
   "cell_type": "code",
   "execution_count": 62,
   "id": "44bb0563",
   "metadata": {},
   "outputs": [
    {
     "data": {
      "text/plain": [
       "\"Write a Python program to split a given dictionary of lists into list of dictionaries. \\nOriginal dictionary of lists:\\n{'Science': [88, 89, 62, 95], 'Language': [77, 78, 84, 80]}\\nSplit said dictionary of lists into list of dictionaries:\\n[{'Science': 88, 'Language': 77}, {'Science': 89, 'Language': 78}, {'Science': 62, 'Language': 84}, {'Science': 95, 'Language': 80}]\""
      ]
     },
     "execution_count": 62,
     "metadata": {},
     "output_type": "execute_result"
    }
   ],
   "source": [
    " \n",
    "'''Write a Python program to split a given dictionary of lists into list of dictionaries. \n",
    "Original dictionary of lists:\n",
    "{'Science': [88, 89, 62, 95], 'Language': [77, 78, 84, 80]}\n",
    "Split said dictionary of lists into list of dictionaries:\n",
    "[{'Science': 88, 'Language': 77}, {'Science': 89, 'Language': 78}, \\\n",
    "{'Science': 62, 'Language': 84}, {'Science': 95, 'Language': 80}]'''"
   ]
  },
  {
   "cell_type": "code",
   "execution_count": 63,
   "id": "2fa07946",
   "metadata": {},
   "outputs": [
    {
     "name": "stdout",
     "output_type": "stream",
     "text": [
      "{'C1': [], 'C2': [], 'C3': []}\n"
     ]
    }
   ],
   "source": [
    "'''A Python Dictionary contains List as value. Write a Python program to clear the list values in the said dictionary. \n",
    "Original Dictionary:\n",
    "{'C1': [10, 20, 30], 'C2': [20, 30, 40], 'C3': [12, 34]}\n",
    "Clear the list values in the said dictionary:\n",
    "{'C1': [], 'C2': [], 'C3': []}\n",
    "'''\n",
    "d1={'C1': [10, 20, 30], 'C2': [20, 30, 40], 'C3': [12, 34]}\n",
    "for key in d1:\n",
    "    d1[key].clear()\n",
    "print(d1)"
   ]
  },
  {
   "cell_type": "markdown",
   "id": "3d35cf29",
   "metadata": {},
   "source": [
    "'''Write a Python program to remove a specified dictionary from a given list. \n",
    "Original list of dictionary:\n",
    "[{'id': '#FF0000', 'color': 'Red'}, {'id': '#800000', 'color': 'Maroon'}, \\\n",
    "{'id': '#FFFF00', 'color': 'Yellow'}, {'id': '#808000', 'color': 'Olive'}]\n",
    "Remove id #FF0000 from the said list of dictionary:\n",
    "[{'id': '#800000', 'color': 'Maroon'}, {'id': '#FFFF00', 'color': 'Yellow'}, \\\n",
    "{'id': '#808000', 'color': 'Olive'}]\n",
    "'''"
   ]
  },
  {
   "cell_type": "code",
   "execution_count": 127,
   "id": "48e524b0",
   "metadata": {},
   "outputs": [
    {
     "name": "stdout",
     "output_type": "stream",
     "text": [
      "{'id': '#FF0000', 'color': 'Red'}\n",
      "{'id': '#FFFF00', 'color': 'Yellow'}\n",
      "{'id': '#808000', 'color': 'Olive'}\n"
     ]
    },
    {
     "data": {
      "text/plain": [
       "[{'id': '#800000', 'color': 'Maroon'},\n",
       " {'id': '#FFFF00', 'color': 'Yellow'},\n",
       " {'id': '#808000', 'color': 'Olive'}]"
      ]
     },
     "execution_count": 127,
     "metadata": {},
     "output_type": "execute_result"
    }
   ],
   "source": [
    "l=[{'id': '#FF0000', 'color': 'Red'}, {'id': '#800000', 'color': 'Maroon'}, \\\n",
    "{'id': '#FFFF00', 'color': 'Yellow'}, {'id': '#808000', 'color': 'Olive'}]\n",
    "for i in l:\n",
    "    print(i)\n",
    "    if i[\"id\"]==\"#FF0000\":\n",
    "        ind=l.index(i)\n",
    "        l.pop(ind)\n",
    "l\n",
    "\n",
    "        "
   ]
  },
  {
   "cell_type": "code",
   "execution_count": 130,
   "id": "58ce7ebf",
   "metadata": {},
   "outputs": [
    {
     "name": "stdout",
     "output_type": "stream",
     "text": [
      "{'Math': [88, 89, 90], 'Physics': [92, 94, 89], 'Chemistry': [90, 87, 93]}\n"
     ]
    }
   ],
   "source": [
    "'''A Python Dictionary contains List as value. Write a Python program to update the list values in the said dictionary. \n",
    "{'Math': [88, 89, 90], 'Physics': [92, 94, 87], 'Chemistry': [90, 87, 93]}\n",
    "Update the list values of the said dictionary:\n",
    "given :  {'Math': [89, 90, 91], 'Physics': [90, 92, 87], 'Chemistry': [90, 87, 93]}\n",
    "'''\n",
    "d={'Math': [88, 89, 90], 'Physics': [92, 94, 89], 'Chemistry': [90, 87, 93]}\n",
    "for key in d:\n",
    "    if key=='Physics':\n",
    "        #print(key)\n",
    "        d[key][0]=92\n",
    "        d[key][1]=94\n",
    "    elif key==\"Math\":\n",
    "        d[key][0]=88\n",
    "        d[key][1]=89\n",
    "        d[key][2]=90\n",
    "print(d)"
   ]
  },
  {
   "cell_type": "markdown",
   "id": "10ef568b",
   "metadata": {},
   "source": [
    "'''Wap to convert dictionary of list to list of dictionaries \n",
    "d = {1:[1,2],2:[3,4],3:[5,6]}\n",
    "output\n",
    "l = [{1:[1,2]},{2:[3,4]},{3:[5,6]}]\n",
    "'''"
   ]
  },
  {
   "cell_type": "code",
   "execution_count": 140,
   "id": "e2740022",
   "metadata": {},
   "outputs": [
    {
     "name": "stdout",
     "output_type": "stream",
     "text": [
      "dict_items([(1, [1, 2]), (2, [3, 4]), (3, [5, 6])])\n",
      "(1, [1, 2])\n",
      "(2, [3, 4])\n",
      "(3, [5, 6])\n"
     ]
    },
    {
     "data": {
      "text/plain": [
       "[{1: [1, 2]}, {2: [3, 4]}, {3: [5, 6]}]"
      ]
     },
     "execution_count": 140,
     "metadata": {},
     "output_type": "execute_result"
    }
   ],
   "source": [
    "d = {1:[1,2],2:[3,4],3:[5,6]}\n",
    "k=d.items()\n",
    "print(k)\n",
    "l=[]\n",
    "for j in k:\n",
    "    d1={}\n",
    "    print(j)\n",
    "    d1[j[0]]=j[1]\n",
    "    l.append(d1)\n",
    "l\n"
   ]
  },
  {
   "cell_type": "markdown",
   "id": "7232ea1c",
   "metadata": {},
   "source": [
    "## or"
   ]
  },
  {
   "cell_type": "code",
   "execution_count": 66,
   "id": "2be01636",
   "metadata": {},
   "outputs": [
    {
     "name": "stdout",
     "output_type": "stream",
     "text": [
      "[{1: [1, 2]}, {2: [3, 4]}, {3: [5, 6]}]\n"
     ]
    }
   ],
   "source": [
    "\n",
    "d = {1:[1,2],2:[3,4],3:[5,6]}\n",
    "d1={}\n",
    "d2={}\n",
    "d3={}\n",
    "l=[]\n",
    "for i in d:\n",
    "    if i==1:\n",
    "        d1[1]=d[i]\n",
    "        l.append(d1)\n",
    "    elif i==2:\n",
    "        d2[2]=d[i]\n",
    "        l.append(d2)\n",
    "    elif i==3:\n",
    "        d3[3]=d[i]\n",
    "        l.append(d3)\n",
    "print(l)\n",
    "        \n",
    "        \n",
    "    \n",
    "    "
   ]
  }
 ],
 "metadata": {
  "kernelspec": {
   "display_name": "Python 3 (ipykernel)",
   "language": "python",
   "name": "python3"
  },
  "language_info": {
   "codemirror_mode": {
    "name": "ipython",
    "version": 3
   },
   "file_extension": ".py",
   "mimetype": "text/x-python",
   "name": "python",
   "nbconvert_exporter": "python",
   "pygments_lexer": "ipython3",
   "version": "3.9.7"
  }
 },
 "nbformat": 4,
 "nbformat_minor": 5
}
