{
 "cells": [
  {
   "cell_type": "code",
   "execution_count": 32,
   "id": "93288625",
   "metadata": {},
   "outputs": [
    {
     "name": "stdout",
     "output_type": "stream",
     "text": [
      "enter the number of rows5\n",
      "    *\n",
      "   **\n",
      "  ***\n",
      " ****\n",
      "*****\n"
     ]
    }
   ],
   "source": [
    "'''\n",
    "  *\n",
    " **\n",
    "***\n",
    "'''\n",
    "row= int(input(\"enter the number of rows\"))\n",
    "space=row\n",
    "for i in range(1,row+1):\n",
    "    for j in range(1,space):\n",
    "        print(end=\" \")\n",
    "    space=space-1\n",
    "    for k in range(1,i+1):\n",
    "        print(\"*\",end=\"\")\n",
    "    print(end = \"\\n\")"
   ]
  },
  {
   "cell_type": "markdown",
   "id": "fd65abda",
   "metadata": {},
   "source": [
    "# # patterns : "
   ]
  },
  {
   "cell_type": "markdown",
   "id": "d4c831a4",
   "metadata": {},
   "source": [
    "# type 1: "
   ]
  },
  {
   "cell_type": "code",
   "execution_count": 36,
   "id": "b9cbba04",
   "metadata": {},
   "outputs": [
    {
     "name": "stdout",
     "output_type": "stream",
     "text": [
      "enter the no of rows5\n",
      "#####\n",
      "#####\n",
      "#####\n",
      "#####\n",
      "#####\n"
     ]
    }
   ],
   "source": [
    "'''\n",
    "#####\n",
    "#####\n",
    "#####\n",
    "##### '''\n",
    "row=int(input(\"enter the no of rows\"))\n",
    "for i in range(1,row+1):\n",
    "    for j in range(1,row+1):\n",
    "        print(\"#\", end=\"\")\n",
    "    print(end=\"\\n\")"
   ]
  },
  {
   "cell_type": "code",
   "execution_count": 8,
   "id": "9230c83c",
   "metadata": {},
   "outputs": [
    {
     "name": "stdout",
     "output_type": "stream",
     "text": [
      "enter the no of rows7\n",
      "enter the column number6\n",
      "123456\n",
      "\n",
      "123456\n",
      "\n",
      "123456\n",
      "\n",
      "123456\n",
      "\n",
      "123456\n",
      "\n",
      "123456\n",
      "\n",
      "123456\n",
      "\n"
     ]
    }
   ],
   "source": [
    "row=int(input(\"enter the no of rows\"))\n",
    "num=int(input(\"enter the column number\"))\n",
    "for i in range(1,row+1):\n",
    "    for j in range(1,num+1):\n",
    "        print(j,end=\"\")\n",
    "    print(\"\\n\")\n",
    "    "
   ]
  },
  {
   "cell_type": "code",
   "execution_count": 41,
   "id": "60cbf79d",
   "metadata": {},
   "outputs": [
    {
     "name": "stdout",
     "output_type": "stream",
     "text": [
      "enter the no of rows4\n",
      "1234\n",
      "1234\n",
      "1234\n",
      "1234\n"
     ]
    }
   ],
   "source": [
    "'''\n",
    "12345\n",
    "12345\n",
    "12345\n",
    "12345\n",
    "12345\n",
    "12345\n",
    "'''\n",
    "row=int(input(\"enter the no of rows\"))\n",
    "for i in range(1,row+1):\n",
    "    for j in range(1,row+1):\n",
    "        print(j, end=\"\")\n",
    "    print(end=\"\\n\")"
   ]
  },
  {
   "cell_type": "code",
   "execution_count": 43,
   "id": "8b01ee8a",
   "metadata": {},
   "outputs": [
    {
     "name": "stdout",
     "output_type": "stream",
     "text": [
      "enter the no of rows5\n",
      "1  2  3  4  5  \n",
      "6  7  8  9  10  \n",
      "11  12  13  14  15  \n",
      "16  17  18  19  20  \n",
      "21  22  23  24  25  \n"
     ]
    }
   ],
   "source": [
    "'''\n",
    "1 2 3 4 5\n",
    "6 7 8 9 10\n",
    "'''\n",
    "row=int(input(\"enter the no of rows\"))\n",
    "k=1\n",
    "for i in range(1,row+1):\n",
    "    for j in range(1,row+1):\n",
    "        print(k,\" \", end=\"\")\n",
    "        k=k+1\n",
    "    print(end=\"\\n\")\n",
    "    \n"
   ]
  },
  {
   "cell_type": "code",
   "execution_count": 11,
   "id": "b40629cb",
   "metadata": {},
   "outputs": [
    {
     "name": "stdout",
     "output_type": "stream",
     "text": [
      "1 2 3 4 5 \n",
      "\n",
      "1 2 3 4 5 \n",
      "\n",
      "1 2 3 4 5 \n",
      "\n",
      "1 2 3 4 5 \n",
      "\n",
      "1 2 3 4 5 \n",
      "\n"
     ]
    }
   ],
   "source": [
    "count=1\n",
    "for i in range(1,6):\n",
    "    \n",
    "    for j in range(1,6):\n",
    "        print(count,end=\" \")\n",
    "        count=count+1\n",
    "    print(\"\\n\")"
   ]
  },
  {
   "cell_type": "code",
   "execution_count": 44,
   "id": "29455568",
   "metadata": {},
   "outputs": [
    {
     "name": "stdout",
     "output_type": "stream",
     "text": [
      "enter the no of rows5\n",
      "1  2  3  4  5  \n",
      "2  4  6  8  10  \n",
      "3  6  9  12  15  \n",
      "4  8  12  16  20  \n",
      "5  10  15  20  25  \n"
     ]
    }
   ],
   "source": [
    "'''\n",
    "1 2 3 4 5\n",
    "2 4 6 8 10\n",
    "3 6 9 12 15\n",
    "4 8 12 16 20\n",
    "5 10 15 20 25\n",
    "'''\n",
    "row=int(input(\"enter the no of rows\"))\n",
    "\n",
    "for i in range(1,row+1):\n",
    "    k=i\n",
    "    for j in range(1,row+1):\n",
    "        print(k*j,\" \", end=\"\")\n",
    "        \n",
    "    print(end=\"\\n\")"
   ]
  },
  {
   "cell_type": "code",
   "execution_count": null,
   "id": "fa3afa50",
   "metadata": {},
   "outputs": [],
   "source": [
    "'''\n",
    "1 1 2 1 3 1\n",
    "1 2 2 2 3 2\n",
    "1 3 2 3 3 3\n",
    "1 2 2 4 3 4\n",
    "1 5 2 5 3 5'''\n",
    "row=int(input(\"enter the no of rows\"))\n",
    "for i in range(1,row+1):\n",
    "    k=i\n",
    "    for j in range(1,row+1):\n",
    "        print(k*j,\" \", end=\"\")\n",
    "        \n",
    "    print(end=\"\\n\")"
   ]
  },
  {
   "cell_type": "code",
   "execution_count": 46,
   "id": "f56daf96",
   "metadata": {},
   "outputs": [
    {
     "name": "stdout",
     "output_type": "stream",
     "text": [
      "enter the no of rows5\n",
      "0  1  0  1  0  \n",
      "1  0  1  0  1  \n",
      "0  1  0  1  0  \n",
      "1  0  1  0  1  \n",
      "0  1  0  1  0  \n"
     ]
    }
   ],
   "source": [
    "'''\n",
    "0 1 0 1 0\n",
    "1 0 1 0 1\n",
    "0 1 0 1 0\n",
    "1 0 1 0 1\n",
    "0 1 0 1 0'''\n",
    "row=int(input(\"enter the no of rows\"))\n",
    "k=0\n",
    "for i in range(1,row+1):\n",
    "    for j in range(1,row+1):\n",
    "        print(k,\" \", end=\"\")\n",
    "        k=int(not k)\n",
    "        \n",
    "    print(end=\"\\n\")"
   ]
  },
  {
   "cell_type": "code",
   "execution_count": 47,
   "id": "49baf64c",
   "metadata": {},
   "outputs": [
    {
     "name": "stdout",
     "output_type": "stream",
     "text": [
      "enter the no of rows5\n",
      "0  1  0  1  0  \n",
      "0  1  0  1  0  \n",
      "0  1  0  1  0  \n",
      "0  1  0  1  0  \n",
      "0  1  0  1  0  \n"
     ]
    }
   ],
   "source": [
    "'''\n",
    "0 1 0 1 0\n",
    "0 1 0 1 0\n",
    "0 1 0 1 0\n",
    "0 1 0 1 0\n",
    "'''\n",
    "row=int(input(\"enter the no of rows\"))\n",
    "k=0\n",
    "for i in range(1,row+1):\n",
    "    k=0\n",
    "    for j in range(1,row+1):\n",
    "        print(k,\" \", end=\"\")\n",
    "        k=int(not k)\n",
    "        \n",
    "    print(end=\"\\n\")"
   ]
  },
  {
   "cell_type": "code",
   "execution_count": 4,
   "id": "03d6aec1",
   "metadata": {},
   "outputs": [
    {
     "data": {
      "text/plain": [
       "'%'"
      ]
     },
     "execution_count": 4,
     "metadata": {},
     "output_type": "execute_result"
    }
   ],
   "source": [
    "chr(37)"
   ]
  },
  {
   "cell_type": "code",
   "execution_count": 7,
   "id": "3689c732",
   "metadata": {},
   "outputs": [
    {
     "data": {
      "text/plain": [
       "65"
      ]
     },
     "execution_count": 7,
     "metadata": {},
     "output_type": "execute_result"
    }
   ],
   "source": [
    "ord(\"A\")"
   ]
  },
  {
   "cell_type": "code",
   "execution_count": 49,
   "id": "320a44c4",
   "metadata": {},
   "outputs": [
    {
     "name": "stdout",
     "output_type": "stream",
     "text": [
      "enter the no of rows5\n",
      "A  F  K  P  U  \n",
      "B  G  L  Q  V  \n",
      "C  H  M  R  W  \n",
      "D  I  N  S  X  \n",
      "E  J  O  T  Y  \n"
     ]
    }
   ],
   "source": [
    "'''\n",
    "A F K P U\n",
    "B G L Q V\n",
    "C H M R W\n",
    "D I N S X\n",
    "E J O T Y'''\n",
    "row=int(input(\"enter the no of rows\"))\n",
    "m=65\n",
    "for i in range(1,row+1):\n",
    "    k=m\n",
    "    for j in range(1,row+1):\n",
    "        print(chr(k),\" \", end=\"\")\n",
    "        k=k+5\n",
    "    m=m+1\n",
    "        \n",
    "        \n",
    "    print(end=\"\\n\")"
   ]
  },
  {
   "cell_type": "markdown",
   "id": "009bee2e",
   "metadata": {},
   "source": [
    "# # Type 2 : patterns"
   ]
  },
  {
   "cell_type": "code",
   "execution_count": 50,
   "id": "411b6e22",
   "metadata": {},
   "outputs": [
    {
     "name": "stdout",
     "output_type": "stream",
     "text": [
      "enter the no of rows5\n",
      "5 \n",
      "4 4 \n",
      "3 3 3 \n",
      "2 2 2 2 \n",
      "1 1 1 1 1 \n"
     ]
    }
   ],
   "source": [
    "'''\n",
    "5\n",
    "4 4\n",
    "3 3 3\n",
    "2 2 2 2\n",
    "1 1 1 1 1'''\n",
    "row=int(input(\"enter the no of rows\"))\n",
    "k=row\n",
    "for i in range(1,row+1):\n",
    "    for j in range(1,i+1):\n",
    "        print(k,end=\" \")\n",
    "    k=k-1\n",
    "    print(end=\"\\n\")"
   ]
  },
  {
   "cell_type": "code",
   "execution_count": 52,
   "id": "c0293505",
   "metadata": {},
   "outputs": [
    {
     "name": "stdout",
     "output_type": "stream",
     "text": [
      "enter the no of rows5\n",
      "5 \n",
      "4 5 \n",
      "3 4 5 \n",
      "2 3 4 5 \n",
      "1 2 3 4 5 \n"
     ]
    }
   ],
   "source": [
    "'''\n",
    "5\n",
    "4 5\n",
    "3 4 5\n",
    "2 3 4 5\n",
    "1 2 3 4 5'''\n",
    "row=int(input(\"enter the no of rows\"))\n",
    "k=row\n",
    "\n",
    "for i in range(1,row+1):\n",
    "    m=k\n",
    "    for j in range(1,i+1):\n",
    "        print(m,end=\" \")\n",
    "        m=m+1\n",
    "    k=k-1\n",
    "    print(end=\"\\n\")"
   ]
  },
  {
   "cell_type": "code",
   "execution_count": 57,
   "id": "af91d869",
   "metadata": {},
   "outputs": [
    {
     "name": "stdout",
     "output_type": "stream",
     "text": [
      "enter the no of rows5\n",
      "1 \n",
      "1 2 \n",
      "2 3 4 \n",
      "3 4 5 6 \n",
      "4 5 6 7 8 \n"
     ]
    }
   ],
   "source": [
    "'''\n",
    "1\n",
    "1 2\n",
    "2 3 4\n",
    "4 5 6 7\n",
    "7 8 9 10 11\n",
    "'''\n",
    "row=int(input(\"enter the no of rows\"))\n",
    "j=1\n",
    "k=j\n",
    "for i in range(1,row+1):\n",
    "    for j in range(1,i+1):\n",
    "        print(k,end=\" \")\n",
    "        k=k+1\n",
    "    k=j\n",
    "    print(end=\"\\n\")"
   ]
  },
  {
   "cell_type": "code",
   "execution_count": 62,
   "id": "598f8966",
   "metadata": {},
   "outputs": [
    {
     "name": "stdout",
     "output_type": "stream",
     "text": [
      "enter the no of rows5\n",
      "1 \n",
      "2 2 \n",
      "3 3 3 \n",
      "4 4 4 4 \n",
      "5 5 5 5 5 \n"
     ]
    }
   ],
   "source": [
    "'''\n",
    "1\n",
    "2 6\n",
    "3 7 10\n",
    "4 8 11 13\n",
    "5 9 12 14 15\n",
    "'''\n",
    "row=int(input(\"enter the no of rows\"))\n",
    "k=1\n",
    "for i in range(1,row+1):\n",
    "    for j in range(1,i+1):\n",
    "        x=4\n",
    "        print(k,end=\" \")\n",
    "        m=k\n",
    "        y=k\n",
    "        x=x-1\n",
    "    k=m+1\n",
    "    print(end=\"\\n\")"
   ]
  },
  {
   "cell_type": "code",
   "execution_count": null,
   "id": "a13cdbc0",
   "metadata": {},
   "outputs": [],
   "source": [
    "'''\n",
    "1\n",
    "3 2\n",
    "6 5 4\n",
    "10 9 8 7\n",
    "'''\n",
    "\n"
   ]
  },
  {
   "cell_type": "code",
   "execution_count": 63,
   "id": "90ca52e9",
   "metadata": {},
   "outputs": [
    {
     "name": "stdout",
     "output_type": "stream",
     "text": [
      "enter the no of rows5\n",
      "2 \n",
      "2 4 \n",
      "2 4 6 \n",
      "2 4 6 8 \n",
      "2 4 6 8 10 \n"
     ]
    }
   ],
   "source": [
    "'''\n",
    "2\n",
    "2 4\n",
    "2 4 6\n",
    "2 4 6 8\n",
    "2 4 6 8 10\n",
    "'''\n",
    "row=int(input(\"enter the no of rows\"))\n",
    "\n",
    "for i in range(1,row+1):\n",
    "    k=2\n",
    "    for j in range(1,i+1):\n",
    "        print(k,end=\" \")\n",
    "        k=k+2\n",
    "    print(end=\"\\n\")"
   ]
  },
  {
   "cell_type": "code",
   "execution_count": 64,
   "id": "447f8a15",
   "metadata": {},
   "outputs": [
    {
     "name": "stdout",
     "output_type": "stream",
     "text": [
      "enter the no of rows5\n",
      "1 \n",
      "2 3 \n",
      "3 4 5 \n",
      "4 5 6 7 \n",
      "5 6 7 8 9 \n"
     ]
    }
   ],
   "source": [
    "'''\n",
    "1\n",
    "2 3\n",
    "3 4 5\n",
    "4 5 6 7\n",
    "5 6 7 8 9\n",
    "'''\n",
    "row=int(input(\"enter the no of rows\"))\n",
    "\n",
    "for i in range(1,row+1):\n",
    "    k=i\n",
    "    for j in range(1,i+1):\n",
    "        print(k,end=\" \")\n",
    "        k=k+1\n",
    "    print(end=\"\\n\")"
   ]
  },
  {
   "cell_type": "code",
   "execution_count": 65,
   "id": "0e5a61d8",
   "metadata": {},
   "outputs": [
    {
     "name": "stdout",
     "output_type": "stream",
     "text": [
      "enter the no of rows5\n",
      "1 \n",
      "2 4 \n",
      "3 6 9 \n",
      "4 8 12 16 \n",
      "5 10 15 20 25 \n"
     ]
    }
   ],
   "source": [
    "'''\n",
    "1\n",
    "2 4\n",
    "3 6 9\n",
    "4 8 12 16\n",
    "5 10 15 20 25'''\n",
    "row=int(input(\"enter the no of rows\"))\n",
    "\n",
    "for i in range(1,row+1):\n",
    "    k=i\n",
    "    for j in range(1,i+1):\n",
    "        print(k,end=\" \")\n",
    "        k=k+i\n",
    "    print(end=\"\\n\")"
   ]
  },
  {
   "cell_type": "code",
   "execution_count": 70,
   "id": "b0b8f59d",
   "metadata": {},
   "outputs": [
    {
     "name": "stdout",
     "output_type": "stream",
     "text": [
      "enter the no of rows5\n",
      "1 \n",
      "6 3 \n",
      "10 8 5 \n",
      "13 12 10 7 \n",
      "15 15 14 12 9 \n"
     ]
    }
   ],
   "source": [
    "'''\n",
    "1 \n",
    "6 2\n",
    "10 7 3\n",
    "13 11 8 4\n",
    "15 14 12 9 5\n",
    "'''\n",
    "row=int(input(\"enter the no of rows\"))\n",
    "m=1\n",
    "l=1\n",
    "k=5\n",
    "x=4\n",
    "for i in range(1,row+1):\n",
    "    m=l\n",
    "    y=x\n",
    "    for j in range(1,i+1):\n",
    "        print(m,end=\" \")\n",
    "        m=m-y\n",
    "        y=y+1\n",
    "    x=x-1\n",
    "    print(end=\"\\n\")\n",
    "    l=l+k\n",
    "    k=k-1"
   ]
  },
  {
   "cell_type": "code",
   "execution_count": 76,
   "id": "0f8eec28",
   "metadata": {},
   "outputs": [
    {
     "name": "stdout",
     "output_type": "stream",
     "text": [
      "enter the no of rows5\n",
      "1 \n",
      "4 9 \n",
      "16 25 36 \n",
      "49 64 81 100 \n",
      "121 144 169 196 225 \n"
     ]
    }
   ],
   "source": [
    "'''\n",
    "1\n",
    "4 9\n",
    "16 25 36\n",
    "49 64 81 100\n",
    "'''\n",
    "row=int(input(\"enter the no of rows\"))\n",
    "count=1\n",
    "for i in range(1,row+1):\n",
    "    for j in range(1,i+1):\n",
    "        k= count\n",
    "        k=k*k\n",
    "        print(k,end=\" \")\n",
    "       \n",
    "        count=count+1\n",
    "    print(end=\"\\n\")"
   ]
  },
  {
   "cell_type": "code",
   "execution_count": 81,
   "id": "71a2c3c6",
   "metadata": {},
   "outputs": [
    {
     "name": "stdout",
     "output_type": "stream",
     "text": [
      "enter the no of rows5\n",
      "1 \n",
      "2 3 \n",
      "5 8 13 \n",
      "21 34 55 89 \n",
      "144 233 377 610 987 \n"
     ]
    }
   ],
   "source": [
    "'''\n",
    "1\n",
    "1 2\n",
    "3 5 8\n",
    "13 21 34 55\n",
    "89 144 233 377 610'''\n",
    "row=int(input(\"enter the no of rows\"))\n",
    "a=0\n",
    "b=1\n",
    "c=0\n",
    "for i in range(1,row+1):\n",
    "    for j in range(1,i+1): \n",
    "        x=a\n",
    "        a=b\n",
    "        c=a+x\n",
    "        print(c,end=\" \")\n",
    "        b=c\n",
    "        \n",
    "    print(end=\"\\n\")"
   ]
  },
  {
   "cell_type": "code",
   "execution_count": 93,
   "id": "d1e9928f",
   "metadata": {},
   "outputs": [
    {
     "name": "stdout",
     "output_type": "stream",
     "text": [
      "enter the no of rows5\n",
      "0 \n",
      "0 1 \n",
      "1 0 1 \n",
      "1 0 1 0 \n",
      "0 1 0 1 0 \n"
     ]
    }
   ],
   "source": [
    "'''\n",
    "0\n",
    "1 0\n",
    "0 1 0\n",
    "1 0 1 0\n",
    "0 1 0 1 0\n",
    "'''\n",
    "row=int(input(\"enter the no of rows\"))\n",
    "c=0\n",
    "for i in range(1,row+1):\n",
    "    for j in range(1,i+1):\n",
    "        print(c,end=\" \")\n",
    "        c1=int(not c)\n",
    "        c=c1\n",
    "        #c=int(not c)\n",
    "    x=int(not c)\n",
    "    c=x\n",
    "    print(end=\"\\n\")"
   ]
  },
  {
   "cell_type": "markdown",
   "id": "428c10a6",
   "metadata": {},
   "source": [
    "# #type 3 : patterns\n",
    "\n"
   ]
  },
  {
   "cell_type": "code",
   "execution_count": 95,
   "id": "356fa3c2",
   "metadata": {},
   "outputs": [
    {
     "name": "stdout",
     "output_type": "stream",
     "text": [
      "enter the number of rows5\n",
      "x x x x x \n",
      "x x x x \n",
      "x x x \n",
      "x x \n",
      "x \n"
     ]
    }
   ],
   "source": [
    "'''\n",
    "*****\n",
    "****\n",
    "***\n",
    "**\n",
    "*\n",
    "'''\n",
    "r= int(input(\"enter the number of rows\"))\n",
    "for i in range(1,r+1):\n",
    "    for j in range(1,r+1):\n",
    "        print(\"x\",end=\" \")\n",
    "    r=r-1\n",
    "    print(end=\"\\n\")"
   ]
  },
  {
   "cell_type": "code",
   "execution_count": 109,
   "id": "7d9a7362",
   "metadata": {},
   "outputs": [
    {
     "name": "stdout",
     "output_type": "stream",
     "text": [
      "enter the number of rows5\n",
      "5 4 3 2 1 \n",
      "6 5 4 3 \n",
      "7 6 5 \n",
      "8 7 \n",
      "9 \n"
     ]
    }
   ],
   "source": [
    "'''\n",
    "5 4 3 2 1\n",
    "6 5 4 3\n",
    "7 6 5\n",
    "8 7\n",
    "9\n",
    "'''\n",
    "r= int(input(\"enter the number of rows\"))\n",
    "x=r\n",
    "m=r\n",
    "for i in range(1,r+1):\n",
    "    x=m\n",
    "    for j in range(1,r+1):\n",
    "        print(x,end=\" \")\n",
    "        x=x-1   \n",
    "    m=m+1\n",
    "    r=r-1\n",
    "    print(end=\"\\n\")"
   ]
  },
  {
   "cell_type": "code",
   "execution_count": null,
   "id": "9cfbde05",
   "metadata": {},
   "outputs": [],
   "source": [
    "'''\n",
    "15 14 13 12 11\n",
    "10 9 8 7\n",
    "6 5 4\n",
    "3 2 \n",
    "1'''\n"
   ]
  },
  {
   "cell_type": "code",
   "execution_count": null,
   "id": "1eca094b",
   "metadata": {},
   "outputs": [],
   "source": []
  }
 ],
 "metadata": {
  "kernelspec": {
   "display_name": "Python 3 (ipykernel)",
   "language": "python",
   "name": "python3"
  },
  "language_info": {
   "codemirror_mode": {
    "name": "ipython",
    "version": 3
   },
   "file_extension": ".py",
   "mimetype": "text/x-python",
   "name": "python",
   "nbconvert_exporter": "python",
   "pygments_lexer": "ipython3",
   "version": "3.9.12"
  }
 },
 "nbformat": 4,
 "nbformat_minor": 5
}
