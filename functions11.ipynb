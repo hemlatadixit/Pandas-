{
 "cells": [
  {
   "cell_type": "markdown",
   "id": "5483f798",
   "metadata": {},
   "source": [
    "#### What is function and Why we need it ??\n"
   ]
  },
  {
   "cell_type": "markdown",
   "id": "7d08bba2",
   "metadata": {},
   "source": [
    "- subroutines\n",
    "\n",
    "- procedures\n",
    "\n",
    "- methods\n",
    "\n",
    "- subprograms\n",
    "\n",
    "\n",
    "all are often called as functions"
   ]
  },
  {
   "cell_type": "markdown",
   "id": "5114b563",
   "metadata": {},
   "source": [
    "### Functions\n",
    "Python Functions is a block of related statements designed to perform a computational, logical,\n",
    "or evaluative task.\n",
    "\n",
    "\n",
    "\n",
    "The idea is to put some commonly or repeatedly done tasks together and\n",
    "make a function so that instead of writing the same code again and again for different inputs,\n",
    "we can do the function calls to reuse code contained in it over and over again."
   ]
  },
  {
   "cell_type": "code",
   "execution_count": 1,
   "id": "cd6332ee",
   "metadata": {},
   "outputs": [
    {
     "ename": "SyntaxError",
     "evalue": "invalid syntax (2774147927.py, line 1)",
     "output_type": "error",
     "traceback": [
      "\u001b[1;36m  Input \u001b[1;32mIn [1]\u001b[1;36m\u001b[0m\n\u001b[1;33m    Importance of functions:\u001b[0m\n\u001b[1;37m               ^\u001b[0m\n\u001b[1;31mSyntaxError\u001b[0m\u001b[1;31m:\u001b[0m invalid syntax\n"
     ]
    }
   ],
   "source": [
    "Importance of functions:\n",
    "    \n",
    "-Resusability\n",
    "-Abstraction\n",
    "- Modularity\n",
    "\n"
   ]
  },
  {
   "cell_type": "code",
   "execution_count": null,
   "id": "ae3535f3",
   "metadata": {},
   "outputs": [],
   "source": [
    "#add()"
   ]
  },
  {
   "cell_type": "code",
   "execution_count": 7,
   "id": "56852770",
   "metadata": {},
   "outputs": [
    {
     "name": "stdout",
     "output_type": "stream",
     "text": [
      "hello\n",
      "before function calling\n",
      "enter the two numbers2,3\n",
      "5\n",
      "after function caling\n"
     ]
    }
   ],
   "source": [
    "#case 1: no arguments no return \n",
    "print(\"hello\")    \n",
    "def add():\n",
    "    num1,num2=input(\"enter the two numbers\").split(\",\")\n",
    "    num1=int(num1)\n",
    "    num2=int(num2)\n",
    "    result=num1+num2\n",
    "    print(result)\n",
    "print(\"before function calling\")\n",
    "add()\n",
    "print(\"after function caling\")\n"
   ]
  },
  {
   "cell_type": "code",
   "execution_count": 2,
   "id": "17d953b4",
   "metadata": {},
   "outputs": [
    {
     "name": "stdout",
     "output_type": "stream",
     "text": [
      "enter the number2\n",
      "number is positive\n"
     ]
    }
   ],
   "source": [
    "#case 1: without arguments and without return type\n",
    "def check(n1):\n",
    "    \n",
    "    if n1>=0:\n",
    "        return n1\n",
    "    else:\n",
    "        return\n",
    "num=int(input(\"enter the number\"))\n",
    "number=check(num)\n",
    "print(\"number is positive\")"
   ]
  },
  {
   "cell_type": "code",
   "execution_count": 10,
   "id": "9c0152bf",
   "metadata": {},
   "outputs": [
    {
     "name": "stdout",
     "output_type": "stream",
     "text": [
      "enter the numbers1,2\n",
      "before function calling\n",
      "3\n",
      "inside function calling\n",
      "after function calling\n"
     ]
    }
   ],
   "source": [
    "#case 2: with arguments and no return\n",
    "def add(num1,num2):\n",
    "    result=num1+num2\n",
    "    print(result)\n",
    "    print(\"inside function calling\")\n",
    "n1,n2=input(\"enter the numbers\").split(\",\")\n",
    "print(\"before function calling\")\n",
    "n1=int(n1)\n",
    "n2=int(n2)\n",
    "add(n1,n2)\n",
    "print(\"after function calling\")"
   ]
  },
  {
   "cell_type": "code",
   "execution_count": 12,
   "id": "0251b16e",
   "metadata": {},
   "outputs": [
    {
     "name": "stdout",
     "output_type": "stream",
     "text": [
      "hello\n",
      "before function calling\n",
      "enter the two numbers1,2\n",
      "after function caling\n",
      "3\n"
     ]
    }
   ],
   "source": [
    "## case 3: without argument with return type\n",
    "print(\"hello\")    \n",
    "def add():\n",
    "    num1,num2=input(\"enter the two numbers\").split(\",\")\n",
    "    num1=int(num1)\n",
    "    num2=int(num2)\n",
    "    result=num1+num2\n",
    "    return result\n",
    "print(\"before function calling\")\n",
    "a=add()\n",
    "print(\"after function caling\")\n",
    "print(a)\n"
   ]
  },
  {
   "cell_type": "code",
   "execution_count": 17,
   "id": "1e201933",
   "metadata": {},
   "outputs": [
    {
     "name": "stdout",
     "output_type": "stream",
     "text": [
      "hello\n",
      "enter the two numbers1,2\n",
      "before function calling\n",
      "after function caling\n",
      "3\n",
      "[1, 2, 3, 4]\n"
     ]
    }
   ],
   "source": [
    "## case 3: with argument with return type\n",
    "print(\"hello\")\n",
    "\n",
    "def add(a,b):\n",
    "    l=[1,2,3,4]\n",
    "    result=num1+num2\n",
    "    return result,l\n",
    "    print(\"inside the function\")\n",
    "\n",
    "\n",
    "num1,num2=input(\"enter the two numbers\").split(\",\")\n",
    "num1=int(num1)\n",
    "num2=int(num2)\n",
    "print(\"before function calling\")\n",
    "a,b=add(num1,num2)\n",
    "print(\"after function caling\")\n",
    "print(a)\n",
    "print(b)"
   ]
  },
  {
   "cell_type": "markdown",
   "id": "9123fcc1",
   "metadata": {},
   "source": [
    "## Resusability\n",
    "\n",
    "need to use useful code in program again ?   How ??\n",
    "\n",
    "\n",
    "would do it a copy paste??\n",
    "\n",
    "- names might be different in new use\n",
    "- wHat if you make changes to it?? fid all places and change it everywhere ???\n",
    "\n",
    "\n"
   ]
  },
  {
   "cell_type": "markdown",
   "id": "96b5a719",
   "metadata": {},
   "source": [
    "### Functions can be both \n",
    "\n",
    "\n",
    "- built-in \n",
    "\n",
    "\n",
    "- user-defined. \n",
    "\n",
    "\n",
    "\n",
    "\n",
    "It helps the program to be concise, nonrepetitive, and organized."
   ]
  },
  {
   "cell_type": "markdown",
   "id": "aa7b78a2",
   "metadata": {},
   "source": [
    "- Pre-defined/built-in/library function\n",
    "\n",
    "Functions which are already created and stored in python library are called built-in functions. For using these functions, we just need to call them with their names in our python file.\n",
    "\n",
    "- User defined functions\n",
    "\n",
    "As its name suggests user defined functions are created by users. You can create your own function with any name and easily use in by calling it inside that python file."
   ]
  },
  {
   "cell_type": "markdown",
   "id": "42025219",
   "metadata": {},
   "source": [
    "### builtin functions:\n",
    "- input()\n",
    "- len()\n",
    "- pow()\n",
    "- id()\n",
    "- ord()\n",
    "- round(\n",
    "- chr()\n",
    "- type()\n",
    "- print()\n",
    "- float()\n",
    "- int()\n",
    "- str()\n",
    "- help() : returns th documentation/details of any function\n",
    "\n",
    "etc.\n"
   ]
  },
  {
   "cell_type": "code",
   "execution_count": 13,
   "id": "f867e3d5",
   "metadata": {},
   "outputs": [
    {
     "name": "stdout",
     "output_type": "stream",
     "text": [
      "Help on built-in function print in module builtins:\n",
      "\n",
      "print(...)\n",
      "    print(value, ..., sep=' ', end='\\n', file=sys.stdout, flush=False)\n",
      "    \n",
      "    Prints the values to a stream, or to sys.stdout by default.\n",
      "    Optional keyword arguments:\n",
      "    file:  a file-like object (stream); defaults to the current sys.stdout.\n",
      "    sep:   string inserted between values, default a space.\n",
      "    end:   string appended after the last value, default a newline.\n",
      "    flush: whether to forcibly flush the stream.\n",
      "\n"
     ]
    }
   ],
   "source": [
    "help(print)"
   ]
  },
  {
   "cell_type": "code",
   "execution_count": null,
   "id": "58a26500",
   "metadata": {},
   "outputs": [],
   "source": [
    "pow(2,-3)"
   ]
  },
  {
   "cell_type": "code",
   "execution_count": null,
   "id": "e4fca509",
   "metadata": {},
   "outputs": [],
   "source": [
    "round(2.567)"
   ]
  },
  {
   "cell_type": "code",
   "execution_count": null,
   "id": "c77a0a1e",
   "metadata": {},
   "outputs": [],
   "source": [
    "round(3.7685,2)"
   ]
  },
  {
   "cell_type": "code",
   "execution_count": 2,
   "id": "2d1c8598",
   "metadata": {},
   "outputs": [
    {
     "data": {
      "text/plain": [
       "3194137831792"
      ]
     },
     "execution_count": 2,
     "metadata": {},
     "output_type": "execute_result"
    }
   ],
   "source": [
    "id(3)  ## returns the address of 3 where it is located "
   ]
  },
  {
   "cell_type": "code",
   "execution_count": 3,
   "id": "43b296e7",
   "metadata": {},
   "outputs": [
    {
     "data": {
      "text/plain": [
       "['__doc__',\n",
       " '__loader__',\n",
       " '__name__',\n",
       " '__package__',\n",
       " '__spec__',\n",
       " 'acos',\n",
       " 'acosh',\n",
       " 'asin',\n",
       " 'asinh',\n",
       " 'atan',\n",
       " 'atan2',\n",
       " 'atanh',\n",
       " 'ceil',\n",
       " 'comb',\n",
       " 'copysign',\n",
       " 'cos',\n",
       " 'cosh',\n",
       " 'degrees',\n",
       " 'dist',\n",
       " 'e',\n",
       " 'erf',\n",
       " 'erfc',\n",
       " 'exp',\n",
       " 'expm1',\n",
       " 'fabs',\n",
       " 'factorial',\n",
       " 'floor',\n",
       " 'fmod',\n",
       " 'frexp',\n",
       " 'fsum',\n",
       " 'gamma',\n",
       " 'gcd',\n",
       " 'hypot',\n",
       " 'inf',\n",
       " 'isclose',\n",
       " 'isfinite',\n",
       " 'isinf',\n",
       " 'isnan',\n",
       " 'isqrt',\n",
       " 'lcm',\n",
       " 'ldexp',\n",
       " 'lgamma',\n",
       " 'log',\n",
       " 'log10',\n",
       " 'log1p',\n",
       " 'log2',\n",
       " 'modf',\n",
       " 'nan',\n",
       " 'nextafter',\n",
       " 'perm',\n",
       " 'pi',\n",
       " 'pow',\n",
       " 'prod',\n",
       " 'radians',\n",
       " 'remainder',\n",
       " 'sin',\n",
       " 'sinh',\n",
       " 'sqrt',\n",
       " 'tan',\n",
       " 'tanh',\n",
       " 'tau',\n",
       " 'trunc',\n",
       " 'ulp']"
      ]
     },
     "execution_count": 3,
     "metadata": {},
     "output_type": "execute_result"
    }
   ],
   "source": [
    "import math\n",
    "dir(math)"
   ]
  },
  {
   "cell_type": "code",
   "execution_count": 4,
   "id": "f0c44e3a",
   "metadata": {},
   "outputs": [
    {
     "name": "stdout",
     "output_type": "stream",
     "text": [
      "Help on built-in function print in module builtins:\n",
      "\n",
      "print(...)\n",
      "    print(value, ..., sep=' ', end='\\n', file=sys.stdout, flush=False)\n",
      "    \n",
      "    Prints the values to a stream, or to sys.stdout by default.\n",
      "    Optional keyword arguments:\n",
      "    file:  a file-like object (stream); defaults to the current sys.stdout.\n",
      "    sep:   string inserted between values, default a space.\n",
      "    end:   string appended after the last value, default a newline.\n",
      "    flush: whether to forcibly flush the stream.\n",
      "\n"
     ]
    }
   ],
   "source": [
    "help(print)"
   ]
  },
  {
   "cell_type": "markdown",
   "id": "ae3bdd41",
   "metadata": {},
   "source": [
    " \n",
    "\n",
    "\n",
    "\n",
    "\n",
    "\n",
    "\n",
    "## Syntax:- \n",
    "\n",
    "\n",
    "\n",
    "\n",
    "\n",
    "\n",
    "\n",
    "In python, we define a function as\n",
    "follows:\n",
    "\n",
    "\n",
    "\n",
    "\n",
    "\n"
   ]
  },
  {
   "cell_type": "markdown",
   "id": "f72f0b28",
   "metadata": {},
   "source": [
    "def function_name(parameters):\n",
    "\n",
    "    \"\"\"docstring\"\"\"(optional)\n",
    " \n",
    "     statement(s)\n",
    "  \n",
    "     return expression"
   ]
  },
  {
   "cell_type": "markdown",
   "id": "9703edef",
   "metadata": {},
   "source": [
    "The function definition starts with a def keyword followed by the function name and the\n",
    "arguments the function can take. These arguments are within parentheses and there can be any\n",
    "number of arguments including zero. When there is more than one argument, they are\n",
    "separated by a comma. Since python is a loosely typed language, (meaning we don’t assign a\n",
    "data type to a variable when declaration) we shouldn’t include the data types for the arguments.\n",
    "The function definition statement is terminated by a colon. "
   ]
  },
  {
   "cell_type": "markdown",
   "id": "85e1a2f1",
   "metadata": {},
   "source": [
    "### Doc String\n",
    "you can give explanation inside function through [ ''' ''' ]"
   ]
  },
  {
   "attachments": {
    "f1.png": {
     "image/png": "[encoded data removed]"
    }
   },
   "cell_type": "markdown",
   "id": "f11e7318",
   "metadata": {},
   "source": [
    "![f1.png](attachment:f1.png)"
   ]
  },
  {
   "cell_type": "markdown",
   "id": "7091c9a0",
   "metadata": {},
   "source": [
    "### Creating a Function\n",
    "We can create a Python function using the def keyword.\n"
   ]
  },
  {
   "cell_type": "code",
   "execution_count": 5,
   "id": "eeecdc07",
   "metadata": {},
   "outputs": [
    {
     "name": "stdout",
     "output_type": "stream",
     "text": [
      "Lets watch and chill with Netflix \n"
     ]
    }
   ],
   "source": [
    "def fun(): # first we created function named fun\n",
    "    print(\"Lets watch and chill with Netflix \")\n",
    "fun()\n",
    "# every time we call this fun function it will give same value"
   ]
  },
  {
   "cell_type": "code",
   "execution_count": 6,
   "id": "60a8d34c",
   "metadata": {},
   "outputs": [
    {
     "name": "stdout",
     "output_type": "stream",
     "text": [
      "Befote function call\n"
     ]
    },
    {
     "ename": "KeyboardInterrupt",
     "evalue": "Interrupted by user",
     "output_type": "error",
     "traceback": [
      "\u001b[1;31m---------------------------------------------------------------------------\u001b[0m",
      "\u001b[1;31mKeyboardInterrupt\u001b[0m                         Traceback (most recent call last)",
      "Input \u001b[1;32mIn [6]\u001b[0m, in \u001b[0;36m<cell line: 7>\u001b[1;34m()\u001b[0m\n\u001b[0;32m      5\u001b[0m     \u001b[38;5;28mprint\u001b[39m(\u001b[38;5;124m'\u001b[39m\u001b[38;5;124mthe addition of two variable is\u001b[39m\u001b[38;5;124m'\u001b[39m,result)\n\u001b[0;32m      6\u001b[0m \u001b[38;5;28mprint\u001b[39m(\u001b[38;5;124m'\u001b[39m\u001b[38;5;124mBefote function call\u001b[39m\u001b[38;5;124m'\u001b[39m)\n\u001b[1;32m----> 7\u001b[0m \u001b[43madd\u001b[49m\u001b[43m(\u001b[49m\u001b[43m)\u001b[49m\n\u001b[0;32m      8\u001b[0m \u001b[38;5;28mprint\u001b[39m(\u001b[38;5;124m'\u001b[39m\u001b[38;5;124mAfter function call \u001b[39m\u001b[38;5;124m'\u001b[39m)\n",
      "Input \u001b[1;32mIn [6]\u001b[0m, in \u001b[0;36madd\u001b[1;34m()\u001b[0m\n\u001b[0;32m      1\u001b[0m \u001b[38;5;28;01mdef\u001b[39;00m \u001b[38;5;21madd\u001b[39m():\n\u001b[1;32m----> 2\u001b[0m     a\u001b[38;5;241m=\u001b[39m\u001b[38;5;28mint\u001b[39m(\u001b[38;5;28;43minput\u001b[39;49m\u001b[43m(\u001b[49m\u001b[38;5;124;43m'\u001b[39;49m\u001b[38;5;124;43menter a \u001b[39;49m\u001b[38;5;124;43m'\u001b[39;49m\u001b[43m)\u001b[49m)\n\u001b[0;32m      3\u001b[0m     b\u001b[38;5;241m=\u001b[39m\u001b[38;5;28mint\u001b[39m(\u001b[38;5;28minput\u001b[39m(\u001b[38;5;124m'\u001b[39m\u001b[38;5;124menter b \u001b[39m\u001b[38;5;124m'\u001b[39m))\n\u001b[0;32m      4\u001b[0m     result\u001b[38;5;241m=\u001b[39ma\u001b[38;5;241m+\u001b[39mb\n",
      "File \u001b[1;32m~\\anaconda3\\lib\\site-packages\\ipykernel\\kernelbase.py:1075\u001b[0m, in \u001b[0;36mKernel.raw_input\u001b[1;34m(self, prompt)\u001b[0m\n\u001b[0;32m   1071\u001b[0m \u001b[38;5;28;01mif\u001b[39;00m \u001b[38;5;129;01mnot\u001b[39;00m \u001b[38;5;28mself\u001b[39m\u001b[38;5;241m.\u001b[39m_allow_stdin:\n\u001b[0;32m   1072\u001b[0m     \u001b[38;5;28;01mraise\u001b[39;00m StdinNotImplementedError(\n\u001b[0;32m   1073\u001b[0m         \u001b[38;5;124m\"\u001b[39m\u001b[38;5;124mraw_input was called, but this frontend does not support input requests.\u001b[39m\u001b[38;5;124m\"\u001b[39m\n\u001b[0;32m   1074\u001b[0m     )\n\u001b[1;32m-> 1075\u001b[0m \u001b[38;5;28;01mreturn\u001b[39;00m \u001b[38;5;28;43mself\u001b[39;49m\u001b[38;5;241;43m.\u001b[39;49m\u001b[43m_input_request\u001b[49m\u001b[43m(\u001b[49m\n\u001b[0;32m   1076\u001b[0m \u001b[43m    \u001b[49m\u001b[38;5;28;43mstr\u001b[39;49m\u001b[43m(\u001b[49m\u001b[43mprompt\u001b[49m\u001b[43m)\u001b[49m\u001b[43m,\u001b[49m\n\u001b[0;32m   1077\u001b[0m \u001b[43m    \u001b[49m\u001b[38;5;28;43mself\u001b[39;49m\u001b[38;5;241;43m.\u001b[39;49m\u001b[43m_parent_ident\u001b[49m\u001b[43m[\u001b[49m\u001b[38;5;124;43m\"\u001b[39;49m\u001b[38;5;124;43mshell\u001b[39;49m\u001b[38;5;124;43m\"\u001b[39;49m\u001b[43m]\u001b[49m\u001b[43m,\u001b[49m\n\u001b[0;32m   1078\u001b[0m \u001b[43m    \u001b[49m\u001b[38;5;28;43mself\u001b[39;49m\u001b[38;5;241;43m.\u001b[39;49m\u001b[43mget_parent\u001b[49m\u001b[43m(\u001b[49m\u001b[38;5;124;43m\"\u001b[39;49m\u001b[38;5;124;43mshell\u001b[39;49m\u001b[38;5;124;43m\"\u001b[39;49m\u001b[43m)\u001b[49m\u001b[43m,\u001b[49m\n\u001b[0;32m   1079\u001b[0m \u001b[43m    \u001b[49m\u001b[43mpassword\u001b[49m\u001b[38;5;241;43m=\u001b[39;49m\u001b[38;5;28;43;01mFalse\u001b[39;49;00m\u001b[43m,\u001b[49m\n\u001b[0;32m   1080\u001b[0m \u001b[43m\u001b[49m\u001b[43m)\u001b[49m\n",
      "File \u001b[1;32m~\\anaconda3\\lib\\site-packages\\ipykernel\\kernelbase.py:1120\u001b[0m, in \u001b[0;36mKernel._input_request\u001b[1;34m(self, prompt, ident, parent, password)\u001b[0m\n\u001b[0;32m   1117\u001b[0m             \u001b[38;5;28;01mbreak\u001b[39;00m\n\u001b[0;32m   1118\u001b[0m \u001b[38;5;28;01mexcept\u001b[39;00m \u001b[38;5;167;01mKeyboardInterrupt\u001b[39;00m:\n\u001b[0;32m   1119\u001b[0m     \u001b[38;5;66;03m# re-raise KeyboardInterrupt, to truncate traceback\u001b[39;00m\n\u001b[1;32m-> 1120\u001b[0m     \u001b[38;5;28;01mraise\u001b[39;00m \u001b[38;5;167;01mKeyboardInterrupt\u001b[39;00m(\u001b[38;5;124m\"\u001b[39m\u001b[38;5;124mInterrupted by user\u001b[39m\u001b[38;5;124m\"\u001b[39m) \u001b[38;5;28;01mfrom\u001b[39;00m \u001b[38;5;28mNone\u001b[39m\n\u001b[0;32m   1121\u001b[0m \u001b[38;5;28;01mexcept\u001b[39;00m \u001b[38;5;167;01mException\u001b[39;00m:\n\u001b[0;32m   1122\u001b[0m     \u001b[38;5;28mself\u001b[39m\u001b[38;5;241m.\u001b[39mlog\u001b[38;5;241m.\u001b[39mwarning(\u001b[38;5;124m\"\u001b[39m\u001b[38;5;124mInvalid Message:\u001b[39m\u001b[38;5;124m\"\u001b[39m, exc_info\u001b[38;5;241m=\u001b[39m\u001b[38;5;28;01mTrue\u001b[39;00m)\n",
      "\u001b[1;31mKeyboardInterrupt\u001b[0m: Interrupted by user"
     ]
    }
   ],
   "source": [
    "def add():\n",
    "    a=int(input('enter a '))\n",
    "    b=int(input('enter b '))\n",
    "    result=a+b\n",
    "    print('the addition of two variable is',result)\n",
    "print('Befote function call')\n",
    "add()\n",
    "print('After function call ')"
   ]
  },
  {
   "cell_type": "markdown",
   "id": "160874fc",
   "metadata": {},
   "source": [
    "There are four ways to define function\n",
    "- Takes Nothing,return Nothing\n",
    "- Takes Something, return Nothing\n",
    "- Takes Nothing, return Something\n",
    "- Takes Someethong, return Something"
   ]
  },
  {
   "cell_type": "code",
   "execution_count": null,
   "id": "cba02b70",
   "metadata": {},
   "outputs": [],
   "source": [
    "# Takes Nothing return Nothing\n",
    "def add():\n",
    "    a=int(input('enter a '))\n",
    "    b=int(input('enter b '))\n",
    "    result=a+b\n",
    "    print('the addition of two variable is',result)\n",
    "add()"
   ]
  },
  {
   "cell_type": "code",
   "execution_count": null,
   "id": "53115e6c",
   "metadata": {},
   "outputs": [],
   "source": [
    "# Takes Something, return Nothing\n",
    "def add(x,y): # parameters or formal parameters\n",
    "    result=x+y\n",
    "    print('the addition of two variable is',result)\n",
    "print('Please enter Two number')\n",
    "a=int(input('enter number '))\n",
    "b=int(input('enter number '))\n",
    "add(a,b) # arguments or actual parameters\n"
   ]
  },
  {
   "cell_type": "code",
   "execution_count": null,
   "id": "22130058",
   "metadata": {},
   "outputs": [],
   "source": [
    "# Takes Nothing return Something\n",
    "def add():\n",
    "    print('Please enter Two number')\n",
    "    x=int(input('enter number '))\n",
    "    y=int(input('enter number '))\n",
    "    \n",
    "    result=x+y\n",
    "#     print('hii')\n",
    "    \n",
    "    return result\n",
    "    print('hello')\n",
    "\n",
    "add()\n",
    "# print(t)\n",
    "print('yess')"
   ]
  },
  {
   "cell_type": "code",
   "execution_count": null,
   "id": "a8327ca5",
   "metadata": {},
   "outputs": [],
   "source": [
    "# Takes something, return something\n",
    "def add(x,y):\n",
    "    result=x+y\n",
    "    \n",
    "    return result\n",
    "a=11\n",
    "b=6\n",
    "# print(add(a,b))\n",
    "receive=add(a,b)\n",
    "print(receive)"
   ]
  },
  {
   "cell_type": "code",
   "execution_count": null,
   "id": "da486245",
   "metadata": {},
   "outputs": [],
   "source": [
    "### when fuction returns nothing that time it returns none\n",
    "def myfunc():\n",
    "    print('hello')\n",
    "rec=myfunc()\n",
    "print(rec,'----',type(rec))"
   ]
  },
  {
   "cell_type": "code",
   "execution_count": null,
   "id": "82189e90",
   "metadata": {},
   "outputs": [],
   "source": [
    "def sub(R,S):\n",
    "    print('hiii')\n",
    "    print('1')\n",
    "   \n",
    "    return R-S\n",
    "    print('hello')\n",
    "    print('2')\n",
    "X=10\n",
    "Y=20\n",
    "r=sub(X,Y)\n",
    "print(r)"
   ]
  },
  {
   "cell_type": "markdown",
   "id": "b65567b8",
   "metadata": {},
   "source": [
    "#### Arguments of a Function\n",
    "Arguments are the values passed inside the parenthesis of the function. A function can have any\n",
    "number of arguments separated by a comma."
   ]
  },
  {
   "cell_type": "code",
   "execution_count": null,
   "id": "0ea06ef2",
   "metadata": {},
   "outputs": [],
   "source": [
    "def evenOdd(x): # in this function we given an argument x\n",
    "    if (x % 2 == 0):\n",
    " # we can use if-else or for loops or and procedure for creating function\n",
    "         print(\"even\")\n",
    "    else:\n",
    "        print(\"odd\")\n",
    "evenOdd(2) # it will first use function on argument 2\n",
    "evenOdd(3) # next for argument 3"
   ]
  },
  {
   "cell_type": "markdown",
   "id": "fbe113e2",
   "metadata": {},
   "source": [
    "### WAF to display area of rectangle"
   ]
  },
  {
   "cell_type": "code",
   "execution_count": null,
   "id": "6b475f48",
   "metadata": {},
   "outputs": [],
   "source": [
    "def area_rec():\n",
    "    l = int(input('Enter the Length:'))\n",
    "    b = int(input('Enter the breath:'))\n",
    "    ar = l*b\n",
    "    print(ar)\n",
    "area_rec()"
   ]
  },
  {
   "cell_type": "markdown",
   "id": "fe0f5461",
   "metadata": {},
   "source": [
    "### WAF to display voumne of sphere"
   ]
  },
  {
   "cell_type": "code",
   "execution_count": null,
   "id": "654aecc9",
   "metadata": {},
   "outputs": [],
   "source": [
    "def vol(pie,r):\n",
    "    \"\"\" this is for volume of a sphere\"\"\"\n",
    "    c = 4/3*pie*r**2\n",
    "    print(round(c,2))\n",
    "vol(3.14,8)"
   ]
  },
  {
   "cell_type": "markdown",
   "id": "00c4b830",
   "metadata": {},
   "source": [
    "### Types of Arguments\n",
    "\n",
    "Python supports various types of arguments that can be passed at the time of the function call.\n",
    "Arguments are specified after the function name, inside the parentheses. You can add as many\n",
    "arguments as you want, just separate them with a comma. Let’s discuss each type in detail.\n",
    "\n",
    "\n",
    "1. Positional arguments\n",
    "\n",
    "2. Default arguments\n",
    "\n",
    "3. keyword arguements\n",
    "\n",
    "4. variable arguments\n"
   ]
  },
  {
   "cell_type": "markdown",
   "id": "aa10f6ab",
   "metadata": {},
   "source": [
    "### 1. Positional Arguments:\n",
    "if there are more than one parameters, how does python know which arguements in the call statement has to be assigned to which parameter.\n",
    "\n",
    "### by default parameters gets the value by position"
   ]
  },
  {
   "cell_type": "code",
   "execution_count": null,
   "id": "6abb38fc",
   "metadata": {},
   "outputs": [],
   "source": [
    "# we gave 1 argument and 1 default argument in which we specified its value\n",
    "def myFun(x, y):\n",
    "    print(\"x: \", x)\n",
    "    print(\"y: \", y)\n",
    "myFun(10,20)\n",
    "# you only have to give 1 argument x as y is already soecified in function."
   ]
  },
  {
   "cell_type": "markdown",
   "id": "4cbcf581",
   "metadata": {},
   "source": [
    "#### 2. Default arguments\n",
    "A default argument is a parameter that assumes a default value if a value is not provided in the\n",
    "function call for that argument. The following example illustrates Default arguments."
   ]
  },
  {
   "cell_type": "code",
   "execution_count": 18,
   "id": "1011f095",
   "metadata": {},
   "outputs": [
    {
     "name": "stdout",
     "output_type": "stream",
     "text": [
      "x:  10\n",
      "y:  20\n"
     ]
    }
   ],
   "source": [
    "# we gave 1 argument and 1 default argument in which we specified its value\n",
    "def myFun(x,y=20):\n",
    "    print(\"x: \", x)\n",
    "    print(\"y: \", y)\n",
    "myFun(10)\n",
    "# you only have to give 1 argument x as y is already soecified in function."
   ]
  },
  {
   "cell_type": "markdown",
   "id": "63b01824",
   "metadata": {},
   "source": [
    "#### nOTE : NON-DEFAULT SHOULD NOT BE FOLLOWED BY  THE DEFAULT ARGUEMENTS "
   ]
  },
  {
   "cell_type": "markdown",
   "id": "62295c89",
   "metadata": {},
   "source": [
    "### Note : python will show an error when incorrect number of arguments passed to the function call. the arguments must match all the parameters in order,number and type as defined  in the function"
   ]
  },
  {
   "cell_type": "markdown",
   "id": "cc991194",
   "metadata": {},
   "source": [
    "#### 3.  Keyword arguments\n",
    "The idea is to allow the caller to specify the argument name with values so that caller does not\n",
    "need to remember the order of parameters.\n"
   ]
  },
  {
   "cell_type": "code",
   "execution_count": null,
   "id": "2410b0c8",
   "metadata": {},
   "outputs": [],
   "source": [
    "def student(firstname, lastname):\n",
    "    print(firstname, lastname)\n",
    "# Keyword arguments\n",
    "# same as normal arguments but you can specify the argument\n",
    "student(firstname='Madrid', lastname='Solutions')\n",
    "student(lastname='Solutions', firstname='Madrid')\n",
    "student(\"madrid\")\n",
    "# we gave same output but in diffrent order and still get same output\n",
    "# beacuse of keyword argument because we specified the arguments"
   ]
  },
  {
   "cell_type": "markdown",
   "id": "80dbdd17",
   "metadata": {},
   "source": [
    "### 4. Variable number of arguments : If we don’t know how many arguments a function will receive during runtime we can use *args to receive those arguments in the function definition.\n"
   ]
  },
  {
   "cell_type": "markdown",
   "id": "1bce2d5d",
   "metadata": {},
   "source": [
    "we can pass a variable number of arguments to a function using special symbols. There are two special symbols:\n",
    "\n",
    "*args (Non-Keyword Arguments)\n",
    "**kwargs (Keyword Arguments)"
   ]
  },
  {
   "cell_type": "code",
   "execution_count": 22,
   "id": "86fc7e87",
   "metadata": {},
   "outputs": [
    {
     "name": "stdout",
     "output_type": "stream",
     "text": [
      "(2, 3)\n",
      "<class 'tuple'>\n",
      "5\n",
      "(3, 4, 7)\n",
      "<class 'tuple'>\n",
      "14\n"
     ]
    }
   ],
   "source": [
    "def add(*args):\n",
    "    type(args)\n",
    "    print(args)\n",
    "    sum=0\n",
    "    for arg in args:\n",
    "        sum=sum+arg\n",
    "    print(type(args))\n",
    "    print(sum)\n",
    " \n",
    " \n",
    "add(2,3)\n",
    "add(3,4,7)\n",
    "#add(3,4,5,6,7)"
   ]
  },
  {
   "cell_type": "code",
   "execution_count": null,
   "id": "d8b5ed13",
   "metadata": {},
   "outputs": [],
   "source": [
    "def myFun(**kwargs):\n",
    "    for key, value in kwargs.items():\n",
    "        print((key, value))\n",
    "        #print(kwargs.items())\n",
    " \n",
    " \n",
    "# Driver code\n",
    "myFun(first='Gs', mid='for', last='Gs')\n",
    "myFun(first='ban', mid='akjak')"
   ]
  },
  {
   "cell_type": "code",
   "execution_count": null,
   "id": "42a37bb3",
   "metadata": {},
   "outputs": [],
   "source": [
    "def find_average(*numbers):\n",
    "    print(numbers,type(numbers))\n",
    "    print('average of all the numbers',sum(numbers)/len(numbers))\n",
    "    \n",
    "    \n",
    "find_average(10,20,30,40,50,60,70,80,90,100,110,120,130)"
   ]
  },
  {
   "cell_type": "markdown",
   "id": "60f99e32",
   "metadata": {},
   "source": [
    "### The return statement\n",
    "The function return statement is used to exit from a function and go back to the function caller\n",
    "and return the specified value or data item to the caller.\n",
    "\n",
    "\n",
    "\n",
    "Syntax: return [expression_list]\n",
    "\n",
    "\n",
    "\n",
    "The return statement can consist of a variable, an expression, or a constant which is returned to\n",
    "the end of the function execution. If none of the above is present with the return statement a\n",
    "None object is returned."
   ]
  },
  {
   "cell_type": "code",
   "execution_count": null,
   "id": "36558d43",
   "metadata": {},
   "outputs": [],
   "source": [
    "def square_value(num):\n",
    " \"\"\"This function returns the square value of the entered number\"\"\"\n",
    " return num**2\n",
    " # ranther than printing result we can use return for getting value\n",
    "print(square_value(2)) # it will return square of 2\n",
    "print(square_value(-4)) # it will return square of -4"
   ]
  },
  {
   "cell_type": "code",
   "execution_count": null,
   "id": "1ffb7248",
   "metadata": {},
   "outputs": [],
   "source": [
    "def square_value(num):\n",
    "    \"\"\"This function returns the square value of the entered number\"\"\"\n",
    "    s = 'style'\n",
    "    print(s)\n",
    "    return num**2\n",
    "    s = 'hello'\n",
    "    print(s)\n",
    "\n",
    "print(square_value(2))\n",
    "print(square_value(-4))"
   ]
  },
  {
   "cell_type": "code",
   "execution_count": null,
   "id": "235b8304",
   "metadata": {},
   "outputs": [],
   "source": [
    "def square_value(num):\n",
    "    \n",
    "\n",
    "    return num**2\n",
    "    print('square of',num)\n",
    "    \n",
    "    \n",
    "\n",
    "square_value(2)        # it will return square of 2\n",
    "# print(square_value(-4))"
   ]
  },
  {
   "cell_type": "markdown",
   "id": "e7e2d556",
   "metadata": {},
   "source": [
    "### Scope and Lifetime of Variables in Python\n",
    "\n",
    "A variable isn’t visible everywhere and alive every time. We study this in functions because the scope and lifetime for a variable depend on whether it is inside a function.\n",
    "\n",
    "\n",
    "A variable’s scope tells us where in the program it is visible. A variable may have local or global scope.\n",
    "\n",
    "\n",
    "a) Local Scope- A variable that is declared inside a function has a local scope. In other words, it is local to that function.\n",
    "Local variables will only have their existence inside a function. Which means you cannot use a local variable outside a function.\n",
    "\n",
    "\n",
    "b) Global Scope-:\n",
    "\n",
    "When you declare a variable outside python function, or inside a function with global keyword then that variable will be called as global variable. It means that it is visible everywhere within the program.\n",
    "Global variable can be accessed inside a function or outside a function.\n",
    "\n",
    "\n",
    "\n",
    "note-: However, you can’t change its value from inside a local scope (here, inside a function). To do so, you must declare it global inside the function, using the ‘global’ keyword."
   ]
  },
  {
   "cell_type": "markdown",
   "id": "36c6544e",
   "metadata": {},
   "source": [
    "### Local scope"
   ]
  },
  {
   "cell_type": "code",
   "execution_count": null,
   "id": "d7964738",
   "metadata": {},
   "outputs": [],
   "source": [
    "def myfunc():\n",
    "  x = 300\n",
    "  print(x)\n",
    "\n",
    "myfunc()\n"
   ]
  },
  {
   "cell_type": "code",
   "execution_count": null,
   "id": "3e90fc53",
   "metadata": {},
   "outputs": [],
   "source": [
    "def myfunc():\n",
    "  x = 300\n",
    "  print(x)\n",
    "\n",
    "myfunc()\n",
    "print(x)  ### since x is local so we can't access it here."
   ]
  },
  {
   "cell_type": "code",
   "execution_count": null,
   "id": "40e17f34",
   "metadata": {},
   "outputs": [],
   "source": [
    "### The local variable can be accessed from a function within the function:\n",
    "\n",
    "def myfunc():\n",
    "  x = 300\n",
    "  def myinnerfunc():\n",
    "    print(x)\n",
    "  myinnerfunc()\n",
    "\n",
    "myfunc()"
   ]
  },
  {
   "cell_type": "markdown",
   "id": "fb4e1e38",
   "metadata": {},
   "source": [
    "### Global "
   ]
  },
  {
   "cell_type": "code",
   "execution_count": null,
   "id": "04c9456e",
   "metadata": {},
   "outputs": [],
   "source": [
    "x = 300\n",
    "\n",
    "def myfunc():\n",
    "  print(x)\n",
    "\n",
    "myfunc()\n",
    "\n",
    "print(x)"
   ]
  },
  {
   "cell_type": "markdown",
   "id": "0afbe78d",
   "metadata": {},
   "source": [
    "### Naming Variables\n",
    "If you operate with the same variable name inside and outside of a function, Python will treat them as two separate variables, one available in the global scope (outside the function) and one available in the local scope (inside the function):\n",
    "\n",
    "#### \n",
    "#### The following  function will print the local x, and then the code will print the global x:"
   ]
  },
  {
   "cell_type": "code",
   "execution_count": null,
   "id": "af249323",
   "metadata": {},
   "outputs": [],
   "source": [
    "x = 300\n",
    "\n",
    "def myfunc():\n",
    "  x = 200\n",
    "  print(x)\n",
    "\n",
    "myfunc()\n",
    "\n",
    "print(x)"
   ]
  },
  {
   "cell_type": "markdown",
   "id": "30ea7793",
   "metadata": {},
   "source": [
    "### When to use Global Keyword\n",
    "If you need to create a global variable, but are stuck in the local scope, you can use the global keyword.\n",
    "\n",
    "The global keyword makes the variable global.\n",
    "\n",
    "\n",
    "\n",
    "### gloabl keyword use :  use the global keyword if you want to make a change to a global variable inside a function.\n",
    "\n",
    "\n",
    "Example\n",
    "If you use the global keyword, the variable belongs to the global scope:"
   ]
  },
  {
   "cell_type": "code",
   "execution_count": null,
   "id": "cc6df2a4",
   "metadata": {},
   "outputs": [],
   "source": [
    "x = 300\n",
    "\n",
    "def myfunc():\n",
    "    print(x)\n",
    "    x = 200\n",
    "\n",
    "myfunc()\n",
    "\n",
    "print(x)"
   ]
  },
  {
   "cell_type": "code",
   "execution_count": null,
   "id": "acf0fca8",
   "metadata": {},
   "outputs": [],
   "source": [
    "x = 300\n",
    "\n",
    "def myfunc():\n",
    "    #print(x)\n",
    "    x = 200\n",
    "    print(x)\n",
    "\n",
    "myfunc()\n",
    "\n",
    "print(x)"
   ]
  },
  {
   "cell_type": "code",
   "execution_count": null,
   "id": "d7688ec8",
   "metadata": {},
   "outputs": [],
   "source": [
    "x = 300\n",
    "\n",
    "def myfunc():\n",
    "    global x\n",
    "    x = 200\n",
    "    print(x)\n",
    "\n",
    "myfunc()\n",
    "\n",
    "print(x)"
   ]
  },
  {
   "cell_type": "code",
   "execution_count": null,
   "id": "bfa24a29",
   "metadata": {},
   "outputs": [],
   "source": [
    "x = 300\n",
    "\n",
    "def myfunc():\n",
    "    global x\n",
    "    print(x)\n",
    "    x = 200\n",
    "\n",
    "myfunc()\n",
    "\n",
    "print(x)"
   ]
  },
  {
   "cell_type": "code",
   "execution_count": null,
   "id": "45193c1b",
   "metadata": {},
   "outputs": [],
   "source": [
    "# Python program to demonstrate\n",
    "# scope of variable\n",
    "a = 1\n",
    "# Uses global because there is no local 'a'\n",
    "def f():\n",
    "    print('Inside f() : ', a)\n",
    "# Variable 'a' is redefined as a local\n",
    "def g():\n",
    "    a = 2\n",
    "    print('Inside g() : ', a)\n",
    "# Uses global keyword to modify global 'a'\n",
    "def h():\n",
    "    global a\n",
    "    a = 3\n",
    "    print('Inside h() : ', a)\n",
    "\n",
    "# Global scope\n",
    "print('global : ', a)\n",
    "f()\n",
    "print('global : ', a)\n",
    "g()\n",
    "print('global : ', a)\n",
    "h()\n",
    "print('global : ', a)\n"
   ]
  },
  {
   "cell_type": "markdown",
   "id": "9e556392",
   "metadata": {},
   "source": [
    "### questions"
   ]
  },
  {
   "cell_type": "code",
   "execution_count": null,
   "id": "6e7c00e7",
   "metadata": {},
   "outputs": [],
   "source": [
    "# waf to check the even numbers in list given by user\n",
    "l=[]\n",
    "n=int(input(\"enter the number of elements in list\"))\n",
    "for i in range(1,n+1):\n",
    "    e=int(input(\"enter the element in the list\"))\n",
    "    l.append(e)\n",
    "print(\"the list is  \", l)\n",
    "def even_check(l1):\n",
    "    for i in l1:\n",
    "        if(i%2==0):\n",
    "            print(\" the\", i , \"is  even \")\n",
    "even_check(l)\n"
   ]
  },
  {
   "cell_type": "code",
   "execution_count": null,
   "id": "a67fc5b8",
   "metadata": {},
   "outputs": [],
   "source": [
    "#WAP to greet people good morning whose name is having \"a\" in it , \n",
    "#and if the name is not having a in it u need to greet him with hello ,\n",
    "names1=input(\"enter the names \").split(\",\")\n",
    "print(\"the list of names is   \", names1)\n",
    "def names():\n",
    "    for i in names1:\n",
    "        if \"a\" in i:\n",
    "            print(\"good morning..!!!!\", i)\n",
    "        else:\n",
    "            print(\"hello..!!!!\" , i)\n",
    "names()        \n"
   ]
  },
  {
   "cell_type": "code",
   "execution_count": null,
   "id": "0ff5f59c",
   "metadata": {},
   "outputs": [],
   "source": [
    "#WAP to take the input as the shape from the user and print the area of the shape.\n",
    "\n",
    "def shape_area(shape1):\n",
    "    if shape1==\"triangle\":\n",
    "        b,h=input(\"enter the base and height  \").split(\",\")\n",
    "        b=int(b)\n",
    "        h=int(h)\n",
    "        area=1/2*b*h\n",
    "        print(\"the area of triangle is   :  \",area)\n",
    "    elif shape1==\"square\":\n",
    "        side=int(input(\"enter the side of square  :  \"))\n",
    "        area=side*side\n",
    "        print(\"the area if square is   \", area)\n",
    "    elif shape1==\"rectangle\":\n",
    "        l,b=input(\"enter the length and breadth of rectangle    \").split(\",\")\n",
    "        b=int(b)\n",
    "        l=int(l)\n",
    "        area=l*b\n",
    "        print(\"the area of rectangle is  : \", area)\n",
    "    elif shape1==\"circle\":\n",
    "        radius=int(input(\"enter the radius of circle :   \"))\n",
    "        area=3.14*radius**2\n",
    "        print(\"the area of circle is :  \", area)\n",
    "    else:\n",
    "        print(\"wrongly entered shapes \")\n",
    "while True:\n",
    "    print(\"U MAY WANT TO GET AREA OF BELOW MENTIONED SHAPES AS :     \\n\\n\")\n",
    "    print(\"1:  triangle\")\n",
    "    print(\"2:  square\")\n",
    "    print(\"3:  rectangle\")\n",
    "    print(\"4:  circle\")\n",
    "    shape=input(\"enter the shape :   \")\n",
    "    shape_area(shape)\n",
    "    c=input(\"you wish to continue to see the area of other shapes...YES  OR NO  :       \\n\\n \")\n",
    "    if (c==\"yes\"):\n",
    "        continue\n",
    "    else:\n",
    "        break"
   ]
  },
  {
   "cell_type": "markdown",
   "id": "f0084e94",
   "metadata": {},
   "source": []
  },
  {
   "cell_type": "code",
   "execution_count": null,
   "id": "fdc597b7",
   "metadata": {},
   "outputs": [],
   "source": [
    "#Waf to count the no. of vowels and consonants in a string :\n",
    "s = \"!@#$%^&ASDFGHJWERTYUIwertyudfghjcvbntyuiIUYqeee/.';\"\n",
    "s1=s.lower()\n",
    "count_v=0\n",
    "count_c=0\n",
    "s_count=0\n",
    "print(s1)\n",
    "for i in s1:\n",
    "    if i in \"aeiou\":\n",
    "        count_v=count_v+1\n",
    "    elif ord(i)>= 97 and ord(i)<=122:\n",
    "        count_c=count_c+1\n",
    "    else: \n",
    "        s_count=s_count+1\n",
    "        \n",
    "print(\"the number of vowels in given string is \"  , count_v)\n",
    "print(\"the number of consonants in given string is \"  , count_c)\n",
    "print(\"the number of special characters in given string is \"  , s_count)\n",
    "\n",
    "    \n"
   ]
  },
  {
   "cell_type": "markdown",
   "id": "0524d648",
   "metadata": {},
   "source": [
    "### Recursion"
   ]
  },
  {
   "cell_type": "markdown",
   "id": "cdac8108",
   "metadata": {},
   "source": [
    "### A function is said to be a recursive function if it calls itself.\n",
    "\n",
    "The following fn() function is a recursive function because it has a call to itself:"
   ]
  },
  {
   "cell_type": "code",
   "execution_count": 1,
   "id": "6e0d6772",
   "metadata": {},
   "outputs": [],
   "source": [
    "def fn():\n",
    "    # ...\n",
    "    fn()\n",
    "    # ..."
   ]
  },
  {
   "cell_type": "markdown",
   "id": "8961a209",
   "metadata": {},
   "source": [
    "### Base condition or termination condition or stopping condition\n",
    "Note : A recursive function must have at least one condition where it will stop calling itself, or the function will call itself indefinitely \n",
    "\n"
   ]
  },
  {
   "cell_type": "markdown",
   "id": "f4c46bee",
   "metadata": {},
   "source": [
    "### It is an iterative approach like while,loop"
   ]
  },
  {
   "cell_type": "markdown",
   "id": "ca6c0c9c",
   "metadata": {},
   "source": [
    "A big difference between recursion and iteration is the way that they end. While a loop executes the block of code, checking each time to see if it is at the end of the sequence, there is no such sequential end for recursive code."
   ]
  },
  {
   "cell_type": "markdown",
   "id": "e74d3617",
   "metadata": {},
   "source": [
    "One good example of this would be searching through a file system. You could start at the root folder, and then you could search through all the files and folders within that one. After that, you would enter each folder and search through each folder inside of that."
   ]
  },
  {
   "cell_type": "code",
   "execution_count": null,
   "id": "7c4150a4",
   "metadata": {},
   "outputs": [],
   "source": []
  },
  {
   "cell_type": "code",
   "execution_count": 3,
   "id": "2755f364",
   "metadata": {},
   "outputs": [
    {
     "name": "stdout",
     "output_type": "stream",
     "text": [
      "enter the number5\n",
      "120\n"
     ]
    }
   ],
   "source": [
    "def factorial(n):\n",
    "    if n==1:\n",
    "        return 1\n",
    "    else:\n",
    "        return n * factorial(n-1)\n",
    "num=int(input(\"enter the number\"))\n",
    "if num<0:\n",
    "    print(\"the factorial of\",num, \"does not exist\")\n",
    "elif num==1 or num ==0:\n",
    "    print(\"the factorial of num\",num)\n",
    "else:\n",
    "    fact=factorial(num)\n",
    "    print(fact)"
   ]
  },
  {
   "cell_type": "code",
   "execution_count": null,
   "id": "c8752f47",
   "metadata": {},
   "outputs": [],
   "source": []
  }
 ],
 "metadata": {
  "kernelspec": {
   "display_name": "Python 3 (ipykernel)",
   "language": "python",
   "name": "python3"
  },
  "language_info": {
   "codemirror_mode": {
    "name": "ipython",
    "version": 3
   },
   "file_extension": ".py",
   "mimetype": "text/x-python",
   "name": "python",
   "nbconvert_exporter": "python",
   "pygments_lexer": "ipython3",
   "version": "3.9.12"
  }
 },
 "nbformat": 4,
 "nbformat_minor": 5
}
